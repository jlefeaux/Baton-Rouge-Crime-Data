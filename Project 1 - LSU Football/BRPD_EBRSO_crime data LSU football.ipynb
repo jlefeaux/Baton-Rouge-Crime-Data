{
 "cells": [
  {
   "cell_type": "code",
   "execution_count": 1,
   "metadata": {},
   "outputs": [],
   "source": [
    "import pandas as pd"
   ]
  },
  {
   "cell_type": "markdown",
   "metadata": {},
   "source": [
    "# Crime data set"
   ]
  },
  {
   "cell_type": "markdown",
   "metadata": {},
   "source": [
    "👉🏼 Immediately use API field names as column names b/c the original column headers are in UPPERCASE"
   ]
  },
  {
   "cell_type": "code",
   "execution_count": null,
   "metadata": {},
   "outputs": [],
   "source": [
    "api_names = ['agency_name', 'incident_number', 'charge_id', 'supplemental', 'charge_date', 'report_date', 'approved_date', 'attempted_committed', 'street', 'street_2', 'city', 'state', 'postal_code', 'district', 'zone', 'sub_zone', 'statute_title', 'statute_description', 'statute_category', 'crime_against', 'nibrs_code', 'offense_description', 'census_block_group', 'council_district', 'crime_prevention_district', 'neighborhood', 'longitude', 'latitude', 'enforcement_agency_id', 'geolocation']"
   ]
  },
  {
   "cell_type": "markdown",
   "metadata": {},
   "source": [
    "## Initial read"
   ]
  },
  {
   "cell_type": "code",
   "execution_count": 52,
   "metadata": {},
   "outputs": [
    {
     "data": {
      "text/plain": [
       "(276956, 30)"
      ]
     },
     "execution_count": 52,
     "metadata": {},
     "output_type": "execute_result"
    }
   ],
   "source": [
    "so_pd_crimes = pd.read_csv('EBRP_Combined_Crime_Incidents.csv',\n",
    "                           header=0,\n",
    "                           names=api_names)\n",
    "\n",
    "so_pd_crimes.shape"
   ]
  },
  {
   "cell_type": "markdown",
   "metadata": {},
   "source": [
    "Capture the memory usage"
   ]
  },
  {
   "cell_type": "code",
   "execution_count": 53,
   "metadata": {},
   "outputs": [
    {
     "name": "stdout",
     "output_type": "stream",
     "text": [
      "443,995,768\n"
     ]
    }
   ],
   "source": [
    "raw_frame_memory = so_pd_crimes.memory_usage(index=True, deep=True).sum()\n",
    "print(f'{raw_frame_memory:,}')"
   ]
  },
  {
   "cell_type": "markdown",
   "metadata": {},
   "source": [
    "## Additional parameters for `read_csv()`"
   ]
  },
  {
   "cell_type": "code",
   "execution_count": 54,
   "metadata": {},
   "outputs": [],
   "source": [
    "# Datetime columns\n",
    "dt_cols = ['charge_date', 'report_date', 'approved_date']\n",
    "\n",
    "# Columns that will have category data type\n",
    "cat_cols = ['agency_name', 'attempted_committed', 'city', 'state', 'postal_code', 'district', 'zone', 'sub_zone', 'statute_title', 'statute_category', 'crime_against', 'nibrs_code', 'offense_description', 'council_district', 'crime_prevention_district', 'neighborhood', ]\n",
    "\n",
    "# Column types that will have String data type\n",
    "str_cols = ['incident_number', 'charge_id', 'street', 'street_2']\n",
    "\n",
    "# Create {column_name:dtype} dictonary to pass to dtype argument\n",
    "str_types = {col_name:'string' for col_name in str_cols}\n",
    "cat_types = {col_name:\"category\" for col_name in cat_cols}\n",
    "dtypes = {**cat_types, **str_types}\n",
    "\n",
    "# Do not load these columns. They contribute no information.\n",
    "omit_cols = ['census_block_group', 'geolocation', 'enforcement_agency_id' ]\n",
    "keep_cols = [col_name for col_name in api_names if col_name not in omit_cols]"
   ]
  },
  {
   "cell_type": "code",
   "execution_count": 55,
   "metadata": {},
   "outputs": [
    {
     "name": "stderr",
     "output_type": "stream",
     "text": [
      "C:\\Users\\jlefe\\AppData\\Local\\Temp\\ipykernel_16600\\1069470106.py:1: UserWarning: Could not infer format, so each element will be parsed individually, falling back to `dateutil`. To ensure parsing is consistent and as-expected, please specify a format.\n",
      "  so_pd_crimes = pd.read_csv('EBRP_Combined_Crime_Incidents.csv',\n",
      "C:\\Users\\jlefe\\AppData\\Local\\Temp\\ipykernel_16600\\1069470106.py:1: UserWarning: Could not infer format, so each element will be parsed individually, falling back to `dateutil`. To ensure parsing is consistent and as-expected, please specify a format.\n",
      "  so_pd_crimes = pd.read_csv('EBRP_Combined_Crime_Incidents.csv',\n"
     ]
    }
   ],
   "source": [
    "\n",
    "so_pd_crimes = pd.read_csv('EBRP_Combined_Crime_Incidents.csv',\n",
    "                           header=0,\n",
    "                           names=api_names,\n",
    "                           parse_dates=dt_cols,\n",
    "                           usecols=keep_cols,\n",
    "                           dtype=dtypes)"
   ]
  },
  {
   "cell_type": "markdown",
   "metadata": {},
   "source": [
    "Capture the memory usage of the new dataframe"
   ]
  },
  {
   "cell_type": "code",
   "execution_count": 56,
   "metadata": {},
   "outputs": [
    {
     "name": "stdout",
     "output_type": "stream",
     "text": [
      "120,225,482\n"
     ]
    }
   ],
   "source": [
    "reduced_frame_memory = so_pd_crimes.memory_usage(index=True, deep=True).sum()\n",
    "print(f'{reduced_frame_memory:,}')"
   ]
  },
  {
   "cell_type": "markdown",
   "metadata": {},
   "source": [
    "### Memory improvement"
   ]
  },
  {
   "cell_type": "code",
   "execution_count": 57,
   "metadata": {},
   "outputs": [
    {
     "name": "stdout",
     "output_type": "stream",
     "text": [
      "3.6930254769117914\n"
     ]
    }
   ],
   "source": [
    "print(f'{raw_frame_memory / reduced_frame_memory}')\n"
   ]
  },
  {
   "cell_type": "markdown",
   "metadata": {},
   "source": [
    "## Remove rows with charge_date prior to 2021-01-01\n",
    "\n",
    "These are crimes that occured prior to 2021 but weren't reported until later"
   ]
  },
  {
   "cell_type": "code",
   "execution_count": 58,
   "metadata": {},
   "outputs": [],
   "source": [
    "so_pd_crimes = so_pd_crimes[so_pd_crimes.charge_date.dt.year >= 2021]"
   ]
  },
  {
   "cell_type": "markdown",
   "metadata": {},
   "source": [
    "## Reduce dataframe to only Saturdays during football season (Sept - Dec)\n",
    "\n",
    "Make a copy to avoid slice warnings."
   ]
  },
  {
   "cell_type": "code",
   "execution_count": 30,
   "metadata": {},
   "outputs": [],
   "source": [
    "crimes_fb_sat = so_pd_crimes[(so_pd_crimes.charge_day.dt.month.isin([9, 10, 11, 12])) & (so_pd_crimes.charge_day.dt.day_of_week == 5)].copy()"
   ]
  },
  {
   "cell_type": "code",
   "execution_count": 75,
   "metadata": {},
   "outputs": [],
   "source": [
    "crimes_fb_sat.sample(15).to_csv('sample_crimes.csv')"
   ]
  },
  {
   "cell_type": "markdown",
   "metadata": {},
   "source": [
    "### Remove the old dataframe to release memory\n",
    "\n",
    "https://stackoverflow.com/questions/32247643/how-to-delete-multiple-pandas-python-dataframes-from-memory-to-save-ram"
   ]
  },
  {
   "cell_type": "code",
   "execution_count": 32,
   "metadata": {},
   "outputs": [],
   "source": [
    "import gc\n",
    "\n",
    "del so_pd_crimes\n",
    "gc.collect()\n",
    "so_pd_crimes=pd.DataFrame()"
   ]
  },
  {
   "cell_type": "markdown",
   "metadata": {},
   "source": [
    "# LSU football schedule"
   ]
  },
  {
   "cell_type": "markdown",
   "metadata": {},
   "source": [
    "The crime data set starts in 2021.  Use football seasons 2021-2023."
   ]
  },
  {
   "cell_type": "code",
   "execution_count": 59,
   "metadata": {},
   "outputs": [
    {
     "data": {
      "text/html": [
       "<div>\n",
       "<style scoped>\n",
       "    .dataframe tbody tr th:only-of-type {\n",
       "        vertical-align: middle;\n",
       "    }\n",
       "\n",
       "    .dataframe tbody tr th {\n",
       "        vertical-align: top;\n",
       "    }\n",
       "\n",
       "    .dataframe thead th {\n",
       "        text-align: right;\n",
       "    }\n",
       "</style>\n",
       "<table border=\"1\" class=\"dataframe\">\n",
       "  <thead>\n",
       "    <tr style=\"text-align: right;\">\n",
       "      <th></th>\n",
       "      <th>game_date</th>\n",
       "      <th>game_location</th>\n",
       "      <th>game_result</th>\n",
       "    </tr>\n",
       "  </thead>\n",
       "  <tbody>\n",
       "    <tr>\n",
       "      <th>0</th>\n",
       "      <td>2022-01-04</td>\n",
       "      <td>Houston, Texas</td>\n",
       "      <td>Kansas State 42, LSU 20</td>\n",
       "    </tr>\n",
       "    <tr>\n",
       "      <th>1</th>\n",
       "      <td>2021-11-27</td>\n",
       "      <td>Baton Rouge, La.</td>\n",
       "      <td>LSU 27, #14 Texas A&amp;M 24</td>\n",
       "    </tr>\n",
       "    <tr>\n",
       "      <th>2</th>\n",
       "      <td>2021-11-20</td>\n",
       "      <td>Baton Rouge, La.</td>\n",
       "      <td>LSU 27, ULM 14</td>\n",
       "    </tr>\n",
       "    <tr>\n",
       "      <th>3</th>\n",
       "      <td>2021-11-13</td>\n",
       "      <td>Baton Rouge, La.</td>\n",
       "      <td>Arkansas 16, LSU 13 (OT)</td>\n",
       "    </tr>\n",
       "    <tr>\n",
       "      <th>4</th>\n",
       "      <td>2021-11-06</td>\n",
       "      <td>Tuscaloosa, Ala.</td>\n",
       "      <td>#3 Alabama 20, LSU 14</td>\n",
       "    </tr>\n",
       "  </tbody>\n",
       "</table>\n",
       "</div>"
      ],
      "text/plain": [
       "   game_date     game_location               game_result\n",
       "0 2022-01-04    Houston, Texas   Kansas State 42, LSU 20\n",
       "1 2021-11-27  Baton Rouge, La.  LSU 27, #14 Texas A&M 24\n",
       "2 2021-11-20  Baton Rouge, La.            LSU 27, ULM 14\n",
       "3 2021-11-13  Baton Rouge, La.  Arkansas 16, LSU 13 (OT)\n",
       "4 2021-11-06  Tuscaloosa, Ala.     #3 Alabama 20, LSU 14"
      ]
     },
     "execution_count": 59,
     "metadata": {},
     "output_type": "execute_result"
    }
   ],
   "source": [
    "#  NB: Date column, changed \"Sept.\" to \"Sep\" in Excel first :P\n",
    "schedule = pd.read_csv('lsu_football_schedule_2020_2023.csv', parse_dates=[\"Date\"], date_format='%b. %d, %Y')\n",
    "schedule.columns=['game_date', 'game_location', 'game_result']\n",
    "schedule.head()"
   ]
  },
  {
   "cell_type": "markdown",
   "metadata": {},
   "source": [
    "## Select home games only"
   ]
  },
  {
   "cell_type": "code",
   "execution_count": 60,
   "metadata": {},
   "outputs": [],
   "source": [
    "home_games = schedule[schedule.game_location == \"Baton Rouge, La.\"].drop(columns=[\"game_location\"])"
   ]
  },
  {
   "cell_type": "markdown",
   "metadata": {},
   "source": [
    "# Join crime data and game schedule"
   ]
  },
  {
   "cell_type": "markdown",
   "metadata": {},
   "source": [
    "### Add `charge_day` to crime dataframe as join field "
   ]
  },
  {
   "cell_type": "code",
   "execution_count": 61,
   "metadata": {},
   "outputs": [],
   "source": [
    "crimes_fb_sat['charge_day'] = crimes_fb_sat['charge_date'].dt.floor('d') \n"
   ]
  },
  {
   "cell_type": "markdown",
   "metadata": {},
   "source": [
    "### Join tables"
   ]
  },
  {
   "cell_type": "code",
   "execution_count": 62,
   "metadata": {},
   "outputs": [],
   "source": [
    "crimes_fb_sat = pd.merge(left=crimes_fb_sat, right=home_games, left_on='charge_day', right_on='game_date', how='left')\n",
    "crimes_fb_sat['home_game'] = crimes_fb_sat['game_date'].notnull()\n",
    "crimes_fb_sat.drop(columns=[\"game_date\"], inplace=True)"
   ]
  },
  {
   "cell_type": "markdown",
   "metadata": {},
   "source": [
    "# Crime incidents\n",
    "- Keep incident ids only, not using other data at this time.\n",
    "- `drop_duplicates()`: An incident can have more than one crime, i.e., more than one row in the database"
   ]
  },
  {
   "cell_type": "code",
   "execution_count": 63,
   "metadata": {},
   "outputs": [],
   "source": [
    "incidents = crimes_fb_sat[['incident_number', 'charge_day', 'home_game']].drop_duplicates()"
   ]
  },
  {
   "cell_type": "markdown",
   "metadata": {},
   "source": [
    "## Incident counts"
   ]
  },
  {
   "cell_type": "code",
   "execution_count": 64,
   "metadata": {},
   "outputs": [],
   "source": [
    "incident_counts = incidents.groupby(['charge_day', 'home_game']).count().rename(columns={'incident_number':'incident_count'}).reset_index(level=1)\n"
   ]
  },
  {
   "cell_type": "markdown",
   "metadata": {},
   "source": [
    "## EDA"
   ]
  },
  {
   "cell_type": "code",
   "execution_count": 68,
   "metadata": {},
   "outputs": [
    {
     "name": "stdout",
     "output_type": "stream",
     "text": [
      "           count        mean        std    min    25%    50%    75%    max\n",
      "home_game                                                                 \n",
      "False       35.0  131.085714  32.905722   22.0  121.0  143.0  152.0  173.0\n",
      "True        21.0  144.904762  15.908818  115.0  132.0  145.0  156.0  172.0\n"
     ]
    }
   ],
   "source": [
    "print(incident_counts.groupby('home_game')['incident_count'].describe())"
   ]
  },
  {
   "cell_type": "code",
   "execution_count": 69,
   "metadata": {},
   "outputs": [],
   "source": [
    "import seaborn as sns\n",
    "from scipy import stats\n",
    "import matplotlib.pyplot as plt"
   ]
  },
  {
   "cell_type": "code",
   "execution_count": 70,
   "metadata": {},
   "outputs": [
    {
     "name": "stderr",
     "output_type": "stream",
     "text": [
      "C:\\Users\\jlefe\\AppData\\Local\\Temp\\ipykernel_16600\\517460460.py:1: FutureWarning: \n",
      "\n",
      "Passing `palette` without assigning `hue` is deprecated and will be removed in v0.14.0. Assign the `x` variable to `hue` and set `legend=False` for the same effect.\n",
      "\n",
      "  sns.boxplot(data=incident_counts, x=\"home_game\", y=\"incident_count\", palette=[\"#461D7C\", \"#FDD023\"])\n"
     ]
    },
    {
     "data": {
      "image/png": "[encoded data removed]",
      "text/plain": [
       "<Figure size 640x480 with 1 Axes>"
      ]
     },
     "metadata": {},
     "output_type": "display_data"
    }
   ],
   "source": [
    "sns.boxplot(data=incident_counts, x=\"home_game\", y=\"incident_count\", palette=[\"#461D7C\", \"#FDD023\"])\n",
    "plt.ylim(0,200)\n",
    "plt.show()"
   ]
  },
  {
   "cell_type": "code",
   "execution_count": 71,
   "metadata": {},
   "outputs": [
    {
     "data": {
      "text/plain": [
       "<Axes: ylabel='incident_count'>"
      ]
     },
     "execution_count": 71,
     "metadata": {},
     "output_type": "execute_result"
    },
    {
     "data": {
      "image/png": "[encoded data removed]",
      "text/plain": [
       "<Figure size 640x480 with 1 Axes>"
      ]
     },
     "metadata": {},
     "output_type": "display_data"
    }
   ],
   "source": [
    "sns.violinplot(data=incident_counts, hue='home_game', split=True, y='incident_count', palette=[\"#461D7C\", \"#FDD023\"])"
   ]
  },
  {
   "cell_type": "markdown",
   "metadata": {},
   "source": [
    "# The *t*-test\n",
    "\n",
    "- H0: On Saturdays during football season, there is no difference between the number of crimes reported when LSU plays at home and when they do not.\n",
    "- Ha: On Saturdays during football season, there is a difference between the number of crimes reported when LSU plays at home and when they do not."
   ]
  },
  {
   "cell_type": "code",
   "execution_count": 72,
   "metadata": {},
   "outputs": [
    {
     "name": "stdout",
     "output_type": "stream",
     "text": [
      "1.797790948060958 0.0778017719338946\n"
     ]
    }
   ],
   "source": [
    "alpha = 0.05\n",
    "t, p = stats.ttest_ind(hg_inc_counts, nhg_inc_counts)\n",
    "print(t, p)"
   ]
  },
  {
   "cell_type": "markdown",
   "metadata": {},
   "source": [
    "## Conclusion\n",
    "\n",
    "*p* = .078, so we cannot reject the null hypothesis at α = 0.05.  \n",
    "\n",
    "However, we could reject the null hypothesis at α = 0.10.\n",
    "\n",
    "Verbally, I would say there is \"some\" evidence to support the assertion that there are more crimes on home football days."
   ]
  }
 ],
 "metadata": {
  "kernelspec": {
   "display_name": "IOD2",
   "language": "python",
   "name": "python3"
  },
  "language_info": {
   "codemirror_mode": {
    "name": "ipython",
    "version": 3
   },
   "file_extension": ".py",
   "mimetype": "text/x-python",
   "name": "python",
   "nbconvert_exporter": "python",
   "pygments_lexer": "ipython3",
   "version": "3.10.14"
  }
 },
 "nbformat": 4,
 "nbformat_minor": 2
}
