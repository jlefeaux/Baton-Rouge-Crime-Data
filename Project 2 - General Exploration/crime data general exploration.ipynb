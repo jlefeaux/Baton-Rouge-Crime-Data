{
 "cells": [
  {
   "cell_type": "markdown",
   "metadata": {},
   "source": [
    "# 📚 Libraries"
   ]
  },
  {
   "cell_type": "code",
   "execution_count": 1,
   "metadata": {},
   "outputs": [
    {
     "data": {
      "application/javascript": "(function(root) {\n  function now() {\n    return new Date();\n  }\n\n  var force = true;\n  var py_version = '3.4.3'.replace('rc', '-rc.').replace('.dev', '-dev.');\n  var reloading = false;\n  var Bokeh = root.Bokeh;\n\n  if (typeof (root._bokeh_timeout) === \"undefined\" || force) {\n    root._bokeh_timeout = Date.now() + 5000;\n    root._bokeh_failed_load = false;\n  }\n\n  function run_callbacks() {\n    try {\n      root._bokeh_onload_callbacks.forEach(function(callback) {\n        if (callback != null)\n          callback();\n      });\n    } finally {\n      delete root._bokeh_onload_callbacks;\n    }\n    console.debug(\"Bokeh: all callbacks have finished\");\n  }\n\n  function load_libs(css_urls, js_urls, js_modules, js_exports, callback) {\n    if (css_urls == null) css_urls = [];\n    if (js_urls == null) js_urls = [];\n    if (js_modules == null) js_modules = [];\n    if (js_exports == null) js_exports = {};\n\n    root._bokeh_onload_callbacks.push(callback);\n\n    if (root._bokeh_is_loading > 0) {\n      console.debug(\"Bokeh: BokehJS is being loaded, scheduling callback at\", now());\n      return null;\n    }\n    if (js_urls.length === 0 && js_modules.length === 0 && Object.keys(js_exports).length === 0) {\n      run_callbacks();\n      return null;\n    }\n    if (!reloading) {\n      console.debug(\"Bokeh: BokehJS not loaded, scheduling load and callback at\", now());\n    }\n\n    function on_load() {\n      root._bokeh_is_loading--;\n      if (root._bokeh_is_loading === 0) {\n        console.debug(\"Bokeh: all BokehJS libraries/stylesheets loaded\");\n        run_callbacks()\n      }\n    }\n    window._bokeh_on_load = on_load\n\n    function on_error() {\n      console.error(\"failed to load \" + url);\n    }\n\n    var skip = [];\n    if (window.requirejs) {\n      window.requirejs.config({'packages': {}, 'paths': {}, 'shim': {}});\n      root._bokeh_is_loading = css_urls.length + 0;\n    } else {\n      root._bokeh_is_loading = css_urls.length + js_urls.length + js_modules.length + Object.keys(js_exports).length;\n    }\n\n    var existing_stylesheets = []\n    var links = document.getElementsByTagName('link')\n    for (var i = 0; i < links.length; i++) {\n      var link = links[i]\n      if (link.href != null) {\n\texisting_stylesheets.push(link.href)\n      }\n    }\n    for (var i = 0; i < css_urls.length; i++) {\n      var url = css_urls[i];\n      if (existing_stylesheets.indexOf(url) !== -1) {\n\ton_load()\n\tcontinue;\n      }\n      const element = document.createElement(\"link\");\n      element.onload = on_load;\n      element.onerror = on_error;\n      element.rel = \"stylesheet\";\n      element.type = \"text/css\";\n      element.href = url;\n      console.debug(\"Bokeh: injecting link tag for BokehJS stylesheet: \", url);\n      document.body.appendChild(element);\n    }    var existing_scripts = []\n    var scripts = document.getElementsByTagName('script')\n    for (var i = 0; i < scripts.length; i++) {\n      var script = scripts[i]\n      if (script.src != null) {\n\texisting_scripts.push(script.src)\n      }\n    }\n    for (var i = 0; i < js_urls.length; i++) {\n      var url = js_urls[i];\n      if (skip.indexOf(url) !== -1 || existing_scripts.indexOf(url) !== -1) {\n\tif (!window.requirejs) {\n\t  on_load();\n\t}\n\tcontinue;\n      }\n      var element = document.createElement('script');\n      element.onload = on_load;\n      element.onerror = on_error;\n      element.async = false;\n      element.src = url;\n      console.debug(\"Bokeh: injecting script tag for BokehJS library: \", url);\n      document.head.appendChild(element);\n    }\n    for (var i = 0; i < js_modules.length; i++) {\n      var url = js_modules[i];\n      if (skip.indexOf(url) !== -1 || existing_scripts.indexOf(url) !== -1) {\n\tif (!window.requirejs) {\n\t  on_load();\n\t}\n\tcontinue;\n      }\n      var element = document.createElement('script');\n      element.onload = on_load;\n      element.onerror = on_error;\n      element.async = false;\n      element.src = url;\n      element.type = \"module\";\n      console.debug(\"Bokeh: injecting script tag for BokehJS library: \", url);\n      document.head.appendChild(element);\n    }\n    for (const name in js_exports) {\n      var url = js_exports[name];\n      if (skip.indexOf(url) >= 0 || root[name] != null) {\n\tif (!window.requirejs) {\n\t  on_load();\n\t}\n\tcontinue;\n      }\n      var element = document.createElement('script');\n      element.onerror = on_error;\n      element.async = false;\n      element.type = \"module\";\n      console.debug(\"Bokeh: injecting script tag for BokehJS library: \", url);\n      element.textContent = `\n      import ${name} from \"${url}\"\n      window.${name} = ${name}\n      window._bokeh_on_load()\n      `\n      document.head.appendChild(element);\n    }\n    if (!js_urls.length && !js_modules.length) {\n      on_load()\n    }\n  };\n\n  function inject_raw_css(css) {\n    const element = document.createElement(\"style\");\n    element.appendChild(document.createTextNode(css));\n    document.body.appendChild(element);\n  }\n\n  var js_urls = [\"https://cdn.bokeh.org/bokeh/release/bokeh-3.4.3.min.js\", \"https://cdn.bokeh.org/bokeh/release/bokeh-gl-3.4.3.min.js\", \"https://cdn.bokeh.org/bokeh/release/bokeh-widgets-3.4.3.min.js\", \"https://cdn.bokeh.org/bokeh/release/bokeh-tables-3.4.3.min.js\", \"https://cdn.holoviz.org/panel/1.4.5/dist/panel.min.js\"];\n  var js_modules = [];\n  var js_exports = {};\n  var css_urls = [];\n  var inline_js = [    function(Bokeh) {\n      Bokeh.set_log_level(\"info\");\n    },\nfunction(Bokeh) {} // ensure no trailing comma for IE\n  ];\n\n  function run_inline_js() {\n    if ((root.Bokeh !== undefined) || (force === true)) {\n      for (var i = 0; i < inline_js.length; i++) {\n\ttry {\n          inline_js[i].call(root, root.Bokeh);\n\t} catch(e) {\n\t  if (!reloading) {\n\t    throw e;\n\t  }\n\t}\n      }\n      // Cache old bokeh versions\n      if (Bokeh != undefined && !reloading) {\n\tvar NewBokeh = root.Bokeh;\n\tif (Bokeh.versions === undefined) {\n\t  Bokeh.versions = new Map();\n\t}\n\tif (NewBokeh.version !== Bokeh.version) {\n\t  Bokeh.versions.set(NewBokeh.version, NewBokeh)\n\t}\n\troot.Bokeh = Bokeh;\n      }} else if (Date.now() < root._bokeh_timeout) {\n      setTimeout(run_inline_js, 100);\n    } else if (!root._bokeh_failed_load) {\n      console.log(\"Bokeh: BokehJS failed to load within specified timeout.\");\n      root._bokeh_failed_load = true;\n    }\n    root._bokeh_is_initializing = false\n  }\n\n  function load_or_wait() {\n    // Implement a backoff loop that tries to ensure we do not load multiple\n    // versions of Bokeh and its dependencies at the same time.\n    // In recent versions we use the root._bokeh_is_initializing flag\n    // to determine whether there is an ongoing attempt to initialize\n    // bokeh, however for backward compatibility we also try to ensure\n    // that we do not start loading a newer (Panel>=1.0 and Bokeh>3) version\n    // before older versions are fully initialized.\n    if (root._bokeh_is_initializing && Date.now() > root._bokeh_timeout) {\n      root._bokeh_is_initializing = false;\n      root._bokeh_onload_callbacks = undefined;\n      console.log(\"Bokeh: BokehJS was loaded multiple times but one version failed to initialize.\");\n      load_or_wait();\n    } else if (root._bokeh_is_initializing || (typeof root._bokeh_is_initializing === \"undefined\" && root._bokeh_onload_callbacks !== undefined)) {\n      setTimeout(load_or_wait, 100);\n    } else {\n      root._bokeh_is_initializing = true\n      root._bokeh_onload_callbacks = []\n      var bokeh_loaded = Bokeh != null && (Bokeh.version === py_version || (Bokeh.versions !== undefined && Bokeh.versions.has(py_version)));\n      if (!reloading && !bokeh_loaded) {\n\troot.Bokeh = undefined;\n      }\n      load_libs(css_urls, js_urls, js_modules, js_exports, function() {\n\tconsole.debug(\"Bokeh: BokehJS plotting callback run at\", now());\n\trun_inline_js();\n      });\n    }\n  }\n  // Give older versions of the autoload script a head-start to ensure\n  // they initialize before we start loading newer version.\n  setTimeout(load_or_wait, 100)\n}(window));",
      "application/vnd.holoviews_load.v0+json": ""
     },
     "metadata": {},
     "output_type": "display_data"
    },
    {
     "data": {
      "application/javascript": "\nif ((window.PyViz === undefined) || (window.PyViz instanceof HTMLElement)) {\n  window.PyViz = {comms: {}, comm_status:{}, kernels:{}, receivers: {}, plot_index: []}\n}\n\n\n    function JupyterCommManager() {\n    }\n\n    JupyterCommManager.prototype.register_target = function(plot_id, comm_id, msg_handler) {\n      if (window.comm_manager || ((window.Jupyter !== undefined) && (Jupyter.notebook.kernel != null))) {\n        var comm_manager = window.comm_manager || Jupyter.notebook.kernel.comm_manager;\n        comm_manager.register_target(comm_id, function(comm) {\n          comm.on_msg(msg_handler);\n        });\n      } else if ((plot_id in window.PyViz.kernels) && (window.PyViz.kernels[plot_id])) {\n        window.PyViz.kernels[plot_id].registerCommTarget(comm_id, function(comm) {\n          comm.onMsg = msg_handler;\n        });\n      } else if (typeof google != 'undefined' && google.colab.kernel != null) {\n        google.colab.kernel.comms.registerTarget(comm_id, (comm) => {\n          var messages = comm.messages[Symbol.asyncIterator]();\n          function processIteratorResult(result) {\n            var message = result.value;\n            console.log(message)\n            var content = {data: message.data, comm_id};\n            var buffers = []\n            for (var buffer of message.buffers || []) {\n              buffers.push(new DataView(buffer))\n            }\n            var metadata = message.metadata || {};\n            var msg = {content, buffers, metadata}\n            msg_handler(msg);\n            return messages.next().then(processIteratorResult);\n          }\n          return messages.next().then(processIteratorResult);\n        })\n      }\n    }\n\n    JupyterCommManager.prototype.get_client_comm = function(plot_id, comm_id, msg_handler) {\n      if (comm_id in window.PyViz.comms) {\n        return window.PyViz.comms[comm_id];\n      } else if (window.comm_manager || ((window.Jupyter !== undefined) && (Jupyter.notebook.kernel != null))) {\n        var comm_manager = window.comm_manager || Jupyter.notebook.kernel.comm_manager;\n        var comm = comm_manager.new_comm(comm_id, {}, {}, {}, comm_id);\n        if (msg_handler) {\n          comm.on_msg(msg_handler);\n        }\n      } else if ((plot_id in window.PyViz.kernels) && (window.PyViz.kernels[plot_id])) {\n        var comm = window.PyViz.kernels[plot_id].connectToComm(comm_id);\n        comm.open();\n        if (msg_handler) {\n          comm.onMsg = msg_handler;\n        }\n      } else if (typeof google != 'undefined' && google.colab.kernel != null) {\n        var comm_promise = google.colab.kernel.comms.open(comm_id)\n        comm_promise.then((comm) => {\n          window.PyViz.comms[comm_id] = comm;\n          if (msg_handler) {\n            var messages = comm.messages[Symbol.asyncIterator]();\n            function processIteratorResult(result) {\n              var message = result.value;\n              var content = {data: message.data};\n              var metadata = message.metadata || {comm_id};\n              var msg = {content, metadata}\n              msg_handler(msg);\n              return messages.next().then(processIteratorResult);\n            }\n            return messages.next().then(processIteratorResult);\n          }\n        }) \n        var sendClosure = (data, metadata, buffers, disposeOnDone) => {\n          return comm_promise.then((comm) => {\n            comm.send(data, metadata, buffers, disposeOnDone);\n          });\n        };\n        var comm = {\n          send: sendClosure\n        };\n      }\n      window.PyViz.comms[comm_id] = comm;\n      return comm;\n    }\n    window.PyViz.comm_manager = new JupyterCommManager();\n    \n\n\nvar JS_MIME_TYPE = 'application/javascript';\nvar HTML_MIME_TYPE = 'text/html';\nvar EXEC_MIME_TYPE = 'application/vnd.holoviews_exec.v0+json';\nvar CLASS_NAME = 'output';\n\n/**\n * Render data to the DOM node\n */\nfunction render(props, node) {\n  var div = document.createElement(\"div\");\n  var script = document.createElement(\"script\");\n  node.appendChild(div);\n  node.appendChild(script);\n}\n\n/**\n * Handle when a new output is added\n */\nfunction handle_add_output(event, handle) {\n  var output_area = handle.output_area;\n  var output = handle.output;\n  if ((output.data == undefined) || (!output.data.hasOwnProperty(EXEC_MIME_TYPE))) {\n    return\n  }\n  var id = output.metadata[EXEC_MIME_TYPE][\"id\"];\n  var toinsert = output_area.element.find(\".\" + CLASS_NAME.split(' ')[0]);\n  if (id !== undefined) {\n    var nchildren = toinsert.length;\n    var html_node = toinsert[nchildren-1].children[0];\n    html_node.innerHTML = output.data[HTML_MIME_TYPE];\n    var scripts = [];\n    var nodelist = html_node.querySelectorAll(\"script\");\n    for (var i in nodelist) {\n      if (nodelist.hasOwnProperty(i)) {\n        scripts.push(nodelist[i])\n      }\n    }\n\n    scripts.forEach( function (oldScript) {\n      var newScript = document.createElement(\"script\");\n      var attrs = [];\n      var nodemap = oldScript.attributes;\n      for (var j in nodemap) {\n        if (nodemap.hasOwnProperty(j)) {\n          attrs.push(nodemap[j])\n        }\n      }\n      attrs.forEach(function(attr) { newScript.setAttribute(attr.name, attr.value) });\n      newScript.appendChild(document.createTextNode(oldScript.innerHTML));\n      oldScript.parentNode.replaceChild(newScript, oldScript);\n    });\n    if (JS_MIME_TYPE in output.data) {\n      toinsert[nchildren-1].children[1].textContent = output.data[JS_MIME_TYPE];\n    }\n    output_area._hv_plot_id = id;\n    if ((window.Bokeh !== undefined) && (id in Bokeh.index)) {\n      window.PyViz.plot_index[id] = Bokeh.index[id];\n    } else {\n      window.PyViz.plot_index[id] = null;\n    }\n  } else if (output.metadata[EXEC_MIME_TYPE][\"server_id\"] !== undefined) {\n    var bk_div = document.createElement(\"div\");\n    bk_div.innerHTML = output.data[HTML_MIME_TYPE];\n    var script_attrs = bk_div.children[0].attributes;\n    for (var i = 0; i < script_attrs.length; i++) {\n      toinsert[toinsert.length - 1].childNodes[1].setAttribute(script_attrs[i].name, script_attrs[i].value);\n    }\n    // store reference to server id on output_area\n    output_area._bokeh_server_id = output.metadata[EXEC_MIME_TYPE][\"server_id\"];\n  }\n}\n\n/**\n * Handle when an output is cleared or removed\n */\nfunction handle_clear_output(event, handle) {\n  var id = handle.cell.output_area._hv_plot_id;\n  var server_id = handle.cell.output_area._bokeh_server_id;\n  if (((id === undefined) || !(id in PyViz.plot_index)) && (server_id !== undefined)) { return; }\n  var comm = window.PyViz.comm_manager.get_client_comm(\"hv-extension-comm\", \"hv-extension-comm\", function () {});\n  if (server_id !== null) {\n    comm.send({event_type: 'server_delete', 'id': server_id});\n    return;\n  } else if (comm !== null) {\n    comm.send({event_type: 'delete', 'id': id});\n  }\n  delete PyViz.plot_index[id];\n  if ((window.Bokeh !== undefined) & (id in window.Bokeh.index)) {\n    var doc = window.Bokeh.index[id].model.document\n    doc.clear();\n    const i = window.Bokeh.documents.indexOf(doc);\n    if (i > -1) {\n      window.Bokeh.documents.splice(i, 1);\n    }\n  }\n}\n\n/**\n * Handle kernel restart event\n */\nfunction handle_kernel_cleanup(event, handle) {\n  delete PyViz.comms[\"hv-extension-comm\"];\n  window.PyViz.plot_index = {}\n}\n\n/**\n * Handle update_display_data messages\n */\nfunction handle_update_output(event, handle) {\n  handle_clear_output(event, {cell: {output_area: handle.output_area}})\n  handle_add_output(event, handle)\n}\n\nfunction register_renderer(events, OutputArea) {\n  function append_mime(data, metadata, element) {\n    // create a DOM node to render to\n    var toinsert = this.create_output_subarea(\n    metadata,\n    CLASS_NAME,\n    EXEC_MIME_TYPE\n    );\n    this.keyboard_manager.register_events(toinsert);\n    // Render to node\n    var props = {data: data, metadata: metadata[EXEC_MIME_TYPE]};\n    render(props, toinsert[0]);\n    element.append(toinsert);\n    return toinsert\n  }\n\n  events.on('output_added.OutputArea', handle_add_output);\n  events.on('output_updated.OutputArea', handle_update_output);\n  events.on('clear_output.CodeCell', handle_clear_output);\n  events.on('delete.Cell', handle_clear_output);\n  events.on('kernel_ready.Kernel', handle_kernel_cleanup);\n\n  OutputArea.prototype.register_mime_type(EXEC_MIME_TYPE, append_mime, {\n    safe: true,\n    index: 0\n  });\n}\n\nif (window.Jupyter !== undefined) {\n  try {\n    var events = require('base/js/events');\n    var OutputArea = require('notebook/js/outputarea').OutputArea;\n    if (OutputArea.prototype.mime_types().indexOf(EXEC_MIME_TYPE) == -1) {\n      register_renderer(events, OutputArea);\n    }\n  } catch(err) {\n  }\n}\n",
      "application/vnd.holoviews_load.v0+json": ""
     },
     "metadata": {},
     "output_type": "display_data"
    },
    {
     "data": {
      "text/html": [
       "<style>*[data-root-id],\n",
       "*[data-root-id] > * {\n",
       "  box-sizing: border-box;\n",
       "  font-family: var(--jp-ui-font-family);\n",
       "  font-size: var(--jp-ui-font-size1);\n",
       "  color: var(--vscode-editor-foreground, var(--jp-ui-font-color1));\n",
       "}\n",
       "\n",
       "/* Override VSCode background color */\n",
       ".cell-output-ipywidget-background:has(\n",
       "    > .cell-output-ipywidget-background > .lm-Widget > *[data-root-id]\n",
       "  ),\n",
       ".cell-output-ipywidget-background:has(> .lm-Widget > *[data-root-id]) {\n",
       "  background-color: transparent !important;\n",
       "}\n",
       "</style>"
      ]
     },
     "metadata": {},
     "output_type": "display_data"
    },
    {
     "data": {
      "application/vnd.holoviews_exec.v0+json": "",
      "text/html": [
       "<div id='p1002'>\n",
       "  <div id=\"f3b43c91-1b1e-403f-a9a5-fd8ca7785b89\" data-root-id=\"p1002\" style=\"display: contents;\"></div>\n",
       "</div>\n",
       "<script type=\"application/javascript\">(function(root) {\n",
       "  var docs_json = {\"a6d194ac-65ee-45cd-9df2-658ae5a9cdee\":{\"version\":\"3.4.3\",\"title\":\"Bokeh Application\",\"roots\":[{\"type\":\"object\",\"name\":\"panel.models.browser.BrowserInfo\",\"id\":\"p1002\"},{\"type\":\"object\",\"name\":\"panel.models.comm_manager.CommManager\",\"id\":\"p1003\",\"attributes\":{\"plot_id\":\"p1002\",\"comm_id\":\"a832b77061e448d38a041fe0e6ff8e63\",\"client_comm_id\":\"f9b6b8c0d31d45ae81ff46ef82dbab7e\"}}],\"defs\":[{\"type\":\"model\",\"name\":\"ReactiveHTML1\"},{\"type\":\"model\",\"name\":\"FlexBox1\",\"properties\":[{\"name\":\"align_content\",\"kind\":\"Any\",\"default\":\"flex-start\"},{\"name\":\"align_items\",\"kind\":\"Any\",\"default\":\"flex-start\"},{\"name\":\"flex_direction\",\"kind\":\"Any\",\"default\":\"row\"},{\"name\":\"flex_wrap\",\"kind\":\"Any\",\"default\":\"wrap\"},{\"name\":\"gap\",\"kind\":\"Any\",\"default\":\"\"},{\"name\":\"justify_content\",\"kind\":\"Any\",\"default\":\"flex-start\"}]},{\"type\":\"model\",\"name\":\"FloatPanel1\",\"properties\":[{\"name\":\"config\",\"kind\":\"Any\",\"default\":{\"type\":\"map\"}},{\"name\":\"contained\",\"kind\":\"Any\",\"default\":true},{\"name\":\"position\",\"kind\":\"Any\",\"default\":\"right-top\"},{\"name\":\"offsetx\",\"kind\":\"Any\",\"default\":null},{\"name\":\"offsety\",\"kind\":\"Any\",\"default\":null},{\"name\":\"theme\",\"kind\":\"Any\",\"default\":\"primary\"},{\"name\":\"status\",\"kind\":\"Any\",\"default\":\"normalized\"}]},{\"type\":\"model\",\"name\":\"GridStack1\",\"properties\":[{\"name\":\"mode\",\"kind\":\"Any\",\"default\":\"warn\"},{\"name\":\"ncols\",\"kind\":\"Any\",\"default\":null},{\"name\":\"nrows\",\"kind\":\"Any\",\"default\":null},{\"name\":\"allow_resize\",\"kind\":\"Any\",\"default\":true},{\"name\":\"allow_drag\",\"kind\":\"Any\",\"default\":true},{\"name\":\"state\",\"kind\":\"Any\",\"default\":[]}]},{\"type\":\"model\",\"name\":\"drag1\",\"properties\":[{\"name\":\"slider_width\",\"kind\":\"Any\",\"default\":5},{\"name\":\"slider_color\",\"kind\":\"Any\",\"default\":\"black\"},{\"name\":\"value\",\"kind\":\"Any\",\"default\":50}]},{\"type\":\"model\",\"name\":\"click1\",\"properties\":[{\"name\":\"terminal_output\",\"kind\":\"Any\",\"default\":\"\"},{\"name\":\"debug_name\",\"kind\":\"Any\",\"default\":\"\"},{\"name\":\"clears\",\"kind\":\"Any\",\"default\":0}]},{\"type\":\"model\",\"name\":\"FastWrapper1\",\"properties\":[{\"name\":\"object\",\"kind\":\"Any\",\"default\":null},{\"name\":\"style\",\"kind\":\"Any\",\"default\":null}]},{\"type\":\"model\",\"name\":\"NotificationAreaBase1\",\"properties\":[{\"name\":\"js_events\",\"kind\":\"Any\",\"default\":{\"type\":\"map\"}},{\"name\":\"position\",\"kind\":\"Any\",\"default\":\"bottom-right\"},{\"name\":\"_clear\",\"kind\":\"Any\",\"default\":0}]},{\"type\":\"model\",\"name\":\"NotificationArea1\",\"properties\":[{\"name\":\"js_events\",\"kind\":\"Any\",\"default\":{\"type\":\"map\"}},{\"name\":\"notifications\",\"kind\":\"Any\",\"default\":[]},{\"name\":\"position\",\"kind\":\"Any\",\"default\":\"bottom-right\"},{\"name\":\"_clear\",\"kind\":\"Any\",\"default\":0},{\"name\":\"types\",\"kind\":\"Any\",\"default\":[{\"type\":\"map\",\"entries\":[[\"type\",\"warning\"],[\"background\",\"#ffc107\"],[\"icon\",{\"type\":\"map\",\"entries\":[[\"className\",\"fas fa-exclamation-triangle\"],[\"tagName\",\"i\"],[\"color\",\"white\"]]}]]},{\"type\":\"map\",\"entries\":[[\"type\",\"info\"],[\"background\",\"#007bff\"],[\"icon\",{\"type\":\"map\",\"entries\":[[\"className\",\"fas fa-info-circle\"],[\"tagName\",\"i\"],[\"color\",\"white\"]]}]]}]}]},{\"type\":\"model\",\"name\":\"Notification\",\"properties\":[{\"name\":\"background\",\"kind\":\"Any\",\"default\":null},{\"name\":\"duration\",\"kind\":\"Any\",\"default\":3000},{\"name\":\"icon\",\"kind\":\"Any\",\"default\":null},{\"name\":\"message\",\"kind\":\"Any\",\"default\":\"\"},{\"name\":\"notification_type\",\"kind\":\"Any\",\"default\":null},{\"name\":\"_destroyed\",\"kind\":\"Any\",\"default\":false}]},{\"type\":\"model\",\"name\":\"TemplateActions1\",\"properties\":[{\"name\":\"open_modal\",\"kind\":\"Any\",\"default\":0},{\"name\":\"close_modal\",\"kind\":\"Any\",\"default\":0}]},{\"type\":\"model\",\"name\":\"BootstrapTemplateActions1\",\"properties\":[{\"name\":\"open_modal\",\"kind\":\"Any\",\"default\":0},{\"name\":\"close_modal\",\"kind\":\"Any\",\"default\":0}]},{\"type\":\"model\",\"name\":\"TemplateEditor1\",\"properties\":[{\"name\":\"layout\",\"kind\":\"Any\",\"default\":[]}]},{\"type\":\"model\",\"name\":\"MaterialTemplateActions1\",\"properties\":[{\"name\":\"open_modal\",\"kind\":\"Any\",\"default\":0},{\"name\":\"close_modal\",\"kind\":\"Any\",\"default\":0}]},{\"type\":\"model\",\"name\":\"copy_to_clipboard1\",\"properties\":[{\"name\":\"fill\",\"kind\":\"Any\",\"default\":\"none\"},{\"name\":\"value\",\"kind\":\"Any\",\"default\":null}]}]}};\n",
       "  var render_items = [{\"docid\":\"a6d194ac-65ee-45cd-9df2-658ae5a9cdee\",\"roots\":{\"p1002\":\"f3b43c91-1b1e-403f-a9a5-fd8ca7785b89\"},\"root_ids\":[\"p1002\"]}];\n",
       "  var docs = Object.values(docs_json)\n",
       "  if (!docs) {\n",
       "    return\n",
       "  }\n",
       "  const py_version = docs[0].version.replace('rc', '-rc.').replace('.dev', '-dev.')\n",
       "  async function embed_document(root) {\n",
       "    var Bokeh = get_bokeh(root)\n",
       "    await Bokeh.embed.embed_items_notebook(docs_json, render_items);\n",
       "    for (const render_item of render_items) {\n",
       "      for (const root_id of render_item.root_ids) {\n",
       "\tconst id_el = document.getElementById(root_id)\n",
       "\tif (id_el.children.length && id_el.children[0].hasAttribute('data-root-id')) {\n",
       "\t  const root_el = id_el.children[0]\n",
       "\t  root_el.id = root_el.id + '-rendered'\n",
       "\t  for (const child of root_el.children) {\n",
       "            // Ensure JupyterLab does not capture keyboard shortcuts\n",
       "            // see: https://jupyterlab.readthedocs.io/en/4.1.x/extension/notebook.html#keyboard-interaction-model\n",
       "\t    child.setAttribute('data-lm-suppress-shortcuts', 'true')\n",
       "\t  }\n",
       "\t}\n",
       "      }\n",
       "    }\n",
       "  }\n",
       "  function get_bokeh(root) {\n",
       "    if (root.Bokeh === undefined) {\n",
       "      return null\n",
       "    } else if (root.Bokeh.version !== py_version) {\n",
       "      if (root.Bokeh.versions === undefined || !root.Bokeh.versions.has(py_version)) {\n",
       "\treturn null\n",
       "      }\n",
       "      return root.Bokeh.versions.get(py_version);\n",
       "    } else if (root.Bokeh.version === py_version) {\n",
       "      return root.Bokeh\n",
       "    }\n",
       "    return null\n",
       "  }\n",
       "  function is_loaded(root) {\n",
       "    var Bokeh = get_bokeh(root)\n",
       "    return (Bokeh != null && Bokeh.Panel !== undefined)\n",
       "  }\n",
       "  if (is_loaded(root)) {\n",
       "    embed_document(root);\n",
       "  } else {\n",
       "    var attempts = 0;\n",
       "    var timer = setInterval(function(root) {\n",
       "      if (is_loaded(root)) {\n",
       "        clearInterval(timer);\n",
       "        embed_document(root);\n",
       "      } else if (document.readyState == \"complete\") {\n",
       "        attempts++;\n",
       "        if (attempts > 200) {\n",
       "          clearInterval(timer);\n",
       "\t  var Bokeh = get_bokeh(root)\n",
       "\t  if (Bokeh == null || Bokeh.Panel == null) {\n",
       "            console.warn(\"Panel: ERROR: Unable to run Panel code because Bokeh or Panel library is missing\");\n",
       "\t  } else {\n",
       "\t    console.warn(\"Panel: WARNING: Attempting to render but not all required libraries could be resolved.\")\n",
       "\t    embed_document(root)\n",
       "\t  }\n",
       "        }\n",
       "      }\n",
       "    }, 25, root)\n",
       "  }\n",
       "})(window);</script>"
      ]
     },
     "metadata": {
      "application/vnd.holoviews_exec.v0+json": {
       "id": "p1002"
      }
     },
     "output_type": "display_data"
    }
   ],
   "source": [
    "import numpy as np\n",
    "import pandas as pd\n",
    "import psycopg as pg\n",
    "from sqlalchemy import create_engine\n",
    "import pickle\n",
    "import re\n",
    "import spacy\n",
    "\n",
    "from sklearn.model_selection import train_test_split\n",
    "from sklearn.model_selection import cross_val_score\n",
    "from sklearn.model_selection import KFold\n",
    "from sklearn.svm import SVC\n",
    "from sklearn.ensemble import RandomForestClassifier\n",
    "from sklearn.feature_extraction.text import CountVectorizer\n",
    "from sklearn.linear_model import LogisticRegression\n",
    "\n",
    "import matplotlib.pyplot as plt\n",
    "import seaborn as sns\n",
    "import hvplot.pandas\n",
    "import zipcodes\n",
    "import pprint"
   ]
  },
  {
   "cell_type": "markdown",
   "metadata": {},
   "source": [
    "# Helper functions"
   ]
  },
  {
   "cell_type": "markdown",
   "metadata": {},
   "source": [
    "## `info_df`"
   ]
  },
  {
   "cell_type": "markdown",
   "metadata": {},
   "source": [
    "This is a function that I plan to keep developing with more information columns in the returned dataframe."
   ]
  },
  {
   "cell_type": "code",
   "execution_count": 2,
   "metadata": {},
   "outputs": [],
   "source": [
    "def info_df(df):\n",
    "    non_null = len(df)-df.isnull().sum().values\n",
    "    null = df.isnull().sum().values\n",
    "    pct_non_null = np.round(100 * non_null / (non_null + null), 0)\n",
    "    types = df.dtypes.values\n",
    "    \n",
    "    info_df = pd.DataFrame({\n",
    "            \"name\": df.columns,\n",
    "            \"non_null\": non_null,\n",
    "            \"null\": null,\n",
    "            \"non_null_pct\": pct_non_null,\n",
    "            \"type\": types\n",
    "        }).set_index('name')\n",
    "        \n",
    "    return info_df"
   ]
  },
  {
   "cell_type": "markdown",
   "metadata": {},
   "source": [
    "# 🛡️ NIBRS data"
   ]
  },
  {
   "cell_type": "markdown",
   "metadata": {},
   "source": [
    "Data on incidents and offenses.\n",
    "\n",
    "Local PostgreSQL database created from downloaded `.csv` files.\n",
    "\n",
    "Using SQLAlchemy only b/c Pandas complains when you don't."
   ]
  },
  {
   "cell_type": "markdown",
   "metadata": {},
   "source": [
    "## Connection settings & engine"
   ]
  },
  {
   "cell_type": "code",
   "execution_count": 3,
   "metadata": {},
   "outputs": [],
   "source": [
    "# Database connection settings\n",
    "DB_NAME = \"NIBRS\"\n",
    "DB_USER = \"postgres\"\n",
    "DB_PASSWORD = \"admin\"\n",
    "DB_HOST = \"localhost\"\n",
    "DB_PORT = \"5432\"\n",
    "\n",
    "# SQLAlchemy connection string\n",
    "connection_string = f\"postgresql+psycopg://{DB_USER}:{DB_PASSWORD}@{DB_HOST}:{DB_PORT}/{DB_NAME}\"\n",
    "engine = create_engine(connection_string)"
   ]
  },
  {
   "cell_type": "markdown",
   "metadata": {},
   "source": [
    "## Data"
   ]
  },
  {
   "cell_type": "code",
   "execution_count": 6,
   "metadata": {},
   "outputs": [],
   "source": [
    "# Pandas kept complaining about this so I had to install SQLAlchemy and do it that way\n",
    "# with pg.connect(dbname=DB_NAME, user=DB_USER, password=DB_PASSWORD, host=DB_HOST, port=DB_PORT) as conn:\n",
    "#     nibrs_incidents = pd.read_sql(nibrs_incidents_sql, conn)"
   ]
  },
  {
   "cell_type": "code",
   "execution_count": 4,
   "metadata": {},
   "outputs": [],
   "source": [
    "# incidents reported by either EBRPD (police department) or EBRPSO (sheriff's office)\n",
    "nibrs_incidents_sql = 'SELECT agency_id, incident_id, incident_date, incident_hour FROM NIBRS_INCIDENT WHERE agency_id IN (7202, 7204)'\n",
    "nibrs_offenses_sql = 'SELECT offense_id, incident_id, offense_code, attempt_complete_flag FROM NIBRS_OFFENSE'\n",
    "nibrs_code_sql = 'SELECT offense_code as code, offense_name as description, crime_against, offense_category_name as category, offense_group as group FROM nibrs_offense_type'\n",
    "\n",
    "nibrs_codes = pd.read_sql(nibrs_code_sql, engine)\n",
    "nibrs_codes.columns = ['nibrs_' + c for c in nibrs_codes.columns]\n",
    "\n",
    "nibrs_offenses = pd.read_sql(nibrs_offenses_sql, engine)\n",
    "nibrs_incidents = pd.read_sql(nibrs_incidents_sql, engine)\n",
    "nibrs_crimes = pd.merge(left=nibrs_incidents, right=nibrs_offenses, on='incident_id')\n",
    "nibrs_crimes.columns = ['nibrs_' + c for c in nibrs_crimes.columns]"
   ]
  },
  {
   "cell_type": "code",
   "execution_count": 220,
   "metadata": {},
   "outputs": [
    {
     "data": {
      "text/html": [
       "<div>\n",
       "<style scoped>\n",
       "    .dataframe tbody tr th:only-of-type {\n",
       "        vertical-align: middle;\n",
       "    }\n",
       "\n",
       "    .dataframe tbody tr th {\n",
       "        vertical-align: top;\n",
       "    }\n",
       "\n",
       "    .dataframe thead th {\n",
       "        text-align: right;\n",
       "    }\n",
       "</style>\n",
       "<table border=\"1\" class=\"dataframe\">\n",
       "  <thead>\n",
       "    <tr style=\"text-align: right;\">\n",
       "      <th></th>\n",
       "      <th>nibrs_agency_id</th>\n",
       "      <th>nibrs_incident_id</th>\n",
       "      <th>nibrs_incident_date</th>\n",
       "      <th>nibrs_incident_hour</th>\n",
       "      <th>nibrs_offense_id</th>\n",
       "      <th>nibrs_offense_code</th>\n",
       "      <th>nibrs_attempt_complete_flag</th>\n",
       "    </tr>\n",
       "  </thead>\n",
       "  <tbody>\n",
       "    <tr>\n",
       "      <th>18917</th>\n",
       "      <td>7204</td>\n",
       "      <td>150967597</td>\n",
       "      <td>2021-07-07</td>\n",
       "      <td>16</td>\n",
       "      <td>180930640</td>\n",
       "      <td>13B</td>\n",
       "      <td>C</td>\n",
       "    </tr>\n",
       "    <tr>\n",
       "      <th>7369</th>\n",
       "      <td>7202</td>\n",
       "      <td>150917086</td>\n",
       "      <td>2021-09-17</td>\n",
       "      <td>9</td>\n",
       "      <td>180872288</td>\n",
       "      <td>220</td>\n",
       "      <td>A</td>\n",
       "    </tr>\n",
       "    <tr>\n",
       "      <th>17591</th>\n",
       "      <td>7204</td>\n",
       "      <td>150966620</td>\n",
       "      <td>2021-06-17</td>\n",
       "      <td>1</td>\n",
       "      <td>180929521</td>\n",
       "      <td>23A</td>\n",
       "      <td>C</td>\n",
       "    </tr>\n",
       "    <tr>\n",
       "      <th>23648</th>\n",
       "      <td>7204</td>\n",
       "      <td>150971782</td>\n",
       "      <td>2021-09-17</td>\n",
       "      <td>7</td>\n",
       "      <td>180935280</td>\n",
       "      <td>13B</td>\n",
       "      <td>C</td>\n",
       "    </tr>\n",
       "  </tbody>\n",
       "</table>\n",
       "</div>"
      ],
      "text/plain": [
       "       nibrs_agency_id  nibrs_incident_id nibrs_incident_date  \\\n",
       "18917             7204          150967597          2021-07-07   \n",
       "7369              7202          150917086          2021-09-17   \n",
       "17591             7204          150966620          2021-06-17   \n",
       "23648             7204          150971782          2021-09-17   \n",
       "\n",
       "       nibrs_incident_hour  nibrs_offense_id nibrs_offense_code  \\\n",
       "18917                   16         180930640                13B   \n",
       "7369                     9         180872288                220   \n",
       "17591                    1         180929521                23A   \n",
       "23648                    7         180935280                13B   \n",
       "\n",
       "      nibrs_attempt_complete_flag  \n",
       "18917                           C  \n",
       "7369                            A  \n",
       "17591                           C  \n",
       "23648                           C  "
      ]
     },
     "execution_count": 220,
     "metadata": {},
     "output_type": "execute_result"
    }
   ],
   "source": [
    "nibrs_crimes.sample(4)"
   ]
  },
  {
   "cell_type": "markdown",
   "metadata": {},
   "source": [
    "# 👮🏼‍♀️ EBRP Data"
   ]
  },
  {
   "cell_type": "markdown",
   "metadata": {},
   "source": [
    "Combined Crime Incidents from Open Data BR.\n",
    "\n",
    "\"Combined\": from Baton Rouge Police Department and East Baton Rouge Parish Sheriff's Office"
   ]
  },
  {
   "cell_type": "markdown",
   "metadata": {},
   "source": [
    "## Initial file load"
   ]
  },
  {
   "cell_type": "markdown",
   "metadata": {},
   "source": [
    "### Loading parameters"
   ]
  },
  {
   "cell_type": "code",
   "execution_count": 5,
   "metadata": {},
   "outputs": [],
   "source": [
    "filename = 'EBRP_Combined_Crime_Incidents_20241106.csv'\n",
    "\n",
    "api_names = ['agency_name', 'incident_number', 'charge_id', 'supplemental', 'charge_date', 'report_date', 'approved_date', 'attempted_committed', 'street', 'street_2', 'city', 'state', 'postal_code', 'district', 'zone', 'sub_zone', 'statute_title', 'statute_description', 'statute_category', 'crime_against', 'nibrs_code', 'offense_description', 'census_block_group', 'council_district', 'crime_prevention_district', 'neighborhood', 'longitude', 'latitude', 'enforcement_agency_id', 'geolocation']\n",
    "\n",
    "# Datetime columns\n",
    "dt_cols = ['charge_date', 'report_date', 'approved_date']\n",
    "\n",
    "# Columns that will have category data type\n",
    "cat_cols = ['agency_name', 'attempted_committed', 'city', 'state', 'postal_code', 'district', 'zone', 'sub_zone', 'statute_title', 'statute_category', 'crime_against', 'nibrs_code', 'offense_description', 'council_district', 'crime_prevention_district', 'neighborhood', ]\n",
    "\n",
    "# Column types that will have String data type\n",
    "str_cols = ['incident_number', 'charge_id', 'street', 'street_2', 'statute_description']\n",
    "\n",
    "# Create {column_name:dtype} dictonary to pass to dtype argument\n",
    "str_types = {col_name:'string' for col_name in str_cols}\n",
    "cat_types = {col_name:\"category\" for col_name in cat_cols}\n",
    "dtypes = {**cat_types, **str_types}\n",
    "\n",
    "# Do not load these columns. They contribute no information.\n",
    "omit_cols = ['census_block_group', 'geolocation', 'enforcement_agency_id' ]\n",
    "keep_cols = [col_name for col_name in api_names if col_name not in omit_cols]"
   ]
  },
  {
   "cell_type": "markdown",
   "metadata": {},
   "source": [
    "### Load from scratch (only when necessary)"
   ]
  },
  {
   "cell_type": "code",
   "execution_count": null,
   "metadata": {},
   "outputs": [],
   "source": [
    "# 🛑✋🏼 Do not run this code unless the loading parameters have changed.\n",
    "# Load the pickle, below, instead.\n",
    "\n",
    "\n",
    "# crimes = pd.read_csv(filename,\n",
    "#                            header=0,\n",
    "#                            names=api_names,\n",
    "#                            parse_dates=dt_cols,\n",
    "#                            usecols=keep_cols,\n",
    "#                            dtype=dtypes)"
   ]
  },
  {
   "cell_type": "markdown",
   "metadata": {},
   "source": [
    "Save pickle"
   ]
  },
  {
   "cell_type": "code",
   "execution_count": null,
   "metadata": {},
   "outputs": [],
   "source": [
    "# with open('initial_load.pickle', 'wb') as handle:\n",
    "#     pickle.dump(crimes, handle)"
   ]
  },
  {
   "cell_type": "markdown",
   "metadata": {},
   "source": [
    "### 🥒 Load pickle"
   ]
  },
  {
   "cell_type": "code",
   "execution_count": 30,
   "metadata": {},
   "outputs": [],
   "source": [
    "with open('brpdso_charges.pickle', 'rb') as handle:\n",
    "    crimes = pickle.load(handle)"
   ]
  },
  {
   "cell_type": "markdown",
   "metadata": {},
   "source": [
    "## Most basic cleaning"
   ]
  },
  {
   "cell_type": "markdown",
   "metadata": {},
   "source": [
    "### 🚩 Basic cleaning"
   ]
  },
  {
   "cell_type": "code",
   "execution_count": 31,
   "metadata": {},
   "outputs": [
    {
     "name": "stdout",
     "output_type": "stream",
     "text": [
      "507 duplicate rows removed (277,494 to 276,987)\n"
     ]
    }
   ],
   "source": [
    "# Remove crimes committed before 2021\n",
    "crimes = crimes[crimes.charge_date.dt.year >= 2021]\n",
    "\n",
    "# Remove November 2024 data\n",
    "crimes = crimes[crimes.charge_date <= '2024-10-31']\n",
    "\n",
    "# Remove duplicates\n",
    "num_rows_before = crimes.shape[0]\n",
    "# crimes = crimes.drop_duplicates(inplace=True)\n",
    "# Note to self: Start using assigment instead of inplace=True\n",
    "# => Easier to search for lines that change the object.\n",
    "crimes = crimes.drop_duplicates()\n",
    "num_rows_after = crimes.shape[0]\n",
    "print(f'{num_rows_before - num_rows_after:,} duplicate rows removed ({num_rows_before:,} to {num_rows_after:,})')\n",
    "\n",
    "# Replace NIBRS code 0 with NaN\n",
    "crimes['nibrs_code'] = crimes['nibrs_code'].astype('string').replace({'0':np.nan}).astype('category')"
   ]
  },
  {
   "cell_type": "markdown",
   "metadata": {},
   "source": [
    "### 🚩 Unify string cases -- convert ALL CAPS to lowercase or Title Case"
   ]
  },
  {
   "cell_type": "markdown",
   "metadata": {},
   "source": [
    "Also prevent looking at so many ALL CAPS"
   ]
  },
  {
   "cell_type": "code",
   "execution_count": 32,
   "metadata": {},
   "outputs": [],
   "source": [
    "# lower case\n",
    "lower_case = ['attempted_committed', 'crime_against', 'offense_description', 'statute_description', 'statute_title', 'statute_category' ]\n",
    "for c in lower_case:\n",
    "    col_dtype = dtypes[c]\n",
    "    crimes[c] = crimes[c].str.lower().astype(col_dtype) # Have to reapply the category type after performing string operation\n",
    "\n",
    "# Title Case\n",
    "title = ['street',\t'street_2',\t'city', 'crime_prevention_district', 'neighborhood']\n",
    "for c in title:\n",
    "    col_dtype = dtypes[c]\n",
    "    crimes[c] = crimes[c].apply(lambda str: str.title() if not pd.isna(str) else str).astype(col_dtype) # Have to reapply the category type after performing string operation\n"
   ]
  },
  {
   "cell_type": "markdown",
   "metadata": {},
   "source": [
    "There is only one record missing statute information.  It contains both the sole na in statute_title and the sole na value in statute description."
   ]
  },
  {
   "cell_type": "code",
   "execution_count": 10,
   "metadata": {},
   "outputs": [
    {
     "data": {
      "text/html": [
       "<div>\n",
       "<style scoped>\n",
       "    .dataframe tbody tr th:only-of-type {\n",
       "        vertical-align: middle;\n",
       "    }\n",
       "\n",
       "    .dataframe tbody tr th {\n",
       "        vertical-align: top;\n",
       "    }\n",
       "\n",
       "    .dataframe thead th {\n",
       "        text-align: right;\n",
       "    }\n",
       "</style>\n",
       "<table border=\"1\" class=\"dataframe\">\n",
       "  <thead>\n",
       "    <tr style=\"text-align: right;\">\n",
       "      <th></th>\n",
       "      <th>agency_name</th>\n",
       "      <th>incident_number</th>\n",
       "      <th>charge_id</th>\n",
       "      <th>supplemental</th>\n",
       "      <th>charge_date</th>\n",
       "      <th>report_date</th>\n",
       "      <th>approved_date</th>\n",
       "      <th>attempted_committed</th>\n",
       "      <th>street</th>\n",
       "      <th>street_2</th>\n",
       "      <th>...</th>\n",
       "      <th>statute_description</th>\n",
       "      <th>statute_category</th>\n",
       "      <th>crime_against</th>\n",
       "      <th>nibrs_code</th>\n",
       "      <th>offense_description</th>\n",
       "      <th>council_district</th>\n",
       "      <th>crime_prevention_district</th>\n",
       "      <th>neighborhood</th>\n",
       "      <th>longitude</th>\n",
       "      <th>latitude</th>\n",
       "    </tr>\n",
       "  </thead>\n",
       "  <tbody>\n",
       "    <tr>\n",
       "      <th>57816</th>\n",
       "      <td>BRPD</td>\n",
       "      <td>24-200057</td>\n",
       "      <td>1203905</td>\n",
       "      <td>NaN</td>\n",
       "      <td>2024-05-01 05:31:00</td>\n",
       "      <td>2024-05-01 05:31:00</td>\n",
       "      <td>2024-07-14 13:58:38</td>\n",
       "      <td>NaN</td>\n",
       "      <td>Dougherty Dr &amp; Blackwell Dr</td>\n",
       "      <td>&lt;NA&gt;</td>\n",
       "      <td>...</td>\n",
       "      <td>&lt;NA&gt;</td>\n",
       "      <td>other</td>\n",
       "      <td>NaN</td>\n",
       "      <td>&lt;NA&gt;</td>\n",
       "      <td>NaN</td>\n",
       "      <td>NaN</td>\n",
       "      <td>NaN</td>\n",
       "      <td>NaN</td>\n",
       "      <td>NaN</td>\n",
       "      <td>NaN</td>\n",
       "    </tr>\n",
       "  </tbody>\n",
       "</table>\n",
       "<p>1 rows × 27 columns</p>\n",
       "</div>"
      ],
      "text/plain": [
       "      agency_name incident_number charge_id  supplemental         charge_date  \\\n",
       "57816        BRPD       24-200057   1203905           NaN 2024-05-01 05:31:00   \n",
       "\n",
       "              report_date       approved_date attempted_committed  \\\n",
       "57816 2024-05-01 05:31:00 2024-07-14 13:58:38                 NaN   \n",
       "\n",
       "                            street street_2  ... statute_description  \\\n",
       "57816  Dougherty Dr & Blackwell Dr     <NA>  ...                <NA>   \n",
       "\n",
       "      statute_category crime_against nibrs_code offense_description  \\\n",
       "57816            other           NaN       <NA>                 NaN   \n",
       "\n",
       "      council_district crime_prevention_district neighborhood longitude  \\\n",
       "57816              NaN                       NaN          NaN       NaN   \n",
       "\n",
       "      latitude  \n",
       "57816      NaN  \n",
       "\n",
       "[1 rows x 27 columns]"
      ]
     },
     "execution_count": 10,
     "metadata": {},
     "output_type": "execute_result"
    }
   ],
   "source": [
    "crimes[crimes.statute_title.isna()]"
   ]
  },
  {
   "cell_type": "markdown",
   "metadata": {},
   "source": [
    "### 🚩 Remove row with no statute information"
   ]
  },
  {
   "cell_type": "code",
   "execution_count": 33,
   "metadata": {},
   "outputs": [],
   "source": [
    "crimes = crimes[crimes.statute_title.notna()]"
   ]
  },
  {
   "cell_type": "markdown",
   "metadata": {},
   "source": [
    "## Statute titles"
   ]
  },
  {
   "cell_type": "markdown",
   "metadata": {},
   "source": [
    "Sometimes title is recorded with a colon separating the title number from the section number (14:1.3), other times with a dot separating the two (14.1.3).\n",
    "\n",
    "Make sure separator is a colon, uniformly, (correct way to cite the statute)."
   ]
  },
  {
   "cell_type": "markdown",
   "metadata": {},
   "source": [
    "### 🚩 Clean titles"
   ]
  },
  {
   "cell_type": "code",
   "execution_count": 34,
   "metadata": {},
   "outputs": [],
   "source": [
    "def replace_first_punctuation(text):\n",
    "    # Pattern to match sequences of digits followed by the first punctuation\n",
    "    match = re.match(r\"^(\\d+)([^\\w\\s])\", text)\n",
    "    if match:\n",
    "        # Only replace the first punctuation after the sequence of digits\n",
    "        return re.sub(r\"(?<=\\d)([^\\w\\s])\", \":\", text, count=1)\n",
    "    return text\n",
    "\n",
    "crimes['statute_title'] = crimes['statute_title'].apply(replace_first_punctuation).astype('category')"
   ]
  },
  {
   "cell_type": "markdown",
   "metadata": {},
   "source": [
    "### Other statute title investigation (Questions only-- no dataframe changes)"
   ]
  },
  {
   "cell_type": "markdown",
   "metadata": {},
   "source": [
    "Count number of statute titles associated with each statute description"
   ]
  },
  {
   "cell_type": "code",
   "execution_count": 24,
   "metadata": {},
   "outputs": [
    {
     "name": "stdout",
     "output_type": "stream",
     "text": [
      "Most number of titles per description: 6\n",
      "Number of descriptions with more than one associated title: 150\n"
     ]
    }
   ],
   "source": [
    "description_title_counts = crimes.groupby('statute_description')['statute_title'].nunique().rename('title_count')\n",
    "desc_with_multiple_titles = description_title_counts[description_title_counts > 1].index.to_list()\n",
    "print(f'Most number of titles per description: {description_title_counts.max()}')\n",
    "print(f'Number of descriptions with more than one associated title: {len(desc_with_multiple_titles)}')"
   ]
  },
  {
   "cell_type": "code",
   "execution_count": 25,
   "metadata": {},
   "outputs": [
    {
     "data": {
      "text/html": [
       "<div>\n",
       "<style scoped>\n",
       "    .dataframe tbody tr th:only-of-type {\n",
       "        vertical-align: middle;\n",
       "    }\n",
       "\n",
       "    .dataframe tbody tr th {\n",
       "        vertical-align: top;\n",
       "    }\n",
       "\n",
       "    .dataframe thead th {\n",
       "        text-align: right;\n",
       "    }\n",
       "</style>\n",
       "<table border=\"1\" class=\"dataframe\">\n",
       "  <thead>\n",
       "    <tr style=\"text-align: right;\">\n",
       "      <th></th>\n",
       "      <th>statute_description</th>\n",
       "      <th>statute_title</th>\n",
       "      <th>statute_category</th>\n",
       "    </tr>\n",
       "  </thead>\n",
       "  <tbody>\n",
       "    <tr>\n",
       "      <th>63338</th>\n",
       "      <td>access device fraud/counterfeiting/forgery</td>\n",
       "      <td>14:70.4</td>\n",
       "      <td>theft</td>\n",
       "    </tr>\n",
       "    <tr>\n",
       "      <th>6699</th>\n",
       "      <td>access device fraud/counterfeiting/forgery</td>\n",
       "      <td>14:70.4/x</td>\n",
       "      <td>theft</td>\n",
       "    </tr>\n",
       "    <tr>\n",
       "      <th>6494</th>\n",
       "      <td>aggravated arson</td>\n",
       "      <td>14:51</td>\n",
       "      <td>property damage</td>\n",
       "    </tr>\n",
       "    <tr>\n",
       "      <th>6508</th>\n",
       "      <td>aggravated arson</td>\n",
       "      <td>14:51/h</td>\n",
       "      <td>criminal damage to property</td>\n",
       "    </tr>\n",
       "    <tr>\n",
       "      <th>676</th>\n",
       "      <td>aggravated assault</td>\n",
       "      <td>14:37</td>\n",
       "      <td>assault</td>\n",
       "    </tr>\n",
       "  </tbody>\n",
       "</table>\n",
       "</div>"
      ],
      "text/plain": [
       "                              statute_description statute_title  \\\n",
       "63338  access device fraud/counterfeiting/forgery       14:70.4   \n",
       "6699   access device fraud/counterfeiting/forgery     14:70.4/x   \n",
       "6494                             aggravated arson         14:51   \n",
       "6508                             aggravated arson       14:51/h   \n",
       "676                            aggravated assault         14:37   \n",
       "\n",
       "                  statute_category  \n",
       "63338                        theft  \n",
       "6699                         theft  \n",
       "6494               property damage  \n",
       "6508   criminal damage to property  \n",
       "676                        assault  "
      ]
     },
     "execution_count": 25,
     "metadata": {},
     "output_type": "execute_result"
    }
   ],
   "source": [
    "too_many_titles = crimes[crimes.statute_description.isin(desc_with_multiple_titles)][['statute_description', 'statute_title', 'statute_category']]\n",
    "too_many_titles = too_many_titles.drop_duplicates().sort_values('statute_description')\n",
    "\n",
    "too_many_titles.head()"
   ]
  },
  {
   "cell_type": "code",
   "execution_count": 26,
   "metadata": {},
   "outputs": [
    {
     "data": {
      "text/html": [
       "<div>\n",
       "<style scoped>\n",
       "    .dataframe tbody tr th:only-of-type {\n",
       "        vertical-align: middle;\n",
       "    }\n",
       "\n",
       "    .dataframe tbody tr th {\n",
       "        vertical-align: top;\n",
       "    }\n",
       "\n",
       "    .dataframe thead th {\n",
       "        text-align: right;\n",
       "    }\n",
       "</style>\n",
       "<table border=\"1\" class=\"dataframe\">\n",
       "  <thead>\n",
       "    <tr style=\"text-align: right;\">\n",
       "      <th></th>\n",
       "      <th>statute_description</th>\n",
       "      <th>statute_title</th>\n",
       "      <th>statute_category</th>\n",
       "    </tr>\n",
       "  </thead>\n",
       "  <tbody>\n",
       "    <tr>\n",
       "      <th>166</th>\n",
       "      <td>theft</td>\n",
       "      <td>13:67</td>\n",
       "      <td>theft</td>\n",
       "    </tr>\n",
       "    <tr>\n",
       "      <th>101</th>\n",
       "      <td>theft</td>\n",
       "      <td>14:67</td>\n",
       "      <td>theft</td>\n",
       "    </tr>\n",
       "    <tr>\n",
       "      <th>2010</th>\n",
       "      <td>theft</td>\n",
       "      <td>14:67/b</td>\n",
       "      <td>theft</td>\n",
       "    </tr>\n",
       "    <tr>\n",
       "      <th>16531</th>\n",
       "      <td>theft</td>\n",
       "      <td>14:67/e</td>\n",
       "      <td>theft</td>\n",
       "    </tr>\n",
       "    <tr>\n",
       "      <th>744</th>\n",
       "      <td>theft</td>\n",
       "      <td>14:67/s</td>\n",
       "      <td>theft</td>\n",
       "    </tr>\n",
       "    <tr>\n",
       "      <th>1538</th>\n",
       "      <td>theft</td>\n",
       "      <td>14:67/z</td>\n",
       "      <td>theft</td>\n",
       "    </tr>\n",
       "  </tbody>\n",
       "</table>\n",
       "</div>"
      ],
      "text/plain": [
       "      statute_description statute_title statute_category\n",
       "166                 theft         13:67            theft\n",
       "101                 theft         14:67            theft\n",
       "2010                theft       14:67/b            theft\n",
       "16531               theft       14:67/e            theft\n",
       "744                 theft       14:67/s            theft\n",
       "1538                theft       14:67/z            theft"
      ]
     },
     "execution_count": 26,
     "metadata": {},
     "output_type": "execute_result"
    }
   ],
   "source": [
    "desc_with_most_titles = description_title_counts[description_title_counts == description_title_counts.max()].index.to_list()\n",
    "# desc_with_most_titles\n",
    "crimes[crimes.statute_description.isin(desc_with_most_titles)][['statute_description', 'statute_title', 'statute_category']].drop_duplicates().sort_values(['statute_description', 'statute_title'])"
   ]
  },
  {
   "cell_type": "markdown",
   "metadata": {},
   "source": [
    "🧠 It looks like titles can also include 'subparts'.  e.g., '14:67/B' refers to title 14, part 67, subpart B."
   ]
  },
  {
   "cell_type": "markdown",
   "metadata": {},
   "source": [
    "## Statute categories"
   ]
  },
  {
   "cell_type": "markdown",
   "metadata": {},
   "source": [
    "### Clean category data"
   ]
  },
  {
   "cell_type": "markdown",
   "metadata": {},
   "source": [
    "🚩 Count number of statute categories associated with each statute description\n"
   ]
  },
  {
   "cell_type": "code",
   "execution_count": 35,
   "metadata": {},
   "outputs": [
    {
     "name": "stdout",
     "output_type": "stream",
     "text": [
      "Max # categories: 2\n",
      "48 descriptions have more than 1 category\n"
     ]
    }
   ],
   "source": [
    "description_category_counts = crimes.groupby('statute_description')['statute_category'].nunique().rename('category_count')\n",
    "descriptions_with_multiple_categories = description_category_counts[description_category_counts > 1].index.to_list()\n",
    "\n",
    "print(f'Max # categories: {description_category_counts.max()}')\n",
    "print(f'{len(descriptions_with_multiple_categories)} descriptions have more than 1 category')"
   ]
  },
  {
   "cell_type": "markdown",
   "metadata": {},
   "source": [
    "🚩 Because there are no more than 2 categories per description we can spread them across columns."
   ]
  },
  {
   "cell_type": "code",
   "execution_count": 36,
   "metadata": {},
   "outputs": [],
   "source": [
    "# Select statute description and categories just for the descriptions that have two categories\n",
    "multiples = crimes[crimes.statute_description.isin(descriptions_with_multiple_categories)][['statute_description', 'statute_category']]\n",
    "multiples = multiples.drop_duplicates().sort_values('statute_description')\n",
    "\n",
    "# For each description, number the categories associated with it.\n",
    "multiples['cat_instance_num'] = multiples.groupby('statute_description')['statute_category'].cumcount()\n",
    "\n",
    "# Reshape so that the categories are spread across two columns\n",
    "doubles = multiples.pivot(index='statute_description', columns='cat_instance_num', values='statute_category').sort_index()"
   ]
  },
  {
   "cell_type": "code",
   "execution_count": 17,
   "metadata": {},
   "outputs": [
    {
     "data": {
      "text/html": [
       "<div>\n",
       "<style scoped>\n",
       "    .dataframe tbody tr th:only-of-type {\n",
       "        vertical-align: middle;\n",
       "    }\n",
       "\n",
       "    .dataframe tbody tr th {\n",
       "        vertical-align: top;\n",
       "    }\n",
       "\n",
       "    .dataframe thead th {\n",
       "        text-align: right;\n",
       "    }\n",
       "</style>\n",
       "<table border=\"1\" class=\"dataframe\">\n",
       "  <thead>\n",
       "    <tr style=\"text-align: right;\">\n",
       "      <th>cat_instance_num</th>\n",
       "      <th>0</th>\n",
       "      <th>1</th>\n",
       "    </tr>\n",
       "    <tr>\n",
       "      <th>statute_description</th>\n",
       "      <th></th>\n",
       "      <th></th>\n",
       "    </tr>\n",
       "  </thead>\n",
       "  <tbody>\n",
       "    <tr>\n",
       "      <th>simple obstruction of a highway of commerce</th>\n",
       "      <td>nuisance</td>\n",
       "      <td>traffic</td>\n",
       "    </tr>\n",
       "    <tr>\n",
       "      <th>aggravated arson</th>\n",
       "      <td>criminal damage to property</td>\n",
       "      <td>property damage</td>\n",
       "    </tr>\n",
       "    <tr>\n",
       "      <th>vehicular negligent injuring</th>\n",
       "      <td>traffic</td>\n",
       "      <td>battery</td>\n",
       "    </tr>\n",
       "    <tr>\n",
       "      <th>criminal mischief - throwing rocks / dangerous objects</th>\n",
       "      <td>criminal damage to property</td>\n",
       "      <td>nuisance</td>\n",
       "    </tr>\n",
       "    <tr>\n",
       "      <th>failure to yield after stop</th>\n",
       "      <td>traffic</td>\n",
       "      <td>other</td>\n",
       "    </tr>\n",
       "    <tr>\n",
       "      <th>illegal use of weapons or dangerous instrumentalities</th>\n",
       "      <td>firearm</td>\n",
       "      <td>battery</td>\n",
       "    </tr>\n",
       "    <tr>\n",
       "      <th>simple battery</th>\n",
       "      <td>other</td>\n",
       "      <td>battery</td>\n",
       "    </tr>\n",
       "    <tr>\n",
       "      <th>false imprisonment</th>\n",
       "      <td>other</td>\n",
       "      <td>assault</td>\n",
       "    </tr>\n",
       "    <tr>\n",
       "      <th>headlights required</th>\n",
       "      <td>other</td>\n",
       "      <td>traffic</td>\n",
       "    </tr>\n",
       "    <tr>\n",
       "      <th>criminal trespass</th>\n",
       "      <td>nuisance</td>\n",
       "      <td>theft</td>\n",
       "    </tr>\n",
       "    <tr>\n",
       "      <th>improper lane usage</th>\n",
       "      <td>other</td>\n",
       "      <td>traffic</td>\n",
       "    </tr>\n",
       "    <tr>\n",
       "      <th>first degree rape - victim under 13 years of age</th>\n",
       "      <td>sexual assault</td>\n",
       "      <td>other</td>\n",
       "    </tr>\n",
       "  </tbody>\n",
       "</table>\n",
       "</div>"
      ],
      "text/plain": [
       "cat_instance_num                                                              0  \\\n",
       "statute_description                                                               \n",
       "simple obstruction of a highway of commerce                            nuisance   \n",
       "aggravated arson                                    criminal damage to property   \n",
       "vehicular negligent injuring                                            traffic   \n",
       "criminal mischief - throwing rocks / dangerous ...  criminal damage to property   \n",
       "failure to yield after stop                                             traffic   \n",
       "illegal use of weapons or dangerous instrumenta...                      firearm   \n",
       "simple battery                                                            other   \n",
       "false imprisonment                                                        other   \n",
       "headlights required                                                       other   \n",
       "criminal trespass                                                      nuisance   \n",
       "improper lane usage                                                       other   \n",
       "first degree rape - victim under 13 years of age                 sexual assault   \n",
       "\n",
       "cat_instance_num                                                  1  \n",
       "statute_description                                                  \n",
       "simple obstruction of a highway of commerce                 traffic  \n",
       "aggravated arson                                    property damage  \n",
       "vehicular negligent injuring                                battery  \n",
       "criminal mischief - throwing rocks / dangerous ...         nuisance  \n",
       "failure to yield after stop                                   other  \n",
       "illegal use of weapons or dangerous instrumenta...          battery  \n",
       "simple battery                                              battery  \n",
       "false imprisonment                                          assault  \n",
       "headlights required                                         traffic  \n",
       "criminal trespass                                             theft  \n",
       "improper lane usage                                         traffic  \n",
       "first degree rape - victim under 13 years of age              other  "
      ]
     },
     "execution_count": 17,
     "metadata": {},
     "output_type": "execute_result"
    }
   ],
   "source": [
    "doubles.sample(12)"
   ]
  },
  {
   "cell_type": "markdown",
   "metadata": {},
   "source": [
    "It looks like a lot of these pairs have one category \"Other\" -- that can be replaced with the other, more definitive category."
   ]
  },
  {
   "cell_type": "code",
   "execution_count": 37,
   "metadata": {},
   "outputs": [
    {
     "name": "stdout",
     "output_type": "stream",
     "text": [
      "48 doubles\n",
      "----------\n",
      "37 have one category as \"other\"\n",
      "11 are true doubles\n"
     ]
    }
   ],
   "source": [
    "# Split into two sets -- one where one of the categories is \"Other\" & one where there are truly two different categories\n",
    "others = doubles[(doubles == 'other').any(axis=1)].copy()\n",
    "true_doubles = doubles[(doubles != 'other').all(axis=1)].copy()\n",
    "\n",
    "print(f'{doubles.shape[0]} doubles')\n",
    "print('-' * 10)\n",
    "print(f'{others.shape[0]} have one category as \"other\"')\n",
    "print(f'{true_doubles.shape[0]} are true doubles')"
   ]
  },
  {
   "cell_type": "markdown",
   "metadata": {},
   "source": [
    "### 🚩 \"Other\" replacement dictionary"
   ]
  },
  {
   "cell_type": "code",
   "execution_count": 38,
   "metadata": {},
   "outputs": [],
   "source": [
    "# replace 'OTHER' with empty string... the Categorical way\n",
    "others = others.astype('string').replace('other', '') \n",
    "others['actual_category'] = others[0] + others[1]\n",
    "\n",
    "other_replacements = others['actual_category'].to_dict()"
   ]
  },
  {
   "cell_type": "markdown",
   "metadata": {},
   "source": [
    "### Pairs with truly ambiguous category associations replacement dictionary"
   ]
  },
  {
   "cell_type": "markdown",
   "metadata": {},
   "source": [
    "Replacement dictionary: Replace the lesser used category with the more common category."
   ]
  },
  {
   "cell_type": "code",
   "execution_count": 565,
   "metadata": {},
   "outputs": [],
   "source": [
    "ambiguous_descriptions = true_doubles.index.to_list()\n",
    "ambig = crimes[crimes['statute_description'].isin(ambiguous_descriptions)]\n",
    "\n",
    "ambiguous_replacements = ambig.groupby('statute_description')['statute_category'].agg(lambda category: category.value_counts().index[0]).to_dict()"
   ]
  },
  {
   "cell_type": "markdown",
   "metadata": {},
   "source": [
    "### 🚩 Update categories"
   ]
  },
  {
   "cell_type": "markdown",
   "metadata": {},
   "source": [
    "For now, **do not** substitute ambiguous categories.  Ignore the replacement dictionary created for that."
   ]
  },
  {
   "cell_type": "code",
   "execution_count": 39,
   "metadata": {},
   "outputs": [],
   "source": [
    "# Not remapping ambiguous categories at this time\n",
    "# replacement_dict = {**other_replacements, **ambiguous_replacements}\n",
    "replacement_dict = other_replacements\n",
    "\n",
    "def update_statute_category(row):\n",
    "    stat_desc = row['statute_description'] # key\n",
    "    stat_cat = row['statute_category'] # replacement_value\n",
    "    # if pd.isna(stat_desc):\n",
    "    #     return np.nan\n",
    "    if stat_desc in replacement_dict.keys():\n",
    "        return replacement_dict[stat_desc]\n",
    "    # elif stat_desc == 'OTHER':\n",
    "    #     return np.nan\n",
    "    else:\n",
    "        return stat_cat\n",
    "\n",
    "\n",
    "crimes['statute_category'] = crimes.apply(update_statute_category, axis='columns').astype('category')"
   ]
  },
  {
   "cell_type": "markdown",
   "metadata": {},
   "source": [
    "There are still a lot of crimes categorized as \"Other\""
   ]
  },
  {
   "cell_type": "code",
   "execution_count": null,
   "metadata": {},
   "outputs": [
    {
     "name": "stdout",
     "output_type": "stream",
     "text": [
      "83618 crimes have category 'Other' (30.19%)\n"
     ]
    }
   ],
   "source": [
    "n_other = crimes[crimes.statute_category == \"other\"].shape[0]\n",
    "print(f\"{n_other} crimes have category 'other' ({n_other/crimes.shape[0]:.2%})\")"
   ]
  },
  {
   "cell_type": "markdown",
   "metadata": {},
   "source": [
    "## Information hierarchy"
   ]
  },
  {
   "cell_type": "code",
   "execution_count": 570,
   "metadata": {},
   "outputs": [
    {
     "data": {
      "text/plain": [
       "n_cat        19\n",
       "n_title    1013\n",
       "n_desc     1155\n",
       "dtype: int64"
      ]
     },
     "execution_count": 570,
     "metadata": {},
     "output_type": "execute_result"
    }
   ],
   "source": [
    "n_desc = crimes.statute_description[crimes.statute_description.notna()].nunique()\n",
    "n_cat = crimes.statute_category[crimes.statute_category.notna()].nunique()\n",
    "n_title = crimes.statute_title[crimes.statute_title.notna()].nunique()\n",
    "\n",
    "counts = pd.Series({'n_desc':n_desc, 'n_cat':n_cat, 'n_title':n_title}).sort_values()\n",
    "counts"
   ]
  },
  {
   "cell_type": "code",
   "execution_count": null,
   "metadata": {},
   "outputs": [
    {
     "name": "stdout",
     "output_type": "stream",
     "text": [
      "145 crimes have category \"Not Used\" (0.05%)\n"
     ]
    }
   ],
   "source": [
    "n_not_used = crimes[crimes.statute_category == 'not used'].shape[0]\n",
    "print(f'{n_not_used} crimes have category \"not used\" ({n_not_used/crimes.shape[0]:.2%})')"
   ]
  },
  {
   "cell_type": "markdown",
   "metadata": {},
   "source": [
    "### Most prevalent categories"
   ]
  },
  {
   "cell_type": "code",
   "execution_count": 41,
   "metadata": {},
   "outputs": [
    {
     "data": {
      "text/html": [
       "<div>\n",
       "<style scoped>\n",
       "    .dataframe tbody tr th:only-of-type {\n",
       "        vertical-align: middle;\n",
       "    }\n",
       "\n",
       "    .dataframe tbody tr th {\n",
       "        vertical-align: top;\n",
       "    }\n",
       "\n",
       "    .dataframe thead th {\n",
       "        text-align: right;\n",
       "    }\n",
       "</style>\n",
       "<table border=\"1\" class=\"dataframe\">\n",
       "  <thead>\n",
       "    <tr style=\"text-align: right;\">\n",
       "      <th></th>\n",
       "      <th>statute_category</th>\n",
       "      <th>n_charges</th>\n",
       "    </tr>\n",
       "  </thead>\n",
       "  <tbody>\n",
       "    <tr>\n",
       "      <th>0</th>\n",
       "      <td>theft</td>\n",
       "      <td>58642</td>\n",
       "    </tr>\n",
       "    <tr>\n",
       "      <th>1</th>\n",
       "      <td>battery</td>\n",
       "      <td>24003</td>\n",
       "    </tr>\n",
       "    <tr>\n",
       "      <th>2</th>\n",
       "      <td>non-residential burglary</td>\n",
       "      <td>21377</td>\n",
       "    </tr>\n",
       "    <tr>\n",
       "      <th>3</th>\n",
       "      <td>criminal damage to property</td>\n",
       "      <td>18964</td>\n",
       "    </tr>\n",
       "    <tr>\n",
       "      <th>4</th>\n",
       "      <td>traffic</td>\n",
       "      <td>15330</td>\n",
       "    </tr>\n",
       "    <tr>\n",
       "      <th>5</th>\n",
       "      <td>narcotics</td>\n",
       "      <td>13949</td>\n",
       "    </tr>\n",
       "    <tr>\n",
       "      <th>6</th>\n",
       "      <td>nuisance</td>\n",
       "      <td>10019</td>\n",
       "    </tr>\n",
       "    <tr>\n",
       "      <th>7</th>\n",
       "      <td>assault</td>\n",
       "      <td>7604</td>\n",
       "    </tr>\n",
       "    <tr>\n",
       "      <th>8</th>\n",
       "      <td>firearm</td>\n",
       "      <td>7082</td>\n",
       "    </tr>\n",
       "    <tr>\n",
       "      <th>9</th>\n",
       "      <td>residential burglary</td>\n",
       "      <td>4412</td>\n",
       "    </tr>\n",
       "    <tr>\n",
       "      <th>10</th>\n",
       "      <td>homicide</td>\n",
       "      <td>3372</td>\n",
       "    </tr>\n",
       "    <tr>\n",
       "      <th>11</th>\n",
       "      <td>individual robbery</td>\n",
       "      <td>2506</td>\n",
       "    </tr>\n",
       "    <tr>\n",
       "      <th>12</th>\n",
       "      <td>juvenile</td>\n",
       "      <td>2445</td>\n",
       "    </tr>\n",
       "    <tr>\n",
       "      <th>13</th>\n",
       "      <td>vice</td>\n",
       "      <td>1657</td>\n",
       "    </tr>\n",
       "    <tr>\n",
       "      <th>14</th>\n",
       "      <td>sexual assault</td>\n",
       "      <td>1633</td>\n",
       "    </tr>\n",
       "    <tr>\n",
       "      <th>15</th>\n",
       "      <td>business robbery</td>\n",
       "      <td>129</td>\n",
       "    </tr>\n",
       "    <tr>\n",
       "      <th>16</th>\n",
       "      <td>property damage</td>\n",
       "      <td>99</td>\n",
       "    </tr>\n",
       "  </tbody>\n",
       "</table>\n",
       "</div>"
      ],
      "text/plain": [
       "               statute_category  n_charges\n",
       "0                         theft      58642\n",
       "1                       battery      24003\n",
       "2      non-residential burglary      21377\n",
       "3   criminal damage to property      18964\n",
       "4                       traffic      15330\n",
       "5                     narcotics      13949\n",
       "6                      nuisance      10019\n",
       "7                       assault       7604\n",
       "8                       firearm       7082\n",
       "9          residential burglary       4412\n",
       "10                     homicide       3372\n",
       "11           individual robbery       2506\n",
       "12                     juvenile       2445\n",
       "13                         vice       1657\n",
       "14               sexual assault       1633\n",
       "15             business robbery        129\n",
       "16              property damage         99"
      ]
     },
     "execution_count": 41,
     "metadata": {},
     "output_type": "execute_result"
    }
   ],
   "source": [
    "cat_counts = crimes[~crimes.statute_category.isin(['other', 'not used'])].groupby('statute_category', observed=True)['charge_id'].count().sort_values(ascending=False).rename('n_charges').reset_index()\n",
    "cat_counts"
   ]
  },
  {
   "cell_type": "code",
   "execution_count": 42,
   "metadata": {},
   "outputs": [
    {
     "data": {
      "image/png": "[encoded data removed]",
      "text/plain": [
       "<Figure size 1400x600 with 1 Axes>"
      ]
     },
     "metadata": {},
     "output_type": "display_data"
    }
   ],
   "source": [
    "plt.figure(figsize=(14, 6))\n",
    "bar_color = sns.color_palette(\"crest\")[2]\n",
    "sns.barplot(\n",
    "    data=cat_counts,\n",
    "    x='statute_category',\n",
    "    y ='n_charges',\n",
    "    order=cat_counts['statute_category'],\n",
    "    color=bar_color\n",
    ")\n",
    "\n",
    "plt.xlabel(\" \")\n",
    "plt.ylabel(\" \")\n",
    "# plt.title('Charges by statute category', y=0.9, x=0.8, fontsize = 20)\n",
    "plt.tick_params(axis='x', which='major', labelsize=14)\n",
    "plt.tick_params(axis='y', which='major', labelsize=12)\n",
    "plt.xticks(rotation=45, ha=\"right\")\n",
    "plt.show()"
   ]
  },
  {
   "cell_type": "code",
   "execution_count": 43,
   "metadata": {},
   "outputs": [
    {
     "data": {
      "text/plain": [
       "statute_category\n",
       "theft                          1838\n",
       "traffic                         905\n",
       "battery                         678\n",
       "non-residential burglary        508\n",
       "narcotics                       471\n",
       "criminal damage to property     430\n",
       "nuisance                        373\n",
       "assault                         208\n",
       "firearm                         182\n",
       "vice                             87\n",
       "residential burglary             79\n",
       "juvenile                         68\n",
       "individual robbery               55\n",
       "sexual assault                   31\n",
       "homicide                         18\n",
       "property damage                   4\n",
       "business robbery                  2\n",
       "Name: charge_id, dtype: int64"
      ]
     },
     "execution_count": 43,
     "metadata": {},
     "output_type": "execute_result"
    }
   ],
   "source": [
    "# Last 3 months\n",
    "l3 = crimes[crimes.charge_date.between('2024-08-01', '2024-10-31')]\n",
    "cats = crimes[~crimes.statute_category.isin(['other', 'not used'])]\n",
    "l3_cats = l3[l3.index.isin(cats.index)]\n",
    "l3_cat_counts = l3_cats.groupby('statute_category', observed=True)['charge_id'].count().sort_values(ascending=False)\n",
    "l3_cat_counts"
   ]
  },
  {
   "cell_type": "markdown",
   "metadata": {},
   "source": [
    "### Statute categories over time"
   ]
  },
  {
   "cell_type": "code",
   "execution_count": 183,
   "metadata": {},
   "outputs": [],
   "source": [
    "crimes['month_year'] = crimes['charge_date'].dt.to_period('M').dt.start_time\n",
    "\n",
    "def category_time_summary(category):\n",
    "\n",
    "    if not category in list(crimes.statute_category.unique()):\n",
    "        return 'Invalid statute category'\n",
    "    \n",
    "    # rc stands for runtime configuration -- dictionary where you can pass specific\n",
    "    # parameters to override the default settings of a chosen style\n",
    "    sns.set_style(style=\"whitegrid\", rc={'grid.color':'.95', 'axes.edgecolor': '.95'})\n",
    "\n",
    "    # count # of charges in that category for each month\n",
    "    df = crimes[crimes.statute_category == category].groupby('month_year')['charge_id'].count()\n",
    "    df = df.reset_index().rename(columns={'charge_id':'charges'})\n",
    "    df['month'] = df['month_year'].dt.month\n",
    "    df['year'] = df['month_year'].dt.year\n",
    "    df = df[['year', 'month', 'charges']]\n",
    "\n",
    "    # Plot each year's time series in its own facet\n",
    "    # relplot stands for 'relational plot'\n",
    "    # Use additional argument 'row' to specify an additional feature\n",
    "    # for rows (remove col_wrap argument)\n",
    "    g = sns.relplot(\n",
    "        data=df,\n",
    "        x=\"month\", y=\"charges\", col=\"year\", hue=\"year\",\n",
    "        kind=\"line\", palette=\"crest\", linewidth=3, zorder=5,\n",
    "        col_wrap=2, height=3, aspect=1.5, legend=False,\n",
    "    )\n",
    "\n",
    "    # Iterate over each subplot to customize further\n",
    "    for year, ax in g.axes_dict.items():\n",
    "\n",
    "        # Add the title as an annotation within the plot\n",
    "        ax.text(.85, .9, year, transform=ax.transAxes, fontweight=\"bold\")\n",
    "\n",
    "        # Plot every year's time series in the background\n",
    "        sns.lineplot(\n",
    "            data=df, x=\"month\", y=\"charges\", units=\"year\",\n",
    "            estimator=None, color=\".7\", linewidth=1, ax=ax,\n",
    "        )\n",
    "\n",
    "    # Force a tick for every month\n",
    "    ax.set_xticks(range(1,13))\n",
    "\n",
    "    # Tweak the supporting aspects of the plot\n",
    "    g.set_titles(\"\")\n",
    "    g.set_axis_labels(\"\", \"Charges\")\n",
    "    g.tight_layout()"
   ]
  },
  {
   "cell_type": "code",
   "execution_count": 184,
   "metadata": {},
   "outputs": [
    {
     "data": {
      "image/png": "[encoded data removed]",
      "text/plain": [
       "<Figure size 900x600 with 4 Axes>"
      ]
     },
     "metadata": {},
     "output_type": "display_data"
    }
   ],
   "source": [
    "category_time_summary('theft')"
   ]
  },
  {
   "cell_type": "markdown",
   "metadata": {},
   "source": [
    "## Maps"
   ]
  },
  {
   "cell_type": "markdown",
   "metadata": {},
   "source": [
    "### Plottable crimes"
   ]
  },
  {
   "cell_type": "markdown",
   "metadata": {},
   "source": [
    "Do not  plot crimes with zip code missing (nan) or outside of East Baton Rouge Parish"
   ]
  },
  {
   "cell_type": "code",
   "execution_count": 44,
   "metadata": {},
   "outputs": [],
   "source": [
    "bad_zip_codes = []\n",
    "for zip_code in crimes.postal_code.unique():\n",
    "    try:\n",
    "        info = zipcodes.matching(str(zip_code))[0]\n",
    "        if info['county'] != 'East Baton Rouge Parish':\n",
    "            bad_zip_codes.append(zip_code)\n",
    "    except:\n",
    "        bad_zip_codes.append(zip_code)"
   ]
  },
  {
   "cell_type": "code",
   "execution_count": 45,
   "metadata": {},
   "outputs": [],
   "source": [
    "baton_rouge = ~crimes.postal_code.isin(bad_zip_codes)\n",
    "valid_coordinates = crimes.latitude.notna() & crimes.longitude.notna()\n",
    "in_date_range = crimes.charge_date.between('2024-08-01', '2024-10-31')\n",
    "\n",
    "plottable_crimes = crimes[(baton_rouge) & (valid_coordinates) & (in_date_range)]"
   ]
  },
  {
   "cell_type": "markdown",
   "metadata": {},
   "source": [
    "<!-- ### The map -->"
   ]
  },
  {
   "cell_type": "markdown",
   "metadata": {},
   "source": [
    "### The map"
   ]
  },
  {
   "cell_type": "code",
   "execution_count": 46,
   "metadata": {},
   "outputs": [],
   "source": [
    "def show_map(category):\n",
    "    if category not in list(crimes.statute_category.unique()):\n",
    "        return \"Invalid category\"\n",
    "    category_crimes = plottable_crimes[plottable_crimes.statute_category == category]\n",
    "    map = category_crimes.hvplot.points(\n",
    "        'longitude',\n",
    "        'latitude',\n",
    "        geo=True,\n",
    "        alpha=0.7,\n",
    "        tiles='CartoLight',\n",
    "        frame_width = 600,\n",
    "        frame_height = 700,\n",
    "        color='#254b7f'\n",
    "    )\n",
    "    # map.save(category+'_map.png')\n",
    "\n",
    "    return map"
   ]
  },
  {
   "cell_type": "code",
   "execution_count": 47,
   "metadata": {},
   "outputs": [
    {
     "data": {},
     "metadata": {},
     "output_type": "display_data"
    },
    {
     "data": {
      "application/vnd.holoviews_exec.v0+json": "",
      "text/html": [
       "<div id='p1011'>\n",
       "  <div id=\"a775125f-1a87-4dab-b0f9-ce241726657b\" data-root-id=\"p1011\" style=\"display: contents;\"></div>\n",
       "</div>\n",
       "<script type=\"application/javascript\">(function(root) {\n",
       "  var docs_json = {\"ddc7f4a2-4ff7-47b3-9735-1ac8bcdc8076\":{\"version\":\"3.4.3\",\"title\":\"Bokeh Application\",\"roots\":[{\"type\":\"object\",\"name\":\"Row\",\"id\":\"p1011\",\"attributes\":{\"name\":\"Row01709\",\"tags\":[\"embedded\"],\"stylesheets\":[\"\\n:host(.pn-loading):before, .pn-loading:before {\\n  background-color: #c3c3c3;\\n  mask-size: auto calc(min(50%, 400px));\\n  -webkit-mask-size: auto calc(min(50%, 400px));\\n}\",{\"type\":\"object\",\"name\":\"ImportedStyleSheet\",\"id\":\"p1014\",\"attributes\":{\"url\":\"https://cdn.holoviz.org/panel/1.4.5/dist/css/loading.css\"}},{\"type\":\"object\",\"name\":\"ImportedStyleSheet\",\"id\":\"p1109\",\"attributes\":{\"url\":\"https://cdn.holoviz.org/panel/1.4.5/dist/css/listpanel.css\"}},{\"type\":\"object\",\"name\":\"ImportedStyleSheet\",\"id\":\"p1012\",\"attributes\":{\"url\":\"https://cdn.holoviz.org/panel/1.4.5/dist/bundled/theme/default.css\"}},{\"type\":\"object\",\"name\":\"ImportedStyleSheet\",\"id\":\"p1013\",\"attributes\":{\"url\":\"https://cdn.holoviz.org/panel/1.4.5/dist/bundled/theme/native.css\"}}],\"margin\":0,\"sizing_mode\":\"stretch_width\",\"align\":\"start\",\"children\":[{\"type\":\"object\",\"name\":\"Spacer\",\"id\":\"p1015\",\"attributes\":{\"name\":\"HSpacer01715\",\"stylesheets\":[\"\\n:host(.pn-loading):before, .pn-loading:before {\\n  background-color: #c3c3c3;\\n  mask-size: auto calc(min(50%, 400px));\\n  -webkit-mask-size: auto calc(min(50%, 400px));\\n}\",{\"id\":\"p1014\"},{\"id\":\"p1012\"},{\"id\":\"p1013\"}],\"margin\":0,\"sizing_mode\":\"stretch_width\",\"align\":\"start\"}},{\"type\":\"object\",\"name\":\"Figure\",\"id\":\"p1054\",\"attributes\":{\"width\":null,\"height\":null,\"margin\":[5,10],\"sizing_mode\":\"fixed\",\"align\":\"start\",\"x_range\":{\"type\":\"object\",\"name\":\"Range1d\",\"id\":\"p1025\",\"attributes\":{\"tags\":[[[\"Longitude\",null]],[]],\"start\":-10165934.727141289,\"end\":-10114674.1215178,\"reset_start\":-10165934.727141289,\"reset_end\":-10114674.1215178,\"min_interval\":5}},\"y_range\":{\"type\":\"object\",\"name\":\"Range1d\",\"id\":\"p1026\",\"attributes\":{\"tags\":[[[\"Latitude\",null]],{\"type\":\"map\",\"entries\":[[\"invert_yaxis\",false],[\"autorange\",false]]}],\"start\":3540123.4523909627,\"end\":3599927.4922850328,\"reset_start\":3540123.4523909627,\"reset_end\":3599927.4922850328,\"min_interval\":5}},\"x_scale\":{\"type\":\"object\",\"name\":\"LinearScale\",\"id\":\"p1064\"},\"y_scale\":{\"type\":\"object\",\"name\":\"LinearScale\",\"id\":\"p1065\"},\"title\":{\"type\":\"object\",\"name\":\"Title\",\"id\":\"p1057\",\"attributes\":{\"text_color\":\"black\",\"text_font_size\":\"12pt\"}},\"renderers\":[{\"type\":\"object\",\"name\":\"TileRenderer\",\"id\":\"p1087\",\"attributes\":{\"level\":\"underlay\",\"tile_source\":{\"type\":\"object\",\"name\":\"WMTSTileSource\",\"id\":\"p1083\",\"attributes\":{\"url\":\"https://cartodb-basemaps-4.global.ssl.fastly.net/light_all/{Z}/{X}/{Y}.png\",\"attribution\":\"&copy; <a href=\\\"https://www.openstreetmap.org/copyright\\\">OpenStreetMap</a> contributors, &copy; <a href=\\\"https://cartodb.com/attributions\\\">CartoDB</a>\"}}}},{\"type\":\"object\",\"name\":\"GlyphRenderer\",\"id\":\"p1100\",\"attributes\":{\"data_source\":{\"type\":\"object\",\"name\":\"ColumnDataSource\",\"id\":\"p1091\",\"attributes\":{\"selected\":{\"type\":\"object\",\"name\":\"Selection\",\"id\":\"p1092\",\"attributes\":{\"indices\":[],\"line_indices\":[]}},\"selection_policy\":{\"type\":\"object\",\"name\":\"UnionRenderers\",\"id\":\"p1093\"},\"data\":{\"type\":\"map\",\"entries\":[[\"longitude\",{\"type\":\"ndarray\",\"array\":{\"type\":\"bytes\",\"data\":\"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\"},\"shape\":[1777],\"dtype\":\"float64\",\"order\":\"little\"}],[\"latitude\",{\"type\":\"ndarray\",\"array\":{\"type\":\"bytes\",\"data\":\"8gGuqCkhS0En3mE0Zj1LQcod/5IeRktBTDNgATMjS0EMYc/oriRLQd32nwNyF0tBLYg8rWMYS0G69jyK+ihLQdzzzDP0NktBExbSGc5ES0EUn7nP/h1LQcPjIs3xGEtBbf53eKQbS0G2ecz1RkFLQYHelRW3N0tByx81GxwhS0G44wMRyyFLQbGAAT+zG0tBfXU4Wo8YS0Gq3el40DRLQeA0CYsnL0tBrGx0X7NhS0EKZbx8jTlLQeqBFl96E0tBoDhRAl4RS0FiRXtMHxtLQeA0CYsnL0tBq2b3lewaS0Hm4+rVeh5LQeA0CYsnL0tB9D3pLwEfS0HmkQHOcDlLQR/OGB/hG0tB6oEWX3oTS0Go5LxPiyxLQawQmzo1HUtBfVJ4RH8zS0EkP2pk7BpLQcOd01/PNEtBI4roC01DS0EkP2pk7BpLQQxhz+iuJEtBk3T0GeAtS0GT/HHd7BZLQbr2PIr6KEtB6hfvNVZBS0E5HfCrJ15LQdCUhunPP0tBaJM5B8MYS0FXVaMujV5LQcpBaj1rG0tBuvY8ivooS0HgNAmLJy9LQaA4UQJeEUtBpMxjC5AcS0HdolcHCBxLQZxMhJchIUtBOIHjh1sfS0F5ow/VeiBLQa5DW7UdHEtBIU1MvOwbS0E/uj5dXR1LQadWs78fE0tB4DQJiycvS0GnDU4kxh5LQW3+d3ikG0tBsYABP7MbS0HlfrdNfRdLQYaW20kZLEtBuo5Due1CS0FXwxLXNRxLQaMTjIBEHktBrtmBbEEpS0EMYc/oriRLQXumBWXIR0tB8Ow0RekhS0Ft/nd4pBtLQU4U0FNTHEtBV/qriRUlS0FptCHr8SFLQY2fg/IqP0tBPQc7w/MTS0Gf7SSloh9LQRPyPMcqE0tBqSwTICgmS0G4c8MaUx1LQdLjKjdqOUtBdyJrGyMUS0FJovom0htLQa5mjM/dGktBAS1TxQkcS0Efzhgf4RtLQYIJynRzKUtBYwpP6/MhS0FrVFbXMB1LQcxS1/m4aUtB6oEWX3oTS0HWodeD0jBLQVX7JaqaHUtBdefvR/tDS0Er4d200hVLQXmjD9V6IEtBuvY8ivooS0HsPxUuQSdLQaPCH4+AT0tBa8QbdmQ4S0FHIz+LEDVLQR6VHczoE0tBCmW8fI05S0EhjBuINxBLQfoKJ2nlHEtBTMB6h2I3S0FGBHhNjBNLQeA0CYsnL0tBaF2auwwXS0GX+jZOLiFLQWWGsz8QWktBMQUOSfUZS0Gndk3lSydLQTZAzVNuNUtB697VS7lDS0F09wDa4SlLQW8/t12lJ0tBCB5dKOwRS0Efzhgf4RtLQR6VHczoE0tB4DQJiycvS0GOqUw6rSZLQY2zNCayG0tBlORgiXMfS0FvP7ddpSdLQb7EqEsxIktBEdlTmzkZS0HqgRZfehNLQWv+B2QIPUtB0ldqaHhnS0EIuJ6E8ytLQcu75nltL0tBD4iJGY83S0EjiugLTUNLQRdN6Le6F0tBklW2atc8S0GSEx2s7CBLQeqBFl96E0tBV8MS1zUcS0Hp+7U3G1FLQWt6Kuh+I0tBp1azvx8TS0G2LJGC3ypLQb/DZFKGHktBZqHFy+4TS0F09wDa4SlLQY6pTDqtJktBbKVDSYk3S0FX4NSw3TNLQdSG9vSlHUtBwERuc3oaS0HoF5IkjiFLQSfeYTRmPUtBH/PdTFsRS0HT0U3fIh9LQUywkYWkIEtBAS1TxQkcS0FLEJeZZy9LQTcFkqIFQ0tBbf53eKQbS0G2LJGC3ypLQXtH6tXqOUtB4DQJiycvS0GxhzaXN0NLQbYzM628FktBtiyRgt8qS0HqgRZfehNLQaPCH4+AT0tBW6WOfd9JS0E6UrJWoypLQZP8cd3sFktB0WD2q1ETS0GguIFHJChLQfB2GKV6EUtB+gonaeUcS0GnDU4kxh5LQfbVrrrHHEtB92fRV3MfS0EXGS3F2RZLQbr2PIr6KEtBPx4GlcpZS0FrxBt2ZDhLQbYzM628FktBbf53eKQbS0G69jyK+ihLQaNe7rwEHEtBrGLqWEg/S0FrVFbXMB1LQd4z5IdTIEtB+wD+3SMlS0HqgRZfehNLQfei8qaiSktBaWxerbYWS0Gjwh+PgE9LQWtUVtcwHUtBN/i6P/wVS0GuQ1u1HRxLQbGHNpc3Q0tBxkF8OWwlS0G2LJGC3ypLQcCHoKWwGktBdPcA2uEpS0Efzhgf4RtLQW8/t12lJ0tBviaubFYcS0Go1MrQyBRLQRamjYYiK0tBwannEtFES0HsPxUuQSdLQeyIlmGGOUtB+NoBIks9S0EmsyEe+kNLQQR51zKvU0tBuR5jGWo8S0HqgRZfehNLQSfeYTRmPUtB1FHx74AiS0ETwUQ8fxVLQbr2PIr6KEtBdQ6RowwrS0G9N8HHditLQeA0CYsnL0tByY9NU0ZDS0F09wDa4SlLQWlsXq22FktB+wD+3SMlS0GBmJU1jTJLQUoHvauUQktBbf53eKQbS0G9l7hW4DNLQZNv30E3QUtB+wD+3SMlS0HgYqqGfRxLQVX7JaqaHUtBOX/y8FA/S0ERgArRXhZLQbr2PIr6KEtBpw1OJMYeS0HqgRZfehNLQcOhjW1fEUtBAS1TxQkcS0G918SSIxVLQRPyPMcqE0tB1JAla2k1S0FZLpybky5LQY2fg/IqP0tBH84YH+EbS0FjL9kYyidLQe+m2i08Q0tBzCzyWzAjS0Hbl7IKrxdLQR/OGB/hG0tBaWxerbYWS0F09wDa4SlLQUzz4Ad4IktB0JSG6c8/S0H6Cidp5RxLQV9kxG7mOEtBXaeGicg2S0Ejw0NI3BtLQW3010nYLUtBs/fl5b4rS0FXwxLXNRxLQbZ5zPVGQUtBRMUbN40uS0HgNAmLJy9LQXumBWXIR0tBCmW8fI05S0FBgSA5zBNLQfvRncZTL0tBwzVEha0TS0HDoY1tXxFLQcOd01/PNEtBI4roC01DS0FspUNJiTdLQe7MWwp9IUtBV8MS1zUcS0FpUhf/KxpLQb2gYMooLUtBJ95hNGY9S0HqgRZfehNLQZFCs9uPbktBcTiPEi4US0G2ecz1RkFLQWlsXq22FktBtOeY5X4ZS0F1d7eImiFLQW8/t12lJ0tBuDZCSnUjS0E5r6O4uCBLQbr2PIr6KEtBJLMmAbImS0HJvxD2Hy5LQdAttCc2WktB0uMqN2o5S0EDOF5nihtLQcsfNRscIUtB6oEWX3oTS0Gdn3mtRUZLQQEtU8UJHEtBe6YFZchHS0Ft/nd4pBtLQbr2PIr6KEtBMlCdO9MXS0EMYc/oriRLQTYfQIXeNUtBKmc1FVIlS0FXwxLXNRxLQaa44/34HktBECXiDcUbS0HbktUOHiVLQXT3ANrhKUtBH84YH+EbS0G69jyK+ihLQcCpctmDHEtBJD9qZOwaS0GJ8j7fMhxLQSZXX5q4J0tB7D8VLkEnS0G2ecz1RkFLQWyumRkzQEtBRyM/ixA1S0G44wMRyyFLQUZ2mQxQI0tBo17uvAQcS0EKZbx8jTlLQZRmbuJ5F0tBtnnM9UZBS0HthxWjRkFLQQqfZEVqFUtBT88f2VwRS0G2MzOtvBZLQTEFQZPrIEtBwUHLZsIgS0GFiwdjAkVLQR/QP8P7LktBM9NaZRMeS0ET8jzHKhNLQWt6Kuh+I0tBoxOMgEQeS0HsPxUuQSdLQf/49NszUEtBmVXJdbBAS0HZTGJOXRdLQeW9KBhLLktBAL4X6fo4S0FjCk/r8yFLQbZ5zPVGQUtBAhlwofs2S0EMYc/oriRLQV7OOGskHEtB2Cpw2ig6S0G69jyK+ihLQQNz4HBCIUtB8Ow0RekhS0FmB4L3YCFLQZITHazsIEtB4DQJiycvS0GnDU4kxh5LQTrkNKmrHEtBA2EFxFI5S0FFvvor7kBLQbZ5zPVGQUtBV8MS1zUcS0F7pgVlyEdLQfDsNEXpIUtBdXe3iJohS0GCkTOMVxRLQTV8PHffOUtB0uMqN2o5S0GvmC2vjiJLQbYskYLfKktBJROkqGYVS0EkP2pk7BpLQeZ6X8KqIktBJOitwEJuS0HDndNfzzRLQZP8cd3sFktBWU3NdZtpS0HMLPJbMCNLQdah14PSMEtBviaubFYcS0F09wDa4SlLQV9iLTOoHktBGoMl0jwWS0HqgRZfehNLQdts0yYHIktB6oEWX3oTS0FokzkHwxhLQbr2PIr6KEtB+Z4kSfI6S0FreirofiNLQQEtU8UJHEtBYwpP6/MhS0EKn2RFahVLQTJQnTvTF0tBtiyRgt8qS0EBA12ZEj1LQQX6UIRQFEtBtnnM9UZBS0G9EXQwGT1LQeA0CYsnL0tBN8ZKIqwkS0G62mpzwhVLQZ/tJKWiH0tBEdlTmzkZS0FrVFbXMB1LQd4Vtt2gPktB4DQJiycvS0GnF0md2QpLQdJc159JG0tBgZiVNY0yS0EKn2RFahVLQdah14PSMEtB4DQJiycvS0GLHpIAsDpLQc5TQ59EH0tB7D8VLkEnS0HIRtGFeCxLQTknGTBSIUtBTDC0vs4nS0GYupg5xBNLQdkaq4XZFEtBBjcK+fIXS0G055jlfhlLQacNTiTGHktB6LZMEihBS0G93l8WlxFLQSSzJgGyJktBdPcA2uEpS0HW5+p/6jtLQcf6ZBoGHktBV1l+lP0US0Ghnw2vW0lLQdLjKjdqOUtBtnnM9UZBS0HgNAmLJy9LQawQmzo1HUtB4DQJiycvS0Ft9NdJ2C1LQVfDEtc1HEtBWD1ufcc4S0HvptotPENLQZ/tJKWiH0tB4DQJiycvS0HGQXw5bCVLQaumTKpaIktBbWRm0YImS0HgNAmLJy9LQee/xX7kN0tBbf53eKQbS0Ft/nd4pBtLQYw0D4oMF0tB6oEWX3oTS0GBmJU1jTJLQe+m2i08Q0tB/adTydIfS0GOqUw6rSZLQQhzWPFPHUtB7D8VLkEnS0EKlyJ8JSJLQbZ5zPVGQUtB+gonaeUcS0F7pgVlyEdLQawQmzo1HUtBwKly2YMcS0FNOlq12TRLQacNTiTGHktBpw1OJMYeS0GmuOP9+B5LQZ24zFHqNktBwannEtFES0HNWTbajRJLQcHqKuTiNktBJU+Lmv4RS0FreirofiNLQcGq1MaDREtBuvY8ivooS0F2IUzYlBVLQfoKJ2nlHEtBzlNDn0QfS0FBm4+00xNLQQc5Qk0STEtBpw1OJMYeS0F3YQ+W8hpLQcKs2pxXGEtB0uMqN2o5S0GmyX5MzBRLQT+yi4sORktB0uMqN2o5S0EmxDnJQD5LQQplvHyNOUtB4DQJiycvS0HqgRZfehNLQdLjKjdqOUtBdvZWVqE6S0FrbrJZ0xhLQaqteUBAGUtBKTBgMAkfS0H62IwF7ylLQeA0CYsnL0tBJ95hNGY9S0GRzDaUXiFLQQxhz+iuJEtBn+0kpaIfS0Ed6MRaVRRLQSfeYTRmPUtBRLiMKU8US0Gf7SSloh9LQYci/6BlOUtBDGHP6K4kS0EdFYW1/RRLQd+6vf5rFEtBFbwahg0eS0EMYc/oriRLQXV3t4iaIUtBFbwahg0eS0HpfUD9MkVLQTNRf0FUGktBjHE1BlsTS0FXV/KXzUxLQYYMwe9+IktB+3DR1y8fS0FsrpkZM0BLQZL/nNp9OUtB1hA8Hro4S0GkkYmCnBlLQfWQCN38FktBtnnM9UZBS0FrVFbXMB1LQUcjP4sQNUtBwannEtFES0GuQ1u1HRxLQT38TZzZRUtBAS1TxQkcS0H6Cidp5RxLQeqBFl96E0tB0JSG6c8/S0HqgRZfehNLQfDsNEXpIUtBP4NYYMgwS0H9oHY1DBRLQfHIhoanZ0tBbK6ZGTNAS0HBqecS0URLQWyumRkzQEtBss9K3hAcS0Ft/nd4pBtLQaA4UQJeEUtBss9K3hAcS0HeZGoDSCJLQX2Wg9eQPktB7rMo4YUVS0HS4yo3ajlLQWnfd9xZHktBqX1bKFkSS0FXwxLXNRxLQal9WyhZEktB82QvENAzS0EQEvtIokVLQVdZfpT9FEtBwannEtFES0F9loPXkD5LQbLPSt4QHEtBdaq8w6E4S0Gzqpg/sENLQbLPSt4QHEtBCEuLrt8aS0EIS4uu3xpLQbAcnzrBL0tB+gonaeUcS0EKZbx8jTlLQfsD8phUREtBhHu0qL1fS0EBLVPFCRxLQVnHQTsgXktB4DQJiycvS0G+ZGpZSGFLQQEtU8UJHEtBociVQrhFS0E90en9exRLQamZZiuiRktBbf53eKQbS0Ek1u52V2dLQT3R6f17FEtBDGHP6K4kS0G62mpzwhVLQaHIlUK4RUtB+gonaeUcS0EYF3NbPhxLQatXXHL7G0tBDmv90WcbS0F1UBt2fhVLQTPTWmUTHktBot+SViBHS0F7buMDNxZLQW3+d3ikG0tBYwpP6/MhS0F1eELxNiNLQQxhz+iuJEtBdAXT+cURS0FGRRoBTxxLQY6pTDqtJktB2LNxeAwSS0G69jyK+ihLQR/OGB/hG0tBt9nzqmIwS0GEBwzB4CNLQSvh3bTSFUtBaWxerbYWS0GZ/gYCfyVLQZusMSeCLUtBbf53eKQbS0HnBLraLyFLQYkF47B5F0tBV8MS1zUcS0Em6O9CfiNLQeRIuZXcGktB8gGuqCkhS0Hk/7DM3hNLQeqBFl96E0tBprd3YGArS0EKZbx8jTlLQSfeYTRmPUtBZmjxEiwSS0Hbv8v/hR5LQe7MWwp9IUtBXs44ayQcS0FXwxLXNRxLQaA4UQJeEUtBgzhbjTkdS0Hbv8v/hR5LQYM4W405HUtB403Ew7YsS0Hd9p8DchdLQWMKT+vzIUtBp1iWJacRS0Ft/nd4pBtLQV7OOGskHEtBpw1OJMYeS0HDndNfzzRLQe+m2i08Q0tB/KmjBM5HS0HOU0OfRB9LQbZ5zPVGQUtBzQxmotALS0FHIz+LEDVLQeL1+kiLPktBQQkcc50oS0F+f6dlX1NLQQEQ4AkGHktBAS1TxQkcS0Fm2N4jNTRLQdU98dv0E0tBZtjeIzU0S0F09wDa4SlLQeA0CYsnL0tB4DQJiycvS0GESrNMgRVLQe+m2i08Q0tBXFRkArFTS0EMeebmbBpLQQxhz+iuJEtBJ95hNGY9S0E94+eGL1BLQQxhz+iuJEtBCmW8fI05S0HS4yo3ajlLQXumBWXIR0tBAS1TxQkcS0H9oHY1DBRLQW3+d3ikG0tBRyM/ixA1S0FkDFrDihRLQRPsAUopJUtBmY1x0nZHS0HAvdBaVRhLQRTO0LHlH0tBZuhyWEQkS0G5HmMZajxLQY6pTDqtJktB6X1A/TJFS0Fm2N4jNTRLQfoKJ2nlHEtBZvZizYI1S0F09wDa4SlLQdLjKjdqOUtBlLYyzeYlS0ESifzmYCFLQSLcSc3+G0tB4DQJiycvS0Efzhgf4RtLQeqpeF6EE0tB/DyQvpwsS0EyHlJmAFNLQTx3bBH3HUtB4DQJiycvS0FllRM+7kxLQawQmzo1HUtBrBCbOjUdS0HqqXhehBNLQSL9wt9bQEtBAS1TxQkcS0F09wDa4SlLQYEra63AE0tBIUidbT4gS0G7kf6eVR1LQbt23aZ5JktBsrVyUNkbS0GXmIo9wSRLQcsfNRscIUtBV8MS1zUcS0HXdPPPpR5LQSFInW0+IEtB1oTB3sIhS0GpiwvesxhLQfrYjAXvKUtBDGHP6K4kS0EDniUhHx9LQbr2PIr6KEtBGSxIxFY4S0FZd+/huhFLQU84wR/rQ0tB76baLTxDS0EzUX9BVBpLQdNSpmJeIUtBdPcA2uEpS0Ft/nd4pBtLQRv8T+JpFUtBvTfBx3YrS0EOY2kw1S1LQWtUVtcwHUtBCxAtHTowS0G9N8HHditLQaR2KVsJSEtBbf53eKQbS0F09wDa4SlLQWMKT+vzIUtBV8MS1zUcS0HQlIbpzz9LQVX7JaqaHUtB60mmMb40S0HQlIbpzz9LQe7MWwp9IUtB4DQJiycvS0HUL3WfPkVLQbraanPCFUtB7EgnKLghS0HrSaYxvjRLQetJpjG+NEtB1C91nz5FS0HHuO0KgC5LQXb6YHvGFktBdPcA2uEpS0HQlIbpzz9LQacNTiTGHktB60mmMb40S0HgNAmLJy9LQYkF47B5F0tBV8MS1zUcS0Ft/nd4pBtLQXlwVzS8Q0tBrBCbOjUdS0EMYc/oriRLQfIBrqgpIUtBDGHP6K4kS0EDXG5wTB5LQfwL6fMZO0tBLja29igvS0HyAa6oKSFLQb0RdDAZPUtB4DQJiycvS0H55/jjkhRLQeA0CYsnL0tBV/kL2EIdS0EKZbx8jTlLQeS9PnrcE0tB2OwYaeAgS0GcTISXISFLQanC+Ja4DktBDGHP6K4kS0GpwviWuA5LQVbMsk/SHEtBDGHP6K4kS0FWzLJP0hxLQaA4UQJeEUtBpw1OJMYeS0Eoc/mG/UdLQeRJ51gCT0tBpJRuliwOS0E6dWCDyiJLQUIeJtObIUtBVsyyT9IcS0GpwviWuA5LQdUCeGHKKEtBDGHP6K4kS0E3YAb9gTlLQZi6mDnEE0tBqHvlVMkUS0FsrpkZM0BLQXYhTNiUFUtBYwpP6/MhS0EKlyJ8JSJLQajUytDIFEtBP2e6ZJ47S0GuQ1u1HRxLQcsfNRscIUtBZj9klMEjS0GnVrO/HxNLQbnhU4mLKUtBnyCuUAY0S0Hd8NZP1hxLQe7MWwp9IUtBOXFpXlkwS0Efzhgf4RtLQUj5Qq8UIUtBtH+x6HcmS0Hsuknc0CRLQYTolBI9REtBDmNpMNUtS0EDXG5wTB5LQQplvHyNOUtB1oTB3sIhS0E65DSpqxxLQdTb1UREO0tBYC4zSw8YS0FEhQBjghpLQR/OGB/hG0tBbf53eKQbS0H6eemNRx1LQawQmzo1HUtBzlNDn0QfS0H6dr0YthZLQSfeYTRmPUtBgWM523RDS0Efzhgf4RtLQcouVuDyJEtB3ovzbRQvS0HBqtTGg0RLQaE05GOZFktBe6YFZchHS0HepYw0gyZLQctqdWBkE0tBMWJf5dcmS0FHIz+LEDVLQYHgoYYUE0tB6FsnQ3QrS0E4p4+iFxdLQQamTIkRFktBDGHP6K4kS0FctdviaEFLQQvtgLIvF0tB4DQJiycvS0HEurdZaRRLQU79R/G5Q0tBC+2Asi8XS0F7pgVlyEdLQe+m2i08Q0tBTv1H8blDS0HSyuD/4B1LQQ5jaTDVLUtBXLXb4mhBS0EKZbx8jTlLQcsfNRscIUtB0srg/+AdS0Ft/nd4pBtLQc9pBodjRUtB6oEWX3oTS0F8xtnCKEBLQTGyT1xbSUtBWz1jEvckS0GZKA4cWxtLQUcjP4sQNUtBRyM/ixA1S0FpbF6tthZLQaA4UQJeEUtBM9NaZRMeS0Ft/nd4pBtLQVs9YxL3JEtBtnnM9UZBS0F09wDa4SlLQQX6UIRQFEtBbf53eKQbS0FA41TBKh5LQQX6UIRQFEtBXyO/x+IXS0Ft/nd4pBtLQYql+H9bF0tBu8ZK1js3S0E0IUhaVRpLQaA4UQJeEUtB6oEWX3oTS0FpbF6tthZLQeA0CYsnL0tB4yDsyq0iS0G2ecz1RkFLQeqBFl96E0tBXyO/x+IXS0GwKRQBnyxLQQlnqYNjNktBXyO/x+IXS0Ft/nd4pBtLQeqBFl96E0tBCmW8fI05S0HLJpUKRB9LQfp56Y1HHUtBsUR74wArS0GW4DLSH0dLQcGp5xLRREtB+wD+3SMlS0Ep4NlrOhxLQei2TBIoQUtB6oEWX3oTS0HqgRZfehNLQf3oSrH0WUtBF03ot7oXS0EOY2kw1S1LQZEmhl9BNUtBJ95hNGY9S0GmF9gg9TpLQR/OGB/hG0tBAS1TxQkcS0EKZbx8jTlLQfrYjAXvKUtB0JSG6c8/S0EQOg69LxpLQQEtU8UJHEtBHXl4wucfS0HpfUD9MkVLQWA4qEdROUtBH84YH+EbS0G69jyK+ihLQa5DW7UdHEtBF+KbFKUUS0H62IwF7ylLQbTnmOV+GUtB76baLTxDS0En3mE0Zj1LQWVmRdnGNEtB6oEWX3oTS0Ec9XeBYixLQUcjP4sQNUtBZ8it2rRAS0HQlIbpzz9LQYKfADQGREtB9tWuusccS0EnIxHWJE5LQbr2PIr6KEtBJrZGWNscS0G6I6oG2iRLQbOkqXlkIktBVFctLL8eS0FXwxLXNRxLQaOwWB4GFktBQ7M5ACEfS0Elcio5CBVLQQVIUSYVOktB6oEWX3oTS0GuQ1u1HRxLQe7MWwp9IUtBQNebxNsTS0Ft/nd4pBtLQajUytDIFEtB4DQJiycvS0HpfUD9MkVLQddC+iP5UEtBDmNpMNUtS0F09wDa4SlLQQ5jaTDVLUtBrBCbOjUdS0HXQvoj+VBLQdopC7K8HEtBBHmoMpFKS0EL/jhrjyBLQXT3ANrhKUtB76baLTxDS0GpciFfe1FLQXumBWXIR0tBqXIhX3tRS0HBqecS0URLQXjrTipMHEtBxJobRYghS0HoVC70kx1LQUcjP4sQNUtB0WQ2ue0hS0GnDU4kxh5LQSZv2ylwS0tB0WQ2ue0hS0GDPDNfwlBLQSd9B9rMKktBIc8tTDwfS0E65DSpqxxLQW3+d3ikG0tBCo01y28fS0E/uj5dXR1LQbXteSU1IUtBJoaw3ScvS0HgNAmLJy9LQfJbps/CNUtBzLSPutIvS0FJ+y/YMiJLQSm17qhkOUtB3TD1cFklS0FExRs3jS5LQd6CrjJzKUtB5Ei5ldwaS0FFfZkwKCZLQUcPdNxGL0tBLZEyJVkgS0GRpLM1FTdLQSBhX4ixHEtBJRZdPP4rS0EY8oyjHRVLQT+DWGDIMEtBjENuveEuS0GG5lRq3y5LQTEJGT7gQUtBMzrGtrgtS0G+xKhLMSJLQbQRIP8COktBLdsvKM8wS0GMh678ryJLQX/jqallL0tBlLYyzeYlS0FFEHJw/TZLQd/Nit0KOEtBjvklp/0wS0GJ0L4HeD5LQamSw8QKGUtBL0jgi9gdS0F1eELxNiNLQUV6svAvIktBiqVDFIM+S0FEFFsdhyxLQXYhTNiUFUtBNgULj0ElS0HvptotPENLQaQmZe6RH0tBOScZMFIhS0EL9tlASz5LQT7+c+FRNktBSU8O8EgsS0GmOlk4kjpLQXT3ANrhKUtBjp56zYYqS0FcpUA/9R9LQSBhX4ixHEtBg3OgQGMlS0Ft/nd4pBtLQc5TQ59EH0tB5Ei5ldwaS0EF+lCEUBRLQfhLmXevOUtBA1xucEweS0GsEJs6NR1LQQignd4ZLEtBbJAQYQA9S0HqgRZfehNLQeOzw/n/JUtBG06RN7IdS0En3mE0Zj1LQfRw1ckFJUtBCmW8fI05S0HPOYbW4yZLQfKTn2gHFktBaKLulmoqS0EkcZFwpyNLQeA0CYsnL0tB+fdaYeFCS0G3X0SrkC9LQWMaEfD0JUtBEgU3f6gvS0EJIGwfYSZLQdGdnhSGHUtB1cYOJE4bS0Er4d200hVLQZS2Ms3mJUtBypmVy3UfS0HB94TMYDpLQYLgYN93L0tBpEsl+MkhS0GVrZ24SShLQbMgmHazKEtBA5wOyMQqS0EUXuZYSCRLQWE4wJpJIUtB9HDVyQUlS0Gy0Ox9UCxLQWRLbruLJEtB8uoyH+UbS0FmXgYBdyVLQUorRNpNLUtBh94lf5QcS0EKvl29FBxLQQxhz+iuJEtBYjyeBJobS0FHIz+LEDVLQe+m2i08Q0tBFBzaepQsS0GMJHYKDyhLQQ8QwYKWMUtBChTuoi8xS0F3jPugMCFLQY/vnRaBH0tBhVCoioIqS0HPTOFqxidLQYQba7QHH0tB0uMqN2o5S0GImCosFT5LQYiYKiwVPktBjp4CZREvS0GFb5XVAh1LQXynPGbAJktBmpxuIvMkS0F4r6TJLiRLQVfAxVc2LEtBvh0cz1QvS0F1dmkTgTNLQceahBH5HUtBdPcA2uEpS0Ho2ZA/OSxLQUrAVMTRLUtBGubd9ZAuS0GRuaV8RRRLQa0pRVoGL0tBH4hSfDoxS0HRnZ4Uhh1LQb4dHM9UL0tB/zooVoslS0Gi7mUrfjNLQStPC9w/NktBxBJALcw1S0EA3iUQKDhLQfEDonkZJUtB14MnwCMkS0HpNyEAjSpLQdLeCjdcNEtBNLMj3wgpS0E3hx8kRTFLQWJonuNvMktBmKo1xWUmS0HRnZ4Uhh1LQSZ8agF2K0tBHzy+JlomS0FMtFuowi1LQX7KLLSeJktBV9bO9sArS0F9Z8HuDhxLQdGdnhSGHUtBeXUtwrArS0H8VBVn/yxLQVEGpkBUMUtB30mWULEjS0GkQc2XnzpLQbg487LWHEtB3bbuCFEuS0F0glaWIDNLQQ4rcNVUMUtBSYT16Rc4S0Fln0+9yj1LQeeDJY1NMEtBhBtrtAcfS0EMJzPR9TZLQZF2IJXXUUtB8uoyH+UbS0EmGk/rrDJLQSElDrRhOktBNUxQMpgeS0GuTwUVQR5LQZD6ar8jMktBOy5XgKw9S0HbsM6ozipLQbqlh0xEN0tB4DQJiycvS0EMJzPR9TZLQRexEKpZP0tBGBCgzWssS0E/Ib7eRCxLQRQc2nqULEtBH9SyH14tS0FERX4pIzdLQUQUWx2HLEtBIDS+EYkiS0EKvl29FBxLQW3+d3ikG0tBZ25AlQsvS0HEOGBytEVLQR+Tb83HIktBSU8O8EgsS0Hkok4zxCpLQUQUWx2HLEtBIGFfiLEcS0GkQc2XnzpLQQwnM9H1NktBpo3X/TosS0GK8w+b7zhLQcMUQXKrQUtBu50wy4U4S0GEG2u0Bx9LQenVwDToMktBdNO4Q2s6S0GXffpguydLQSfJw2M0JktBSU8O8EgsS0Ewrw012CtLQYrb4JSNKktBpEHNl586S0FO1i0NnzhLQejZkD85LEtBwAUrAfs9S0F9Z8HuDhxLQeSNdvJuNktB4DQJiycvS0EKvl29FBxLQflWPniHM0tBpEHNl586S0GkrVenoCdLQa6h8T4ZLktBaUgs2+4xS0EKvl29FBxLQbT+El+FLEtBhh4yeOgfS0HEBffZASxLQYQba7QHH0tBBW960xkwS0HeCX/2IS5LQWDgWtzeLEtBaOCZu+EcS0H5Vj54hzNLQWhBUd3EQ0tBhORdSQM9S0HEtrDbCTFLQdGdnhSGHUtBdsAYVHMwS0EnfQfazCpLQWAW0EfaKktBNgpL/NweS0FREO0jSTlLQYrEyNPQNUtB0Z2eFIYdS0HnDX+TZSVLQS6VYWuMKktBcijlPN4nS0HPYIyGVDBLQVEGpkBUMUtBIGFfiLEcS0F98ke/pSlLQY1flrO0L0tButxXsGUxS0HmP8ZbqSRLQQwnM9H1NktBerbZdqsrS0EfiFJ8OjFLQUcRVan2LktB9G+hDQY+S0GVulFMRi1LQfPgnDsUIUtBw/7SnnwuS0Fgc6tRvixLQTZb5j/1MUtBYa+T3csoS0EGcLIfCj5LQZqcbiLzJEtBNlvmP/UxS0FJTw7wSCxLQfFBtMerN0tB/eKbCZUwS0G2tVsfHiVLQbrcV7BlMUtBCkoFrTotS0HBthQH6TZLQYUBQLjJPEtB4d8TEmwtS0FSF5mtpR9LQSBhX4ixHEtBLSUzWnQ4S0FE2alh0hlLQRP16Fk4PEtBWSL+iIgsS0EQgUEYOi1LQe8xJH2ZM0tB9G+hDQY+S0G63FewZTFLQSBhX4ixHEtBSq6Dd+w9S0GUtjLN5iVLQS0lM1p0OEtBfp9Bu3c8S0HPTOFqxidLQR4SGmHtMEtBiJgqLBU+S0EgYV+IsRxLQQk3W0uhMktBwfeEzGA6S0EUw6vzxyZLQYiYKiwVPktBAfQQZ6kcS0FEFFsdhyxLQRA5VOdEQ0tBHDrpK4AcS0F4r6TJLiRLQYNgBw++K0tBqX1bKFkSS0GXeUdCdT1LQQ4vZjj3J0tB3qoUkaYqS0EKuBzTUSVLQc9Ol4MSHUtBoo91oUEvS0Hx+k2J3CxLQdmeOoR2L0tBDGHP6K4kS0EoPwuUExxLQU2BWu28PEtBmsBQNVksS0EqyHQjrClLQUpvjgWbJUtBo6cLdfslS0HaaEytOSlLQdYJfAOtNEtB2mhMrTkpS0EblzHoBihLQUrAVMTRLUtBGubd9ZAuS0GfaL8/ZCxLQROzzZAdKEtBivMPm+84S0EgYV+IsRxLQettsNnAHktBAjQOmgo1S0FYDDIx/idLQWqACXdXLEtBZEtuu4skS0FHC4k1ny1LQQDt0hlIQEtBMVh1vV0aS0Eydt2Q4TNLQSbjmBgIL0tBK0PTMokWS0HMtbzEbTlLQTOpDgZGJEtBrVP6pyQrS0FdmJPJGEJLQYxdZrTHHUtBC8+ieVwmS0EqyHQjrClLQS44jFTuQUtBUQamQFQxS0HPPlp5LjFLQfLqMh/lG0tBpEHNl586S0EHhJ8xICdLQfyM3Ev0JEtBGubd9ZAuS0Fqr+CPdx1LQXPknA+VLEtBwND/xa4lS0GZz6qkEitLQT9UJOrfTUtBiJgqLBU+S0EUHNp6lCxLQfFBtMerN0tBSsBUxNEtS0Gjije4KjdLQaRBzZefOktBr09N5HQfS0EO7wBVfzNLQRQc2nqULEtB1lmUTRI3S0G2RXOVvjlLQQvPonlcJktBKmGVm/0cS0FCbNURMSBLQZeTp2FuHktBL+GNipEkS0FJTw7wSCxLQUjEdkCtM0tBB8MffKsmS0GfaL8/ZCxLQV7ECjsBRktBYBbQR9oqS0HEFWCakChLQSrIdCOsKUtBd2CbgQYiS0G2tVsfHiVLQeiWaDB0HktB1qpXA58qS0FjCk/r8yFLQbqlh0xEN0tBN1qMu94gS0FgFtBH2ipLQTYFC49BJUtBpEHNl586S0HQIQR4PidLQb7EqEsxIktBJ95hNGY9S0HRnZ4Uhh1LQe+m2i08Q0tBS8eIOfoyS0HS4yo3ajlLQfxUFWf/LEtBBW960xkwS0FV4xWkFiJLQS+CWUkMOEtBpEHNl586S0En3mE0Zj1LQV1fSJQSLUtBd2CbgQYiS0Ex+nhyAh1LQaG4QlmjGUtBd2CbgQYiS0F7pgVlyEdLQddiKNrjI0tBOfAM/w4VS0E3sVZMUCxLQYrb4JSNKktBVfslqpodS0H1YLhwtCxLQcKua6+iL0tB0O6wpI4nS0FjCk/r8yFLQXQsYtZsGktBGubd9ZAuS0E2BQuPQSVLQXJMzqY1I0tB3qWMNIMmS0EUHNp6lCxLQYiYKiwVPktBm6wUBbMsS0FjGp3WAC5LQYrb4JSNKktBkKdcDmUiS0GpmeaIMDJLQXMT0CxJIktBRBRbHYcsS0ES1NZbwTRLQQnhM2wePUtBqZLDxAoZS0FHnP3NSy5LQWLozQzOMktB9aOczycnS0GGgpAnhzdLQWZD69WYMUtBJoaw3ScvS0HepYw0gyZLQTbcAwYoKEtBUbUlsCEtS0GtnDb7LiRLQf6nTLWCHktBFBzaepQsS0EJ4TNsHj1LQe8xJH2ZM0tB12Io2uMjS0FEFFsdhyxLQQLR0dNSMktBwfeEzGA6S0Hi1LH+iTBLQSs0hLkzHktBCeEzbB49S0GowjzPBzBLQTrH+U7LJktBDmOMfa44S0G3TzkuFiZLQWLozQzOMktBRNmpYdIZS0FGOiO3QzJLQYaCkCeHN0tBVeMVpBYiS0GEBwzB4CNLQaFj3gB3PUtBkhMdrOwgS0En3mE0Zj1LQYiYKiwVPktBmpxuIvMkS0Ea/26QbTJLQcNzwGjwHktBjCR2Cg8oS0FEFFsdhyxLQXMyZiZ3PEtB9STGfxMuS0FgFtBH2ipLQXE2zCqqKEtBlHmcb2U3S0FxU9yknzRLQYrzD5vvOEtB0uMqN2o5S0GJKujR7CFLQUTZqWHSGUtBcVPcpJ80S0EwskHyhCVLQZqcbiLzJEtBUw7N8q01S0HPenBE+yRLQYOvhbrGNktByHBa/iQqS0E55swgLSpLQVylQD/1H0tB4DQJiycvS0Hy6jIf5RtLQeA0CYsnL0tBrBCbOjUdS0EgYV+IsRxLQcy1vMRtOUtB+HuMN7QyS0E820PK8yFLQU15dN0hGUtBAS1TxQkcS0F85aJIvidLQeup3B8GGktBjCR2Cg8oS0Gz9+XlvitLQR/OGB/hG0tBFBzaepQsS0Fwf4j3TC5LQeBtDQ65J0tBgTgGzfQbS0EUDgaHezdLQfoKJ2nlHEtB0uMqN2o5S0HuxOec9jVLQWWpLtFQK0tBJHGRcKcjS0EfoyRQjCRLQY/vnRaBH0tBRjojt0MyS0GImCosFT5LQSPyKTrcLUtBRjojt0MyS0HvptotPENLQQsMzDMTHktBCBy8mE0jS0ELDMwzEx5LQTbO+fO2S0tBkC6dH0gOS0GhuEJZoxlLQcj3IAU2LEtBysJD1LMuS0HD00OGtDpLQQsMzDMTHktBiSro0ewhS0GEBwzB4CNLQVEGpkBUMUtBpEHNl586S0GMJHYKDyhLQWL9UjmxLUtBLSUzWnQ4S0Efzhgf4RtLQaRBzZefOktBSRKPCdkwS0H/ZLAbYUBLQdLjKjdqOUtBr/m5xV4aS0FRUSYNyyRLQQFzDTwnLEtBwannEtFES0E1OfP+GiNLQcSW8pc8NUtBpOc4jjxES0FTpERn92BLQR/OGB/hG0tBmPWfCAIhS0H+XEuXcENLQW3+d3ikG0tB5Ei5ldwaS0Esd/HLPzBLQcDQ/8WuJUtBovZNUYJCS0EfuBaAfUFLQfn3WmHhQktBaoAJd1csS0FIouQuekdLQZ8uavDvOUtBLoLdFSc1S0FjCk/r8yFLQVfDEtc1HEtBAyh5/uUVS0E/uj5dXR1LQRr2E7VLP0tBc+9U4r0/S0Efzhgf4RtLQQTXCc1NPEtBRNmpYdIZS0HkyCD6GUVLQcfOXQLNOktB76baLTxDS0EAMJEMUxVLQb03wcd2K0tB4DQJiycvS0G8vEK88hZLQQ8w220YHktBfxr81tstS0HGtIqB8TJLQUTZqWHSGUtBAS1TxQkcS0Fn9SNj4S9LQQEtU8UJHEtBHPV3gWIsS0HqXDKsxSJLQWloLPLTK0tB9NiNCicbS0EBLVPFCRxLQQEtU8UJHEtBRac1KMZDS0G0r9NdYTdLQX0CkJ9cFktBGNTGMlMcS0EBLVPFCRxLQcZD7XG2L0tB36x9jEYsS0HnOW8AlWNLQR/OGB/hG0tBShEjphorS0HqXDKsxSJLQQEtU8UJHEtBDVp7QcwiS0H02I0KJxtLQepcMqzFIktBjqlMOq0mS0H02I0KJxtLQYxeMvJ6N0tBDYkOy6QbS0Ft/nd4pBtLQWr5IRWSHUtB0RqytAYdS0GsEJs6NR1LQW3+d3ikG0tBdiFM2JQVS0Hv4qWU1ChLQQX6UIRQFEtBa3oq6H4jS0Eeu/K74hNLQS+WE2ToLktBkWhkmYtFS0FjCk/r8yFLQeFSaIPqNktB7YcVo0ZBS0EZWM+NtV5LQXumBWXIR0tBOR3wqydeS0HuzFsKfSFLQXcZYEh5FEtBIQSuQQwkS0E0Uk846iBLQR/z3UxbEUtB7sxbCn0hS0EYF/e1ohpLQZITHazsIEtB6UpKdtM9S0Go1MrQyBRLQba1Wx8eJUtB6oEWX3oTS0HXQvoj+VBLQSSNr+0qKEtB10L6I/lQS0G2tVsfHiVLQddC+iP5UEtBI4roC01DS0HfY0swwSdLQZ5cJumeJ0tB30mWULEjS0Gyz0reEBxLQbr2PIr6KEtBqK9r/61GS0G2ecz1RkFLQRtdzk6ZIUtBGBdzWz4cS0GvD9z85h5LQW3+d3ikG0tB5bpQtOIZS0Efzhgf4RtLQUYEeE2ME0tB4DQJiycvS0H6eemNRx1LQQY3CvnyF0tB+nnpjUcdS0HgNAmLJy9LQdNiOY2yE0tBiqEsO/E5S0HgNAmLJy9LQbZQ3ou3KktBtlDei7cqS0HS4yo3ajlLQWE55c9lKktBmfF40lkVS0G3nE1FCSZLQQxhz+iuJEtBtWnm4ZEjS0ECGXCh+zZLQfgEE+Eia0tBtpKzVBoTS0FrVFbXMB1LQcFBy2bCIEtBNEa5qWdES0HNLKRp2BJLQWi9I6n6IktB+na9GLYWS0EwYr7Bzx5LQX4wWERaHUtB2XBD4KoTS0GfGIsZxxpLQaA4UQJeEUtBvRF0MBk9S0Ft/nd4pBtLQXumBWXIR0tBxvgNmntAS0HEnhdvfR1LQbr2PIr6KEtBdPcA2uEpS0GB3pUVtzdLQdLjKjdqOUtBkFHXpIE7S0FSkrDKNSFLQTtJAz0zOEtB4JVqYyg5S0EzZmEM6iNLQZpV7V1kREtBxrvu/WEjS0GgOFECXhFLQQM4XmeKG0tBZYoH7h8lS0FligfuHyVLQYTolBI9REtBrWuz9J8dS0E4hIeWPkdLQZYoe0/NJEtBbf53eKQbS0HPgJY/6xNLQawQmzo1HUtBPf1bPH44S0FyTdkDiRJLQVfDEtc1HEtBOa+juLggS0Ez0Gwn+hZLQVfDEtc1HEtBXs44ayQcS0Ht04QBZj9LQeS9PnrcE0tBV8MS1zUcS0E5f/LwUD9LQbKWcBUwK0tBj4/faNQ4S0G+OrejGkpLQRMW0hnOREtBUYSshj4iS0Hw7DRF6SFLQbv1pKesF0tB0JSG6c8/S0FDAGbPFkVLQR/OGB/hG0tBdPcA2uEpS0G69jyK+ihLQfhMwSt/FUtBJtNdzcIPS0HBqecS0URLQR/OGB/hG0tB6oEWX3oTS0Ft/nd4pBtLQW3+d3ikG0tBEKqDglAZS0HqgRZfehNLQeqBFl96E0tBCetIg1lZS0EBLVPFCRxLQUUm0xM3LktB9tWuusccS0FVcFYgRhpLQct1jMWgR0tBxATWufVFS0G9EXQwGT1LQS6nv3SgIEtBYJkkzHEgS0E=\"},\"shape\":[1777],\"dtype\":\"float64\",\"order\":\"little\"}]]}}},\"view\":{\"type\":\"object\",\"name\":\"CDSView\",\"id\":\"p1101\",\"attributes\":{\"filter\":{\"type\":\"object\",\"name\":\"AllIndices\",\"id\":\"p1102\"}}},\"glyph\":{\"type\":\"object\",\"name\":\"Scatter\",\"id\":\"p1097\",\"attributes\":{\"tags\":[\"apply_ranges\"],\"x\":{\"type\":\"field\",\"field\":\"longitude\"},\"y\":{\"type\":\"field\",\"field\":\"latitude\"},\"size\":{\"type\":\"value\",\"value\":5.477225575051661},\"line_color\":{\"type\":\"value\",\"value\":\"#254b7f\"},\"line_alpha\":{\"type\":\"value\",\"value\":0.7},\"fill_color\":{\"type\":\"value\",\"value\":\"#254b7f\"},\"fill_alpha\":{\"type\":\"value\",\"value\":0.7},\"hatch_color\":{\"type\":\"value\",\"value\":\"#254b7f\"},\"hatch_alpha\":{\"type\":\"value\",\"value\":0.7}}},\"selection_glyph\":{\"type\":\"object\",\"name\":\"Scatter\",\"id\":\"p1105\",\"attributes\":{\"tags\":[\"apply_ranges\"],\"x\":{\"type\":\"field\",\"field\":\"longitude\"},\"y\":{\"type\":\"field\",\"field\":\"latitude\"},\"size\":{\"type\":\"value\",\"value\":5.477225575051661},\"angle\":{\"type\":\"value\",\"value\":0.0},\"line_color\":{\"type\":\"value\",\"value\":\"#254b7f\"},\"line_alpha\":{\"type\":\"value\",\"value\":0.7},\"line_width\":{\"type\":\"value\",\"value\":1},\"line_join\":{\"type\":\"value\",\"value\":\"bevel\"},\"line_cap\":{\"type\":\"value\",\"value\":\"butt\"},\"line_dash\":{\"type\":\"value\",\"value\":[]},\"line_dash_offset\":{\"type\":\"value\",\"value\":0},\"fill_color\":{\"type\":\"value\",\"value\":\"#254b7f\"},\"fill_alpha\":{\"type\":\"value\",\"value\":0.7},\"hatch_color\":{\"type\":\"value\",\"value\":\"#254b7f\"},\"hatch_alpha\":{\"type\":\"value\",\"value\":0.7},\"hatch_scale\":{\"type\":\"value\",\"value\":12.0},\"hatch_pattern\":{\"type\":\"value\",\"value\":null},\"hatch_weight\":{\"type\":\"value\",\"value\":1.0},\"marker\":{\"type\":\"value\",\"value\":\"circle\"}}},\"nonselection_glyph\":{\"type\":\"object\",\"name\":\"Scatter\",\"id\":\"p1098\",\"attributes\":{\"tags\":[\"apply_ranges\"],\"x\":{\"type\":\"field\",\"field\":\"longitude\"},\"y\":{\"type\":\"field\",\"field\":\"latitude\"},\"size\":{\"type\":\"value\",\"value\":5.477225575051661},\"line_color\":{\"type\":\"value\",\"value\":\"#254b7f\"},\"line_alpha\":{\"type\":\"value\",\"value\":0.7},\"fill_color\":{\"type\":\"value\",\"value\":\"#254b7f\"},\"fill_alpha\":{\"type\":\"value\",\"value\":0.7},\"hatch_color\":{\"type\":\"value\",\"value\":\"#254b7f\"},\"hatch_alpha\":{\"type\":\"value\",\"value\":0.1}}},\"muted_glyph\":{\"type\":\"object\",\"name\":\"Scatter\",\"id\":\"p1099\",\"attributes\":{\"tags\":[\"apply_ranges\"],\"x\":{\"type\":\"field\",\"field\":\"longitude\"},\"y\":{\"type\":\"field\",\"field\":\"latitude\"},\"size\":{\"type\":\"value\",\"value\":5.477225575051661},\"line_color\":{\"type\":\"value\",\"value\":\"#254b7f\"},\"line_alpha\":{\"type\":\"value\",\"value\":0.2},\"fill_color\":{\"type\":\"value\",\"value\":\"#254b7f\"},\"fill_alpha\":{\"type\":\"value\",\"value\":0.2},\"hatch_color\":{\"type\":\"value\",\"value\":\"#254b7f\"},\"hatch_alpha\":{\"type\":\"value\",\"value\":0.2}}}}}],\"toolbar\":{\"type\":\"object\",\"name\":\"Toolbar\",\"id\":\"p1063\",\"attributes\":{\"tools\":[{\"type\":\"object\",\"name\":\"WheelZoomTool\",\"id\":\"p1029\",\"attributes\":{\"renderers\":\"auto\",\"zoom_on_axis\":false}},{\"type\":\"object\",\"name\":\"BoxZoomTool\",\"id\":\"p1035\",\"attributes\":{\"overlay\":{\"type\":\"object\",\"name\":\"BoxAnnotation\",\"id\":\"p1030\",\"attributes\":{\"syncable\":false,\"level\":\"overlay\",\"visible\":false,\"left\":{\"type\":\"number\",\"value\":\"nan\"},\"right\":{\"type\":\"number\",\"value\":\"nan\"},\"top\":{\"type\":\"number\",\"value\":\"nan\"},\"bottom\":{\"type\":\"number\",\"value\":\"nan\"},\"left_units\":\"canvas\",\"right_units\":\"canvas\",\"top_units\":\"canvas\",\"bottom_units\":\"canvas\",\"line_color\":\"black\",\"line_alpha\":1.0,\"line_width\":2,\"line_dash\":[4,4],\"fill_color\":\"lightgrey\",\"fill_alpha\":0.5}},\"match_aspect\":true}},{\"type\":\"object\",\"name\":\"HoverTool\",\"id\":\"p1053\",\"attributes\":{\"tags\":[\"hv_created\"],\"renderers\":[{\"id\":\"p1100\"}],\"tooltips\":[[\"longitude\",\"$x{custom}\"],[\"latitude\",\"$y{custom}\"]],\"formatters\":{\"type\":\"map\",\"entries\":[[\"$x\",{\"type\":\"object\",\"name\":\"CustomJSHover\",\"id\":\"p1103\",\"attributes\":{\"code\":\"\\n        const projections = Bokeh.require(\\\"core/util/projections\\\");\\n        const {snap_x, snap_y} = special_vars\\n        const coords = projections.wgs84_mercator.invert(snap_x, snap_y)\\n        return \\\"\\\" + (coords[0]).toFixed(4)\\n    \"}}],[\"$y\",{\"type\":\"object\",\"name\":\"CustomJSHover\",\"id\":\"p1104\",\"attributes\":{\"code\":\"\\n        const projections = Bokeh.require(\\\"core/util/projections\\\");\\n        const {snap_x, snap_y} = special_vars\\n        const coords = projections.wgs84_mercator.invert(snap_x, snap_y)\\n        return \\\"\\\" + (coords[1]).toFixed(4)\\n    \"}}]]}}},{\"type\":\"object\",\"name\":\"PanTool\",\"id\":\"p1077\"},{\"type\":\"object\",\"name\":\"ResetTool\",\"id\":\"p1078\"}],\"active_drag\":{\"id\":\"p1077\"}}},\"left\":[{\"type\":\"object\",\"name\":\"LinearAxis\",\"id\":\"p1071\",\"attributes\":{\"ticker\":{\"type\":\"object\",\"name\":\"MercatorTicker\",\"id\":\"p1081\",\"attributes\":{\"mantissas\":[1,2,5],\"dimension\":\"lat\"}},\"formatter\":{\"type\":\"object\",\"name\":\"MercatorTickFormatter\",\"id\":\"p1082\",\"attributes\":{\"dimension\":\"lat\"}},\"axis_label\":\"Latitude\",\"major_label_policy\":{\"type\":\"object\",\"name\":\"AllLabels\",\"id\":\"p1074\"}}}],\"below\":[{\"type\":\"object\",\"name\":\"LinearAxis\",\"id\":\"p1066\",\"attributes\":{\"ticker\":{\"type\":\"object\",\"name\":\"MercatorTicker\",\"id\":\"p1079\",\"attributes\":{\"mantissas\":[1,2,5],\"dimension\":\"lon\"}},\"formatter\":{\"type\":\"object\",\"name\":\"MercatorTickFormatter\",\"id\":\"p1080\",\"attributes\":{\"dimension\":\"lon\"}},\"axis_label\":\"Longitude\",\"major_label_policy\":{\"type\":\"object\",\"name\":\"AllLabels\",\"id\":\"p1069\"}}}],\"center\":[{\"type\":\"object\",\"name\":\"Grid\",\"id\":\"p1070\",\"attributes\":{\"axis\":{\"id\":\"p1066\"},\"grid_line_color\":null}},{\"type\":\"object\",\"name\":\"Grid\",\"id\":\"p1075\",\"attributes\":{\"dimension\":1,\"axis\":{\"id\":\"p1071\"},\"grid_line_color\":null}}],\"frame_width\":600,\"frame_height\":700,\"min_border_top\":10,\"min_border_bottom\":10,\"min_border_left\":10,\"min_border_right\":10,\"output_backend\":\"webgl\",\"match_aspect\":true}},{\"type\":\"object\",\"name\":\"Spacer\",\"id\":\"p1107\",\"attributes\":{\"name\":\"HSpacer01716\",\"stylesheets\":[\"\\n:host(.pn-loading):before, .pn-loading:before {\\n  background-color: #c3c3c3;\\n  mask-size: auto calc(min(50%, 400px));\\n  -webkit-mask-size: auto calc(min(50%, 400px));\\n}\",{\"id\":\"p1014\"},{\"id\":\"p1012\"},{\"id\":\"p1013\"}],\"margin\":0,\"sizing_mode\":\"stretch_width\",\"align\":\"start\"}}]}}],\"defs\":[{\"type\":\"model\",\"name\":\"ReactiveHTML1\"},{\"type\":\"model\",\"name\":\"FlexBox1\",\"properties\":[{\"name\":\"align_content\",\"kind\":\"Any\",\"default\":\"flex-start\"},{\"name\":\"align_items\",\"kind\":\"Any\",\"default\":\"flex-start\"},{\"name\":\"flex_direction\",\"kind\":\"Any\",\"default\":\"row\"},{\"name\":\"flex_wrap\",\"kind\":\"Any\",\"default\":\"wrap\"},{\"name\":\"gap\",\"kind\":\"Any\",\"default\":\"\"},{\"name\":\"justify_content\",\"kind\":\"Any\",\"default\":\"flex-start\"}]},{\"type\":\"model\",\"name\":\"FloatPanel1\",\"properties\":[{\"name\":\"config\",\"kind\":\"Any\",\"default\":{\"type\":\"map\"}},{\"name\":\"contained\",\"kind\":\"Any\",\"default\":true},{\"name\":\"position\",\"kind\":\"Any\",\"default\":\"right-top\"},{\"name\":\"offsetx\",\"kind\":\"Any\",\"default\":null},{\"name\":\"offsety\",\"kind\":\"Any\",\"default\":null},{\"name\":\"theme\",\"kind\":\"Any\",\"default\":\"primary\"},{\"name\":\"status\",\"kind\":\"Any\",\"default\":\"normalized\"}]},{\"type\":\"model\",\"name\":\"GridStack1\",\"properties\":[{\"name\":\"mode\",\"kind\":\"Any\",\"default\":\"warn\"},{\"name\":\"ncols\",\"kind\":\"Any\",\"default\":null},{\"name\":\"nrows\",\"kind\":\"Any\",\"default\":null},{\"name\":\"allow_resize\",\"kind\":\"Any\",\"default\":true},{\"name\":\"allow_drag\",\"kind\":\"Any\",\"default\":true},{\"name\":\"state\",\"kind\":\"Any\",\"default\":[]}]},{\"type\":\"model\",\"name\":\"drag1\",\"properties\":[{\"name\":\"slider_width\",\"kind\":\"Any\",\"default\":5},{\"name\":\"slider_color\",\"kind\":\"Any\",\"default\":\"black\"},{\"name\":\"value\",\"kind\":\"Any\",\"default\":50}]},{\"type\":\"model\",\"name\":\"click1\",\"properties\":[{\"name\":\"terminal_output\",\"kind\":\"Any\",\"default\":\"\"},{\"name\":\"debug_name\",\"kind\":\"Any\",\"default\":\"\"},{\"name\":\"clears\",\"kind\":\"Any\",\"default\":0}]},{\"type\":\"model\",\"name\":\"FastWrapper1\",\"properties\":[{\"name\":\"object\",\"kind\":\"Any\",\"default\":null},{\"name\":\"style\",\"kind\":\"Any\",\"default\":null}]},{\"type\":\"model\",\"name\":\"NotificationAreaBase1\",\"properties\":[{\"name\":\"js_events\",\"kind\":\"Any\",\"default\":{\"type\":\"map\"}},{\"name\":\"position\",\"kind\":\"Any\",\"default\":\"bottom-right\"},{\"name\":\"_clear\",\"kind\":\"Any\",\"default\":0}]},{\"type\":\"model\",\"name\":\"NotificationArea1\",\"properties\":[{\"name\":\"js_events\",\"kind\":\"Any\",\"default\":{\"type\":\"map\"}},{\"name\":\"notifications\",\"kind\":\"Any\",\"default\":[]},{\"name\":\"position\",\"kind\":\"Any\",\"default\":\"bottom-right\"},{\"name\":\"_clear\",\"kind\":\"Any\",\"default\":0},{\"name\":\"types\",\"kind\":\"Any\",\"default\":[{\"type\":\"map\",\"entries\":[[\"type\",\"warning\"],[\"background\",\"#ffc107\"],[\"icon\",{\"type\":\"map\",\"entries\":[[\"className\",\"fas fa-exclamation-triangle\"],[\"tagName\",\"i\"],[\"color\",\"white\"]]}]]},{\"type\":\"map\",\"entries\":[[\"type\",\"info\"],[\"background\",\"#007bff\"],[\"icon\",{\"type\":\"map\",\"entries\":[[\"className\",\"fas fa-info-circle\"],[\"tagName\",\"i\"],[\"color\",\"white\"]]}]]}]}]},{\"type\":\"model\",\"name\":\"Notification\",\"properties\":[{\"name\":\"background\",\"kind\":\"Any\",\"default\":null},{\"name\":\"duration\",\"kind\":\"Any\",\"default\":3000},{\"name\":\"icon\",\"kind\":\"Any\",\"default\":null},{\"name\":\"message\",\"kind\":\"Any\",\"default\":\"\"},{\"name\":\"notification_type\",\"kind\":\"Any\",\"default\":null},{\"name\":\"_destroyed\",\"kind\":\"Any\",\"default\":false}]},{\"type\":\"model\",\"name\":\"TemplateActions1\",\"properties\":[{\"name\":\"open_modal\",\"kind\":\"Any\",\"default\":0},{\"name\":\"close_modal\",\"kind\":\"Any\",\"default\":0}]},{\"type\":\"model\",\"name\":\"BootstrapTemplateActions1\",\"properties\":[{\"name\":\"open_modal\",\"kind\":\"Any\",\"default\":0},{\"name\":\"close_modal\",\"kind\":\"Any\",\"default\":0}]},{\"type\":\"model\",\"name\":\"TemplateEditor1\",\"properties\":[{\"name\":\"layout\",\"kind\":\"Any\",\"default\":[]}]},{\"type\":\"model\",\"name\":\"MaterialTemplateActions1\",\"properties\":[{\"name\":\"open_modal\",\"kind\":\"Any\",\"default\":0},{\"name\":\"close_modal\",\"kind\":\"Any\",\"default\":0}]},{\"type\":\"model\",\"name\":\"copy_to_clipboard1\",\"properties\":[{\"name\":\"fill\",\"kind\":\"Any\",\"default\":\"none\"},{\"name\":\"value\",\"kind\":\"Any\",\"default\":null}]}]}};\n",
       "  var render_items = [{\"docid\":\"ddc7f4a2-4ff7-47b3-9735-1ac8bcdc8076\",\"roots\":{\"p1011\":\"a775125f-1a87-4dab-b0f9-ce241726657b\"},\"root_ids\":[\"p1011\"]}];\n",
       "  var docs = Object.values(docs_json)\n",
       "  if (!docs) {\n",
       "    return\n",
       "  }\n",
       "  const py_version = docs[0].version.replace('rc', '-rc.').replace('.dev', '-dev.')\n",
       "  async function embed_document(root) {\n",
       "    var Bokeh = get_bokeh(root)\n",
       "    await Bokeh.embed.embed_items_notebook(docs_json, render_items);\n",
       "    for (const render_item of render_items) {\n",
       "      for (const root_id of render_item.root_ids) {\n",
       "\tconst id_el = document.getElementById(root_id)\n",
       "\tif (id_el.children.length && id_el.children[0].hasAttribute('data-root-id')) {\n",
       "\t  const root_el = id_el.children[0]\n",
       "\t  root_el.id = root_el.id + '-rendered'\n",
       "\t  for (const child of root_el.children) {\n",
       "            // Ensure JupyterLab does not capture keyboard shortcuts\n",
       "            // see: https://jupyterlab.readthedocs.io/en/4.1.x/extension/notebook.html#keyboard-interaction-model\n",
       "\t    child.setAttribute('data-lm-suppress-shortcuts', 'true')\n",
       "\t  }\n",
       "\t}\n",
       "      }\n",
       "    }\n",
       "  }\n",
       "  function get_bokeh(root) {\n",
       "    if (root.Bokeh === undefined) {\n",
       "      return null\n",
       "    } else if (root.Bokeh.version !== py_version) {\n",
       "      if (root.Bokeh.versions === undefined || !root.Bokeh.versions.has(py_version)) {\n",
       "\treturn null\n",
       "      }\n",
       "      return root.Bokeh.versions.get(py_version);\n",
       "    } else if (root.Bokeh.version === py_version) {\n",
       "      return root.Bokeh\n",
       "    }\n",
       "    return null\n",
       "  }\n",
       "  function is_loaded(root) {\n",
       "    var Bokeh = get_bokeh(root)\n",
       "    return (Bokeh != null && Bokeh.Panel !== undefined)\n",
       "  }\n",
       "  if (is_loaded(root)) {\n",
       "    embed_document(root);\n",
       "  } else {\n",
       "    var attempts = 0;\n",
       "    var timer = setInterval(function(root) {\n",
       "      if (is_loaded(root)) {\n",
       "        clearInterval(timer);\n",
       "        embed_document(root);\n",
       "      } else if (document.readyState == \"complete\") {\n",
       "        attempts++;\n",
       "        if (attempts > 200) {\n",
       "          clearInterval(timer);\n",
       "\t  var Bokeh = get_bokeh(root)\n",
       "\t  if (Bokeh == null || Bokeh.Panel == null) {\n",
       "            console.warn(\"Panel: ERROR: Unable to run Panel code because Bokeh or Panel library is missing\");\n",
       "\t  } else {\n",
       "\t    console.warn(\"Panel: WARNING: Attempting to render but not all required libraries could be resolved.\")\n",
       "\t    embed_document(root)\n",
       "\t  }\n",
       "        }\n",
       "      }\n",
       "    }, 25, root)\n",
       "  }\n",
       "})(window);</script>"
      ],
      "text/plain": [
       ":Overlay\n",
       "   .WMTS.I   :WMTS   [Longitude,Latitude]\n",
       "   .Points.I :Points   [longitude,latitude]"
      ]
     },
     "execution_count": 47,
     "metadata": {
      "application/vnd.holoviews_exec.v0+json": {
       "id": "p1011"
      }
     },
     "output_type": "execute_result"
    }
   ],
   "source": [
    "category = 'theft'\n",
    "map = show_map(category)\n",
    "map"
   ]
  },
  {
   "cell_type": "markdown",
   "metadata": {},
   "source": [
    "### A map of drunkenness"
   ]
  },
  {
   "cell_type": "code",
   "execution_count": 49,
   "metadata": {},
   "outputs": [
    {
     "data": {},
     "metadata": {},
     "output_type": "display_data"
    },
    {
     "data": {
      "application/vnd.holoviews_exec.v0+json": "",
      "text/html": [
       "<div id='p1113'>\n",
       "  <div id=\"ebeb6884-3155-4884-a50b-7296b7aefd00\" data-root-id=\"p1113\" style=\"display: contents;\"></div>\n",
       "</div>\n",
       "<script type=\"application/javascript\">(function(root) {\n",
       "  var docs_json = {\"337fddd7-7b1e-4bbb-88dd-e79ac0e43ac2\":{\"version\":\"3.4.3\",\"title\":\"Bokeh Application\",\"roots\":[{\"type\":\"object\",\"name\":\"Row\",\"id\":\"p1113\",\"attributes\":{\"name\":\"Row01849\",\"tags\":[\"embedded\"],\"stylesheets\":[\"\\n:host(.pn-loading):before, .pn-loading:before {\\n  background-color: #c3c3c3;\\n  mask-size: auto calc(min(50%, 400px));\\n  -webkit-mask-size: auto calc(min(50%, 400px));\\n}\",{\"type\":\"object\",\"name\":\"ImportedStyleSheet\",\"id\":\"p1116\",\"attributes\":{\"url\":\"https://cdn.holoviz.org/panel/1.4.5/dist/css/loading.css\"}},{\"type\":\"object\",\"name\":\"ImportedStyleSheet\",\"id\":\"p1211\",\"attributes\":{\"url\":\"https://cdn.holoviz.org/panel/1.4.5/dist/css/listpanel.css\"}},{\"type\":\"object\",\"name\":\"ImportedStyleSheet\",\"id\":\"p1114\",\"attributes\":{\"url\":\"https://cdn.holoviz.org/panel/1.4.5/dist/bundled/theme/default.css\"}},{\"type\":\"object\",\"name\":\"ImportedStyleSheet\",\"id\":\"p1115\",\"attributes\":{\"url\":\"https://cdn.holoviz.org/panel/1.4.5/dist/bundled/theme/native.css\"}}],\"margin\":0,\"sizing_mode\":\"stretch_width\",\"align\":\"start\",\"children\":[{\"type\":\"object\",\"name\":\"Spacer\",\"id\":\"p1117\",\"attributes\":{\"name\":\"HSpacer01855\",\"stylesheets\":[\"\\n:host(.pn-loading):before, .pn-loading:before {\\n  background-color: #c3c3c3;\\n  mask-size: auto calc(min(50%, 400px));\\n  -webkit-mask-size: auto calc(min(50%, 400px));\\n}\",{\"id\":\"p1116\"},{\"id\":\"p1114\"},{\"id\":\"p1115\"}],\"margin\":0,\"sizing_mode\":\"stretch_width\",\"align\":\"start\"}},{\"type\":\"object\",\"name\":\"Figure\",\"id\":\"p1156\",\"attributes\":{\"width\":null,\"height\":null,\"margin\":[5,10],\"sizing_mode\":\"fixed\",\"align\":\"start\",\"x_range\":{\"type\":\"object\",\"name\":\"Range1d\",\"id\":\"p1127\",\"attributes\":{\"tags\":[[[\"Longitude\",null]],[]],\"start\":-10164195.721607205,\"end\":-10120333.91083711,\"reset_start\":-10164195.721607205,\"reset_end\":-10120333.91083711,\"min_interval\":5}},\"y_range\":{\"type\":\"object\",\"name\":\"Range1d\",\"id\":\"p1128\",\"attributes\":{\"tags\":[[[\"Latitude\",null]],{\"type\":\"map\",\"entries\":[[\"invert_yaxis\",false],[\"autorange\",false]]}],\"start\":3544086.4285939494,\"end\":3595258.5411590594,\"reset_start\":3544086.4285939494,\"reset_end\":3595258.5411590594,\"min_interval\":5}},\"x_scale\":{\"type\":\"object\",\"name\":\"LinearScale\",\"id\":\"p1166\"},\"y_scale\":{\"type\":\"object\",\"name\":\"LinearScale\",\"id\":\"p1167\"},\"title\":{\"type\":\"object\",\"name\":\"Title\",\"id\":\"p1159\",\"attributes\":{\"text_color\":\"black\",\"text_font_size\":\"12pt\"}},\"renderers\":[{\"type\":\"object\",\"name\":\"TileRenderer\",\"id\":\"p1189\",\"attributes\":{\"level\":\"underlay\",\"tile_source\":{\"type\":\"object\",\"name\":\"WMTSTileSource\",\"id\":\"p1185\",\"attributes\":{\"url\":\"https://cartodb-basemaps-4.global.ssl.fastly.net/light_all/{Z}/{X}/{Y}.png\",\"attribution\":\"&copy; <a href=\\\"https://www.openstreetmap.org/copyright\\\">OpenStreetMap</a> contributors, &copy; <a href=\\\"https://cartodb.com/attributions\\\">CartoDB</a>\"}}}},{\"type\":\"object\",\"name\":\"GlyphRenderer\",\"id\":\"p1202\",\"attributes\":{\"data_source\":{\"type\":\"object\",\"name\":\"ColumnDataSource\",\"id\":\"p1193\",\"attributes\":{\"selected\":{\"type\":\"object\",\"name\":\"Selection\",\"id\":\"p1194\",\"attributes\":{\"indices\":[],\"line_indices\":[]}},\"selection_policy\":{\"type\":\"object\",\"name\":\"UnionRenderers\",\"id\":\"p1195\"},\"data\":{\"type\":\"map\",\"entries\":[[\"longitude\",{\"type\":\"ndarray\",\"array\":{\"type\":\"bytes\",\"data\":\"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\"},\"shape\":[452],\"dtype\":\"float64\",\"order\":\"little\"}],[\"latitude\",{\"type\":\"ndarray\",\"array\":{\"type\":\"bytes\",\"data\":\"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\"},\"shape\":[452],\"dtype\":\"float64\",\"order\":\"little\"}]]}}},\"view\":{\"type\":\"object\",\"name\":\"CDSView\",\"id\":\"p1203\",\"attributes\":{\"filter\":{\"type\":\"object\",\"name\":\"AllIndices\",\"id\":\"p1204\"}}},\"glyph\":{\"type\":\"object\",\"name\":\"Scatter\",\"id\":\"p1199\",\"attributes\":{\"tags\":[\"apply_ranges\"],\"x\":{\"type\":\"field\",\"field\":\"longitude\"},\"y\":{\"type\":\"field\",\"field\":\"latitude\"},\"size\":{\"type\":\"value\",\"value\":5.477225575051661},\"line_color\":{\"type\":\"value\",\"value\":\"#E97132\"},\"line_alpha\":{\"type\":\"value\",\"value\":0.7},\"fill_color\":{\"type\":\"value\",\"value\":\"#E97132\"},\"fill_alpha\":{\"type\":\"value\",\"value\":0.7},\"hatch_color\":{\"type\":\"value\",\"value\":\"#E97132\"},\"hatch_alpha\":{\"type\":\"value\",\"value\":0.7}}},\"selection_glyph\":{\"type\":\"object\",\"name\":\"Scatter\",\"id\":\"p1207\",\"attributes\":{\"tags\":[\"apply_ranges\"],\"x\":{\"type\":\"field\",\"field\":\"longitude\"},\"y\":{\"type\":\"field\",\"field\":\"latitude\"},\"size\":{\"type\":\"value\",\"value\":5.477225575051661},\"angle\":{\"type\":\"value\",\"value\":0.0},\"line_color\":{\"type\":\"value\",\"value\":\"#E97132\"},\"line_alpha\":{\"type\":\"value\",\"value\":0.7},\"line_width\":{\"type\":\"value\",\"value\":1},\"line_join\":{\"type\":\"value\",\"value\":\"bevel\"},\"line_cap\":{\"type\":\"value\",\"value\":\"butt\"},\"line_dash\":{\"type\":\"value\",\"value\":[]},\"line_dash_offset\":{\"type\":\"value\",\"value\":0},\"fill_color\":{\"type\":\"value\",\"value\":\"#E97132\"},\"fill_alpha\":{\"type\":\"value\",\"value\":0.7},\"hatch_color\":{\"type\":\"value\",\"value\":\"#E97132\"},\"hatch_alpha\":{\"type\":\"value\",\"value\":0.7},\"hatch_scale\":{\"type\":\"value\",\"value\":12.0},\"hatch_pattern\":{\"type\":\"value\",\"value\":null},\"hatch_weight\":{\"type\":\"value\",\"value\":1.0},\"marker\":{\"type\":\"value\",\"value\":\"circle\"}}},\"nonselection_glyph\":{\"type\":\"object\",\"name\":\"Scatter\",\"id\":\"p1200\",\"attributes\":{\"tags\":[\"apply_ranges\"],\"x\":{\"type\":\"field\",\"field\":\"longitude\"},\"y\":{\"type\":\"field\",\"field\":\"latitude\"},\"size\":{\"type\":\"value\",\"value\":5.477225575051661},\"line_color\":{\"type\":\"value\",\"value\":\"#E97132\"},\"line_alpha\":{\"type\":\"value\",\"value\":0.7},\"fill_color\":{\"type\":\"value\",\"value\":\"#E97132\"},\"fill_alpha\":{\"type\":\"value\",\"value\":0.7},\"hatch_color\":{\"type\":\"value\",\"value\":\"#E97132\"},\"hatch_alpha\":{\"type\":\"value\",\"value\":0.1}}},\"muted_glyph\":{\"type\":\"object\",\"name\":\"Scatter\",\"id\":\"p1201\",\"attributes\":{\"tags\":[\"apply_ranges\"],\"x\":{\"type\":\"field\",\"field\":\"longitude\"},\"y\":{\"type\":\"field\",\"field\":\"latitude\"},\"size\":{\"type\":\"value\",\"value\":5.477225575051661},\"line_color\":{\"type\":\"value\",\"value\":\"#E97132\"},\"line_alpha\":{\"type\":\"value\",\"value\":0.2},\"fill_color\":{\"type\":\"value\",\"value\":\"#E97132\"},\"fill_alpha\":{\"type\":\"value\",\"value\":0.2},\"hatch_color\":{\"type\":\"value\",\"value\":\"#E97132\"},\"hatch_alpha\":{\"type\":\"value\",\"value\":0.2}}}}}],\"toolbar\":{\"type\":\"object\",\"name\":\"Toolbar\",\"id\":\"p1165\",\"attributes\":{\"tools\":[{\"type\":\"object\",\"name\":\"WheelZoomTool\",\"id\":\"p1131\",\"attributes\":{\"renderers\":\"auto\",\"zoom_on_axis\":false}},{\"type\":\"object\",\"name\":\"BoxZoomTool\",\"id\":\"p1137\",\"attributes\":{\"overlay\":{\"type\":\"object\",\"name\":\"BoxAnnotation\",\"id\":\"p1132\",\"attributes\":{\"syncable\":false,\"level\":\"overlay\",\"visible\":false,\"left\":{\"type\":\"number\",\"value\":\"nan\"},\"right\":{\"type\":\"number\",\"value\":\"nan\"},\"top\":{\"type\":\"number\",\"value\":\"nan\"},\"bottom\":{\"type\":\"number\",\"value\":\"nan\"},\"left_units\":\"canvas\",\"right_units\":\"canvas\",\"top_units\":\"canvas\",\"bottom_units\":\"canvas\",\"line_color\":\"black\",\"line_alpha\":1.0,\"line_width\":2,\"line_dash\":[4,4],\"fill_color\":\"lightgrey\",\"fill_alpha\":0.5}},\"match_aspect\":true}},{\"type\":\"object\",\"name\":\"HoverTool\",\"id\":\"p1155\",\"attributes\":{\"tags\":[\"hv_created\"],\"renderers\":[{\"id\":\"p1202\"}],\"tooltips\":[[\"longitude\",\"$x{custom}\"],[\"latitude\",\"$y{custom}\"]],\"formatters\":{\"type\":\"map\",\"entries\":[[\"$x\",{\"type\":\"object\",\"name\":\"CustomJSHover\",\"id\":\"p1205\",\"attributes\":{\"code\":\"\\n        const projections = Bokeh.require(\\\"core/util/projections\\\");\\n        const {snap_x, snap_y} = special_vars\\n        const coords = projections.wgs84_mercator.invert(snap_x, snap_y)\\n        return \\\"\\\" + (coords[0]).toFixed(4)\\n    \"}}],[\"$y\",{\"type\":\"object\",\"name\":\"CustomJSHover\",\"id\":\"p1206\",\"attributes\":{\"code\":\"\\n        const projections = Bokeh.require(\\\"core/util/projections\\\");\\n        const {snap_x, snap_y} = special_vars\\n        const coords = projections.wgs84_mercator.invert(snap_x, snap_y)\\n        return \\\"\\\" + (coords[1]).toFixed(4)\\n    \"}}]]}}},{\"type\":\"object\",\"name\":\"PanTool\",\"id\":\"p1179\"},{\"type\":\"object\",\"name\":\"ResetTool\",\"id\":\"p1180\"}],\"active_drag\":{\"id\":\"p1179\"}}},\"left\":[{\"type\":\"object\",\"name\":\"LinearAxis\",\"id\":\"p1173\",\"attributes\":{\"ticker\":{\"type\":\"object\",\"name\":\"MercatorTicker\",\"id\":\"p1183\",\"attributes\":{\"mantissas\":[1,2,5],\"dimension\":\"lat\"}},\"formatter\":{\"type\":\"object\",\"name\":\"MercatorTickFormatter\",\"id\":\"p1184\",\"attributes\":{\"dimension\":\"lat\"}},\"axis_label\":\"Latitude\",\"major_label_policy\":{\"type\":\"object\",\"name\":\"AllLabels\",\"id\":\"p1176\"}}}],\"below\":[{\"type\":\"object\",\"name\":\"LinearAxis\",\"id\":\"p1168\",\"attributes\":{\"ticker\":{\"type\":\"object\",\"name\":\"MercatorTicker\",\"id\":\"p1181\",\"attributes\":{\"mantissas\":[1,2,5],\"dimension\":\"lon\"}},\"formatter\":{\"type\":\"object\",\"name\":\"MercatorTickFormatter\",\"id\":\"p1182\",\"attributes\":{\"dimension\":\"lon\"}},\"axis_label\":\"Longitude\",\"major_label_policy\":{\"type\":\"object\",\"name\":\"AllLabels\",\"id\":\"p1171\"}}}],\"center\":[{\"type\":\"object\",\"name\":\"Grid\",\"id\":\"p1172\",\"attributes\":{\"axis\":{\"id\":\"p1168\"},\"grid_line_color\":null}},{\"type\":\"object\",\"name\":\"Grid\",\"id\":\"p1177\",\"attributes\":{\"dimension\":1,\"axis\":{\"id\":\"p1173\"},\"grid_line_color\":null}}],\"frame_width\":600,\"frame_height\":700,\"min_border_top\":10,\"min_border_bottom\":10,\"min_border_left\":10,\"min_border_right\":10,\"output_backend\":\"webgl\",\"match_aspect\":true}},{\"type\":\"object\",\"name\":\"Spacer\",\"id\":\"p1209\",\"attributes\":{\"name\":\"HSpacer01856\",\"stylesheets\":[\"\\n:host(.pn-loading):before, .pn-loading:before {\\n  background-color: #c3c3c3;\\n  mask-size: auto calc(min(50%, 400px));\\n  -webkit-mask-size: auto calc(min(50%, 400px));\\n}\",{\"id\":\"p1116\"},{\"id\":\"p1114\"},{\"id\":\"p1115\"}],\"margin\":0,\"sizing_mode\":\"stretch_width\",\"align\":\"start\"}}]}}],\"defs\":[{\"type\":\"model\",\"name\":\"ReactiveHTML1\"},{\"type\":\"model\",\"name\":\"FlexBox1\",\"properties\":[{\"name\":\"align_content\",\"kind\":\"Any\",\"default\":\"flex-start\"},{\"name\":\"align_items\",\"kind\":\"Any\",\"default\":\"flex-start\"},{\"name\":\"flex_direction\",\"kind\":\"Any\",\"default\":\"row\"},{\"name\":\"flex_wrap\",\"kind\":\"Any\",\"default\":\"wrap\"},{\"name\":\"gap\",\"kind\":\"Any\",\"default\":\"\"},{\"name\":\"justify_content\",\"kind\":\"Any\",\"default\":\"flex-start\"}]},{\"type\":\"model\",\"name\":\"FloatPanel1\",\"properties\":[{\"name\":\"config\",\"kind\":\"Any\",\"default\":{\"type\":\"map\"}},{\"name\":\"contained\",\"kind\":\"Any\",\"default\":true},{\"name\":\"position\",\"kind\":\"Any\",\"default\":\"right-top\"},{\"name\":\"offsetx\",\"kind\":\"Any\",\"default\":null},{\"name\":\"offsety\",\"kind\":\"Any\",\"default\":null},{\"name\":\"theme\",\"kind\":\"Any\",\"default\":\"primary\"},{\"name\":\"status\",\"kind\":\"Any\",\"default\":\"normalized\"}]},{\"type\":\"model\",\"name\":\"GridStack1\",\"properties\":[{\"name\":\"mode\",\"kind\":\"Any\",\"default\":\"warn\"},{\"name\":\"ncols\",\"kind\":\"Any\",\"default\":null},{\"name\":\"nrows\",\"kind\":\"Any\",\"default\":null},{\"name\":\"allow_resize\",\"kind\":\"Any\",\"default\":true},{\"name\":\"allow_drag\",\"kind\":\"Any\",\"default\":true},{\"name\":\"state\",\"kind\":\"Any\",\"default\":[]}]},{\"type\":\"model\",\"name\":\"drag1\",\"properties\":[{\"name\":\"slider_width\",\"kind\":\"Any\",\"default\":5},{\"name\":\"slider_color\",\"kind\":\"Any\",\"default\":\"black\"},{\"name\":\"value\",\"kind\":\"Any\",\"default\":50}]},{\"type\":\"model\",\"name\":\"click1\",\"properties\":[{\"name\":\"terminal_output\",\"kind\":\"Any\",\"default\":\"\"},{\"name\":\"debug_name\",\"kind\":\"Any\",\"default\":\"\"},{\"name\":\"clears\",\"kind\":\"Any\",\"default\":0}]},{\"type\":\"model\",\"name\":\"FastWrapper1\",\"properties\":[{\"name\":\"object\",\"kind\":\"Any\",\"default\":null},{\"name\":\"style\",\"kind\":\"Any\",\"default\":null}]},{\"type\":\"model\",\"name\":\"NotificationAreaBase1\",\"properties\":[{\"name\":\"js_events\",\"kind\":\"Any\",\"default\":{\"type\":\"map\"}},{\"name\":\"position\",\"kind\":\"Any\",\"default\":\"bottom-right\"},{\"name\":\"_clear\",\"kind\":\"Any\",\"default\":0}]},{\"type\":\"model\",\"name\":\"NotificationArea1\",\"properties\":[{\"name\":\"js_events\",\"kind\":\"Any\",\"default\":{\"type\":\"map\"}},{\"name\":\"notifications\",\"kind\":\"Any\",\"default\":[]},{\"name\":\"position\",\"kind\":\"Any\",\"default\":\"bottom-right\"},{\"name\":\"_clear\",\"kind\":\"Any\",\"default\":0},{\"name\":\"types\",\"kind\":\"Any\",\"default\":[{\"type\":\"map\",\"entries\":[[\"type\",\"warning\"],[\"background\",\"#ffc107\"],[\"icon\",{\"type\":\"map\",\"entries\":[[\"className\",\"fas fa-exclamation-triangle\"],[\"tagName\",\"i\"],[\"color\",\"white\"]]}]]},{\"type\":\"map\",\"entries\":[[\"type\",\"info\"],[\"background\",\"#007bff\"],[\"icon\",{\"type\":\"map\",\"entries\":[[\"className\",\"fas fa-info-circle\"],[\"tagName\",\"i\"],[\"color\",\"white\"]]}]]}]}]},{\"type\":\"model\",\"name\":\"Notification\",\"properties\":[{\"name\":\"background\",\"kind\":\"Any\",\"default\":null},{\"name\":\"duration\",\"kind\":\"Any\",\"default\":3000},{\"name\":\"icon\",\"kind\":\"Any\",\"default\":null},{\"name\":\"message\",\"kind\":\"Any\",\"default\":\"\"},{\"name\":\"notification_type\",\"kind\":\"Any\",\"default\":null},{\"name\":\"_destroyed\",\"kind\":\"Any\",\"default\":false}]},{\"type\":\"model\",\"name\":\"TemplateActions1\",\"properties\":[{\"name\":\"open_modal\",\"kind\":\"Any\",\"default\":0},{\"name\":\"close_modal\",\"kind\":\"Any\",\"default\":0}]},{\"type\":\"model\",\"name\":\"BootstrapTemplateActions1\",\"properties\":[{\"name\":\"open_modal\",\"kind\":\"Any\",\"default\":0},{\"name\":\"close_modal\",\"kind\":\"Any\",\"default\":0}]},{\"type\":\"model\",\"name\":\"TemplateEditor1\",\"properties\":[{\"name\":\"layout\",\"kind\":\"Any\",\"default\":[]}]},{\"type\":\"model\",\"name\":\"MaterialTemplateActions1\",\"properties\":[{\"name\":\"open_modal\",\"kind\":\"Any\",\"default\":0},{\"name\":\"close_modal\",\"kind\":\"Any\",\"default\":0}]},{\"type\":\"model\",\"name\":\"copy_to_clipboard1\",\"properties\":[{\"name\":\"fill\",\"kind\":\"Any\",\"default\":\"none\"},{\"name\":\"value\",\"kind\":\"Any\",\"default\":null}]}]}};\n",
       "  var render_items = [{\"docid\":\"337fddd7-7b1e-4bbb-88dd-e79ac0e43ac2\",\"roots\":{\"p1113\":\"ebeb6884-3155-4884-a50b-7296b7aefd00\"},\"root_ids\":[\"p1113\"]}];\n",
       "  var docs = Object.values(docs_json)\n",
       "  if (!docs) {\n",
       "    return\n",
       "  }\n",
       "  const py_version = docs[0].version.replace('rc', '-rc.').replace('.dev', '-dev.')\n",
       "  async function embed_document(root) {\n",
       "    var Bokeh = get_bokeh(root)\n",
       "    await Bokeh.embed.embed_items_notebook(docs_json, render_items);\n",
       "    for (const render_item of render_items) {\n",
       "      for (const root_id of render_item.root_ids) {\n",
       "\tconst id_el = document.getElementById(root_id)\n",
       "\tif (id_el.children.length && id_el.children[0].hasAttribute('data-root-id')) {\n",
       "\t  const root_el = id_el.children[0]\n",
       "\t  root_el.id = root_el.id + '-rendered'\n",
       "\t  for (const child of root_el.children) {\n",
       "            // Ensure JupyterLab does not capture keyboard shortcuts\n",
       "            // see: https://jupyterlab.readthedocs.io/en/4.1.x/extension/notebook.html#keyboard-interaction-model\n",
       "\t    child.setAttribute('data-lm-suppress-shortcuts', 'true')\n",
       "\t  }\n",
       "\t}\n",
       "      }\n",
       "    }\n",
       "  }\n",
       "  function get_bokeh(root) {\n",
       "    if (root.Bokeh === undefined) {\n",
       "      return null\n",
       "    } else if (root.Bokeh.version !== py_version) {\n",
       "      if (root.Bokeh.versions === undefined || !root.Bokeh.versions.has(py_version)) {\n",
       "\treturn null\n",
       "      }\n",
       "      return root.Bokeh.versions.get(py_version);\n",
       "    } else if (root.Bokeh.version === py_version) {\n",
       "      return root.Bokeh\n",
       "    }\n",
       "    return null\n",
       "  }\n",
       "  function is_loaded(root) {\n",
       "    var Bokeh = get_bokeh(root)\n",
       "    return (Bokeh != null && Bokeh.Panel !== undefined)\n",
       "  }\n",
       "  if (is_loaded(root)) {\n",
       "    embed_document(root);\n",
       "  } else {\n",
       "    var attempts = 0;\n",
       "    var timer = setInterval(function(root) {\n",
       "      if (is_loaded(root)) {\n",
       "        clearInterval(timer);\n",
       "        embed_document(root);\n",
       "      } else if (document.readyState == \"complete\") {\n",
       "        attempts++;\n",
       "        if (attempts > 200) {\n",
       "          clearInterval(timer);\n",
       "\t  var Bokeh = get_bokeh(root)\n",
       "\t  if (Bokeh == null || Bokeh.Panel == null) {\n",
       "            console.warn(\"Panel: ERROR: Unable to run Panel code because Bokeh or Panel library is missing\");\n",
       "\t  } else {\n",
       "\t    console.warn(\"Panel: WARNING: Attempting to render but not all required libraries could be resolved.\")\n",
       "\t    embed_document(root)\n",
       "\t  }\n",
       "        }\n",
       "      }\n",
       "    }, 25, root)\n",
       "  }\n",
       "})(window);</script>"
      ],
      "text/plain": [
       ":Overlay\n",
       "   .WMTS.I   :WMTS   [Longitude,Latitude]\n",
       "   .Points.I :Points   [longitude,latitude]"
      ]
     },
     "execution_count": 49,
     "metadata": {
      "application/vnd.holoviews_exec.v0+json": {
       "id": "p1113"
      }
     },
     "output_type": "execute_result"
    }
   ],
   "source": [
    "plottable_crimes = crimes[(baton_rouge) & (valid_coordinates)] # Remove the date range\n",
    "\n",
    "drunk_in_statute = plottable_crimes.statute_description.astype('string').fillna('').str.contains('drunk')\n",
    "drunk_in_offense = plottable_crimes.offense_description.astype('string').fillna('').str.contains('drunk')\n",
    "drunk = plottable_crimes[(drunk_in_statute) | (drunk_in_offense)]\n",
    "\n",
    "drunk.hvplot.points('longitude', 'latitude', geo=True, alpha=0.7, tiles='CartoLight', frame_width = 600, frame_height = 700, color='#E97132')"
   ]
  },
  {
   "cell_type": "markdown",
   "metadata": {},
   "source": [
    "## Why are there so many missing `nibrs_code`s?"
   ]
  },
  {
   "cell_type": "code",
   "execution_count": 222,
   "metadata": {},
   "outputs": [
    {
     "name": "stdout",
     "output_type": "stream",
     "text": [
      "non_null                187227\n",
      "null                     89759\n",
      "non_null_pct              68.0\n",
      "type            string[python]\n",
      "Name: nibrs_code, dtype: object\n"
     ]
    }
   ],
   "source": [
    "print(info_df(crimes).loc['nibrs_code', :])"
   ]
  },
  {
   "cell_type": "markdown",
   "metadata": {},
   "source": [
    "## Predicting missing NIBRS data"
   ]
  },
  {
   "cell_type": "markdown",
   "metadata": {},
   "source": [
    "NIBRS code facilitates data comparison with other localities (other states; USA overall).\n",
    "\n",
    "30% of data is missing NIBRS code.  Can existing data (BR data) be used to make a good guess at what the code should be?\n",
    "\n",
    "BR crime information data: statute category, statute description, statute title, and offense description.\n",
    "\n",
    "- Easy target: NIBRS group (A or B, see below)\n",
    "- Hard target: NIBRS code (85 different codes)\n",
    "\n",
    "\n",
    "NIBRS groups crimes into 'A' and 'B' groups. 'A' crimes are serious (theft, assault, narcotics) while Group B crimes are generally less so (disorderly conduct).\n",
    "\n",
    "If we can confidently predict the group of a crime without knowing its NIBRS code, we can use the predictions to characterize the offenses that do not have an NIBRS code."
   ]
  },
  {
   "cell_type": "code",
   "execution_count": 242,
   "metadata": {},
   "outputs": [
    {
     "data": {
      "text/plain": [
       "agency_name                                                  BRPD\n",
       "incident_number                                         24-013858\n",
       "charge_id                    DAF7E01C-0B08-476A-BC5E-1ACD90500641\n",
       "supplemental                                                  0.0\n",
       "charge_date                                   2024-02-11 02:24:24\n",
       "report_date                                   2024-02-12 12:57:17\n",
       "approved_date                                 2024-02-19 03:20:38\n",
       "attempted_committed                                     committed\n",
       "street                                5000 S Sherwood Forest Blvd\n",
       "street_2                                                     <NA>\n",
       "city                                                  Baton Rouge\n",
       "state                                                          LA\n",
       "postal_code                                                 70816\n",
       "district                                                        3\n",
       "zone                                                           3F\n",
       "sub_zone                                                      3F3\n",
       "statute_title                                              11:142\n",
       "statute_description                              reckless driving\n",
       "statute_category                                          traffic\n",
       "crime_against                         person, property,or society\n",
       "nibrs_code                                                    90Z\n",
       "offense_description                            all other offenses\n",
       "council_district                                                8\n",
       "crime_prevention_district                                     NaN\n",
       "neighborhood                                          Jones Creek\n",
       "longitude                                              -91.051604\n",
       "latitude                                                30.408077\n",
       "nibrs_group                                                     B\n",
       "month_year                                    2024-02-01 00:00:00\n",
       "Name: 23195, dtype: object"
      ]
     },
     "execution_count": 242,
     "metadata": {},
     "output_type": "execute_result"
    }
   ],
   "source": [
    "sample = crimes.sample(1).squeeze()\n",
    "sample"
   ]
  },
  {
   "cell_type": "code",
   "execution_count": 244,
   "metadata": {},
   "outputs": [],
   "source": [
    "sample.to_csv('single_sample.csv')"
   ]
  },
  {
   "cell_type": "markdown",
   "metadata": {},
   "source": [
    "### 🚩 Merge in NIBRS code information"
   ]
  },
  {
   "cell_type": "code",
   "execution_count": 50,
   "metadata": {},
   "outputs": [],
   "source": [
    "nibrs_code_groups = nibrs_codes[['nibrs_code', 'nibrs_group']]\n",
    "\n",
    "if not 'nibrs_group' in crimes.columns:\n",
    "    crimes = pd.merge(left=crimes, right=nibrs_code_groups, on='nibrs_code', how='left')\n",
    "\n",
    "# For some reason all the codes have a bunch of extra spaces in them\n",
    "crimes['nibrs_group'] = crimes['nibrs_group'].str.replace(r'\\s+', '', regex=True)\n",
    "crimes['nibrs_group'] = crimes['nibrs_group'].fillna('')\n",
    "\n",
    "has_codes = crimes[(crimes.nibrs_code.notna()) & (crimes.nibrs_code != '90I')] # Exclude runaways"
   ]
  },
  {
   "cell_type": "markdown",
   "metadata": {},
   "source": [
    "### Group balance"
   ]
  },
  {
   "cell_type": "code",
   "execution_count": 51,
   "metadata": {},
   "outputs": [
    {
     "name": "stdout",
     "output_type": "stream",
     "text": [
      "A: 89.14%\n",
      "B: 10.86%\n"
     ]
    }
   ],
   "source": [
    "n = has_codes.shape[0]\n",
    "nA = has_codes[has_codes.nibrs_group=='A'].shape[0]\n",
    "nB = has_codes[has_codes.nibrs_group=='B'].shape[0]\n",
    "pA = nA / n\n",
    "pB = nB / n\n",
    "print(f'A: {pA:.2%}')\n",
    "print(f'B: {pB:.2%}')"
   ]
  },
  {
   "cell_type": "markdown",
   "metadata": {},
   "source": [
    "### Tokenize feature columns"
   ]
  },
  {
   "cell_type": "markdown",
   "metadata": {},
   "source": [
    "#### 🚩 Prep: Replace NaN with empty strings"
   ]
  },
  {
   "cell_type": "code",
   "execution_count": 52,
   "metadata": {},
   "outputs": [],
   "source": [
    "feature_columns = ['statute_description', 'offense_description', 'statute_title', 'statute_category']\n",
    "\n",
    "for c in feature_columns:\n",
    "    is_category = crimes[c].dtype == 'category'\n",
    "    crimes[c] = crimes[c].astype('string').fillna('')\n",
    "    if is_category:\n",
    "        crimes[c] = crimes[c].astype('category')"
   ]
  },
  {
   "cell_type": "markdown",
   "metadata": {},
   "source": [
    "#### Tokenizer function"
   ]
  },
  {
   "cell_type": "code",
   "execution_count": 53,
   "metadata": {},
   "outputs": [],
   "source": [
    "nlp = spacy.load('en_core_web_sm')\n",
    "\n",
    "def get_tokens(text):\n",
    "    all_tokens = nlp(text)\n",
    "    keep_tokens = []\n",
    "    entity_list = [entity_span.text for entity_span in all_tokens.ents] #there shouldn't be any but just in case\n",
    "    for t in all_tokens:\n",
    "        # still works OK on statute titles\n",
    "        if not t.is_stop or t.is_punct or t.is_digit:\n",
    "            if t.text in entity_list:\n",
    "                keep_tokens.append(t.text)\n",
    "            else:\n",
    "                keep_tokens.append(t.lemma_.lower())\n",
    "\n",
    "    return ' '.join(keep_tokens)"
   ]
  },
  {
   "cell_type": "markdown",
   "metadata": {},
   "source": [
    "#### Generate the tokens.  ⚠️ Takes ~40 min to run"
   ]
  },
  {
   "cell_type": "markdown",
   "metadata": {},
   "source": [
    "Save a pickle for future loads"
   ]
  },
  {
   "cell_type": "code",
   "execution_count": null,
   "metadata": {},
   "outputs": [],
   "source": [
    "# tokenized_columns = pd.DataFrame()\n",
    "# for c in feature_columns:\n",
    "#     tokenized_columns[c] = crimes[c].astype('string').apply(get_tokens).astype('string)\n",
    "\n",
    "# with open('tokenized_text_columns.pickle', 'wb') as handle:\n",
    "#     pickle.dump(tokenized_columns, handle)"
   ]
  },
  {
   "cell_type": "markdown",
   "metadata": {},
   "source": [
    "Load the pickle instead when possible"
   ]
  },
  {
   "cell_type": "code",
   "execution_count": 54,
   "metadata": {},
   "outputs": [],
   "source": [
    "with open('tokenized_text_columns.pickle', 'rb') as handle:\n",
    "    tokenized_columns = pickle.load(handle)"
   ]
  },
  {
   "cell_type": "markdown",
   "metadata": {},
   "source": [
    "👇🏽 Can remove this cell after the next token run"
   ]
  },
  {
   "cell_type": "code",
   "execution_count": 55,
   "metadata": {},
   "outputs": [],
   "source": [
    "for c in tokenized_columns.columns:\n",
    "    tokenized_columns[c] = tokenized_columns[c].astype('string')"
   ]
  },
  {
   "cell_type": "markdown",
   "metadata": {},
   "source": [
    "### Things that don't change"
   ]
  },
  {
   "cell_type": "code",
   "execution_count": 56,
   "metadata": {},
   "outputs": [],
   "source": [
    "big_X = tokenized_columns[tokenized_columns.index.isin(has_codes.index)] # only rows that have NIBRS codes\n",
    "y = has_codes[['nibrs_code', 'nibrs_group']]\n",
    "kfold = KFold()"
   ]
  },
  {
   "cell_type": "markdown",
   "metadata": {},
   "source": [
    "### 4 feature columns"
   ]
  },
  {
   "cell_type": "code",
   "execution_count": 57,
   "metadata": {},
   "outputs": [],
   "source": [
    "X_tokens = big_X.agg(' '.join, axis=1)\n",
    "\n",
    "# X_train_tokens, X_test_tokens, y_train, y_test = train_test_split(X_tokens, y)\n",
    "\n",
    "# cv = CountVectorizer()\n",
    "# X_train = cv.fit_transform(X_train_tokens)\n",
    "# X_test = cv.transform(X_test_tokens)"
   ]
  },
  {
   "cell_type": "markdown",
   "metadata": {},
   "source": [
    "### Feature subsets"
   ]
  },
  {
   "cell_type": "code",
   "execution_count": 58,
   "metadata": {},
   "outputs": [],
   "source": [
    "# Set up a dictionary to hold all the information\n",
    "feature_sets = ({\n",
    "    \"all_columns\": {\n",
    "        'columns': ['statute_description', 'offense_description', 'statute_title', 'statute_category'],\n",
    "        'classification_scores': pd.DataFrame(columns=['target', 'model', 'training_score', 'test_score'])\n",
    "    },\n",
    "    \"words_only\" : {\n",
    "        'columns':['statute_description', 'offense_description', 'statute_category'],\n",
    "        'classification_scores': pd.DataFrame(columns=['target', 'model', 'training_score', 'test_score'])\n",
    "    },\n",
    "    \"title_only\" : {\n",
    "        'columns':['statute_title'],\n",
    "        'classification_scores': pd.DataFrame(columns=['target', 'model', 'training_score', 'test_score'])\n",
    "    }\n",
    "})"
   ]
  },
  {
   "cell_type": "markdown",
   "metadata": {},
   "source": [
    "### Easy target: `nibrs_group` (2 classifiers)"
   ]
  },
  {
   "cell_type": "code",
   "execution_count": 59,
   "metadata": {},
   "outputs": [
    {
     "name": "stdout",
     "output_type": "stream",
     "text": [
      "\n",
      "Support Vector Classification:\n",
      "100.00%\n",
      "100.00%\n",
      "\n",
      "Logistic Regression:\n",
      "100.00%\n",
      "99.98%\n",
      "\n",
      "Support Vector Classification:\n",
      "100.00%\n",
      "99.99%\n",
      "\n",
      "Logistic Regression:\n",
      "99.99%\n",
      "99.99%\n",
      "\n",
      "Support Vector Classification:\n",
      "98.61%\n",
      "98.55%\n",
      "\n",
      "Logistic Regression:\n",
      "98.56%\n",
      "98.55%\n"
     ]
    }
   ],
   "source": [
    "models = ({\n",
    "    'Support Vector Classification':SVC(kernel='linear', probability=True),\n",
    "    'Logistic Regression': LogisticRegression()\n",
    "})\n",
    "\n",
    "target = 'nibrs_group'\n",
    "\n",
    "for feature_set_name, feature_set_info in feature_sets.items():\n",
    "    # Select features\n",
    "    columns = feature_set_info['columns']\n",
    "    X_tokens = big_X[columns].agg(' '.join, axis=1)\n",
    "    X_train_tokens, X_test_tokens, y_train, y_test = train_test_split(X_tokens, y)\n",
    "\n",
    "    # Transform to count matrix\n",
    "    vectorizer = CountVectorizer()\n",
    "    X_train = vectorizer.fit_transform(X_train_tokens)\n",
    "    X_test = vectorizer.transform(X_test_tokens)\n",
    "\n",
    "    for model_name, model in models.items():\n",
    "        model.fit(X_train, y_train[target])\n",
    "        \n",
    "        train_results = cross_val_score(model, X_train, y_train[target], cv = kfold).mean()\n",
    "        test_results = cross_val_score(model, X_test, y_test[target], cv=kfold).mean()\n",
    "        \n",
    "        score_df = feature_set_info['classification_scores']\n",
    "        # score_df = pd.concat([score_df, [target, model_name, train_results, test_results]])\n",
    "        score_df.loc[len(score_df)] = [target, model_name, train_results, test_results]\n",
    "        \n",
    "        print(f'\\n{model_name}:')\n",
    "        print(f'{train_results:.2%}')\n",
    "        print(f'{test_results:.2%}')"
   ]
  },
  {
   "cell_type": "code",
   "execution_count": 111,
   "metadata": {},
   "outputs": [],
   "source": [
    "with open('festure_sets_after_easy_model.pickle', 'wb') as handle:\n",
    "    pickle.dump(feature_sets, handle)"
   ]
  },
  {
   "cell_type": "markdown",
   "metadata": {},
   "source": [
    "### Hard target (Random Forest)"
   ]
  },
  {
   "cell_type": "code",
   "execution_count": 113,
   "metadata": {},
   "outputs": [
    {
     "name": "stdout",
     "output_type": "stream",
     "text": [
      "\n",
      "Feature set: all_columns\n",
      "99.98%\n",
      "99.96%\n",
      "\n",
      "Feature set: words_only\n",
      "99.98%\n",
      "99.98%\n",
      "\n",
      "Feature set: title_only\n",
      "77.85%\n",
      "77.94%\n"
     ]
    }
   ],
   "source": [
    "target = 'nibrs_code'\n",
    "\n",
    "for name, feature_set_info in feature_sets.items():\n",
    "    columns = feature_set_info['columns']\n",
    "    X_tokens = big_X[columns].agg(' '.join, axis=1)\n",
    "    X_train_tokens, X_test_tokens, y_train, y_test = train_test_split(X_tokens, y)\n",
    "\n",
    "    vectorizer = CountVectorizer()\n",
    "    X_train = vectorizer.fit_transform(X_train_tokens)\n",
    "    X_test = vectorizer.transform(X_test_tokens)\n",
    "\n",
    "    rfc = RandomForestClassifier()\n",
    "    rfc.fit(X_train, y_train[target])\n",
    "\n",
    "    training_score = cross_val_score(rfc, X_train, y_train[target], cv = kfold).mean()\n",
    "    test_score = cross_val_score(rfc, X_test, y_test[target], cv=kfold).mean()\n",
    "\n",
    "    score_df = feature_set_info['classification_scores']\n",
    "    score_df.loc[len(score_df)] = [target, 'Random Forest', training_score, test_score]\n",
    "\n",
    "    train_pred = pd.DataFrame({'set':'train', 'actual':y_train[target] ,'predictions':rfc.predict(X_train)})\n",
    "    test_pred = pd.DataFrame({'set':'test', 'actual':y_test[target] ,'predictions':rfc.predict(X_test)})\n",
    "    feature_set_info['nibrs_code_predictions'] = pd.concat([train_pred, test_pred])\n",
    "\n",
    "    print(f'\\nFeature set: {name}')\n",
    "    print(f'{training_score:.2%}')\n",
    "    print(f'{test_score:.2%}')"
   ]
  },
  {
   "cell_type": "code",
   "execution_count": 246,
   "metadata": {},
   "outputs": [
    {
     "name": "stdout",
     "output_type": "stream",
     "text": [
      "{'all_columns': {'classification_scores':         target                          model  training_score  test_score\n",
      "0  nibrs_group  Support Vector Classification        0.999993    0.999936\n",
      "1  nibrs_group            Logistic Regression        0.999922    0.999872\n",
      "2   nibrs_code                  Random Forest        0.999793    0.999594,\n",
      "                 'columns': ['statute_description',\n",
      "                             'offense_description',\n",
      "                             'statute_title',\n",
      "                             'statute_category'],\n",
      "                 'nibrs_code_predictions':           set actual predictions\n",
      "159419  train    13B         13B\n",
      "62297   train    290         290\n",
      "26631   train    23F         23F\n",
      "212068  train    290         290\n",
      "53613   train    13B         13B\n",
      "...       ...    ...         ...\n",
      "120022   test    13A         13A\n",
      "158990   test    11A         11A\n",
      "170916   test    290         290\n",
      "165147   test    220         220\n",
      "210867   test    23F         23F\n",
      "\n",
      "[187215 rows x 3 columns]},\n",
      " 'title_only': {'classification_scores':         target                          model  training_score  test_score\n",
      "0  nibrs_group  Support Vector Classification        0.986084    0.985386\n",
      "1  nibrs_group            Logistic Regression        0.985614    0.985129\n",
      "2   nibrs_code                  Random Forest        0.778522    0.779421,\n",
      "                'columns': ['statute_title'],\n",
      "                'nibrs_code_predictions':           set actual predictions\n",
      "198471  train    23F         220\n",
      "271359  train    13C         13C\n",
      "251119  train    90Z         90Z\n",
      "38104   train    23H         23H\n",
      "25221   train    220         220\n",
      "...       ...    ...         ...\n",
      "34349    test    13A         13A\n",
      "150271   test    23F         220\n",
      "32401    test    220         220\n",
      "185240   test    13B         13B\n",
      "92233    test    290         290\n",
      "\n",
      "[187215 rows x 3 columns]},\n",
      " 'words_only': {'classification_scores':         target                          model  training_score  test_score\n",
      "0  nibrs_group  Support Vector Classification        0.999986    0.999957\n",
      "1  nibrs_group            Logistic Regression        0.999915    0.999893\n",
      "2   nibrs_code                  Random Forest        0.999829    0.999808,\n",
      "                'columns': ['statute_description',\n",
      "                            'offense_description',\n",
      "                            'statute_category'],\n",
      "                'nibrs_code_predictions':           set actual predictions\n",
      "171157  train    23F         23F\n",
      "177346  train    290         290\n",
      "260044  train    240         240\n",
      "125446  train    13C         13C\n",
      "271044  train    90Z         90Z\n",
      "...       ...    ...         ...\n",
      "247004   test    23C         23C\n",
      "252004   test    23C         23C\n",
      "18534    test    220         220\n",
      "122248   test    90E         90E\n",
      "151669   test    23C         23C\n",
      "\n",
      "[187215 rows x 3 columns]}}\n"
     ]
    }
   ],
   "source": [
    "pprint.pprint(feature_sets)"
   ]
  },
  {
   "cell_type": "code",
   "execution_count": 248,
   "metadata": {},
   "outputs": [
    {
     "data": {
      "text/html": [
       "<div>\n",
       "<style scoped>\n",
       "    .dataframe tbody tr th:only-of-type {\n",
       "        vertical-align: middle;\n",
       "    }\n",
       "\n",
       "    .dataframe tbody tr th {\n",
       "        vertical-align: top;\n",
       "    }\n",
       "\n",
       "    .dataframe thead th {\n",
       "        text-align: right;\n",
       "    }\n",
       "</style>\n",
       "<table border=\"1\" class=\"dataframe\">\n",
       "  <thead>\n",
       "    <tr style=\"text-align: right;\">\n",
       "      <th></th>\n",
       "      <th>target</th>\n",
       "      <th>model</th>\n",
       "      <th>training_score</th>\n",
       "      <th>test_score</th>\n",
       "    </tr>\n",
       "  </thead>\n",
       "  <tbody>\n",
       "    <tr>\n",
       "      <th>0</th>\n",
       "      <td>nibrs_group</td>\n",
       "      <td>Support Vector Classification</td>\n",
       "      <td>0.999993</td>\n",
       "      <td>0.999936</td>\n",
       "    </tr>\n",
       "    <tr>\n",
       "      <th>1</th>\n",
       "      <td>nibrs_group</td>\n",
       "      <td>Logistic Regression</td>\n",
       "      <td>0.999922</td>\n",
       "      <td>0.999872</td>\n",
       "    </tr>\n",
       "    <tr>\n",
       "      <th>2</th>\n",
       "      <td>nibrs_code</td>\n",
       "      <td>Random Forest</td>\n",
       "      <td>0.999793</td>\n",
       "      <td>0.999594</td>\n",
       "    </tr>\n",
       "  </tbody>\n",
       "</table>\n",
       "</div>"
      ],
      "text/plain": [
       "        target                          model  training_score  test_score\n",
       "0  nibrs_group  Support Vector Classification        0.999993    0.999936\n",
       "1  nibrs_group            Logistic Regression        0.999922    0.999872\n",
       "2   nibrs_code                  Random Forest        0.999793    0.999594"
      ]
     },
     "execution_count": 248,
     "metadata": {},
     "output_type": "execute_result"
    }
   ],
   "source": [
    "feature_sets['all_columns']['classification_scores']"
   ]
  },
  {
   "cell_type": "code",
   "execution_count": null,
   "metadata": {},
   "outputs": [
    {
     "name": "stderr",
     "output_type": "stream",
     "text": [
      "C:\\Users\\jlefe\\AppData\\Local\\Temp\\ipykernel_33300\\2401865484.py:5: FutureWarning: The behavior of DataFrame concatenation with empty or all-NA entries is deprecated. In a future version, this will no longer exclude empty or all-NA columns when determining the result dtypes. To retain the old behavior, exclude the relevant entries before the concat operation.\n",
      "  all_scores = pd.concat([all_scores, cs])\n"
     ]
    }
   ],
   "source": [
    "all_scores = pd.DataFrame(columns=['feature_set', 'target', 'model', 'training_score', 'test_score'])\n",
    "for fs_name, fs_info in feature_sets.items():\n",
    "    cs = fs_info['classification_scores']\n",
    "    cs['feature_set'] = fs_name\n",
    "    all_scores = pd.concat([all_scores, cs])\n",
    "\n",
    "all_scores.to_csv('classification_scores.csv')\n"
   ]
  },
  {
   "cell_type": "code",
   "execution_count": 262,
   "metadata": {},
   "outputs": [],
   "source": [
    "pred = feature_sets['words_only']['nibrs_code_predictions']\n",
    "\n",
    "pred.sample(20).to_csv('predictions_sample.csv', index=False)"
   ]
  },
  {
   "cell_type": "markdown",
   "metadata": {},
   "source": [
    "##### Title as just label-encoding"
   ]
  },
  {
   "cell_type": "code",
   "execution_count": 263,
   "metadata": {},
   "outputs": [
    {
     "name": "stdout",
     "output_type": "stream",
     "text": [
      "Random Forest:\n",
      "10.30%\n",
      "9.90%\n"
     ]
    }
   ],
   "source": [
    "X = has_codes.statute_title.cat.codes.to_frame()\n",
    "z = has_codes['nibrs_code']\n",
    "X_train, X_test, z_train, z_test = train_test_split(X, y)\n",
    "\n",
    "rfc2 = RandomForestClassifier()\n",
    "rfc2.fit(X_train, z_train)\n",
    "\n",
    "train_results = cross_val_score(rfc2, X_train, y_train['nibrs_code'], cv = kfold).mean()\n",
    "test_results = cross_val_score(rfc2, X_test, y_test['nibrs_code'], cv=kfold).mean()\n",
    "print('Random Forest:')\n",
    "print(f'{train_results:.2%}')\n",
    "print(f'{test_results:.2%}')"
   ]
  },
  {
   "cell_type": "markdown",
   "metadata": {},
   "source": [
    "No!"
   ]
  }
 ],
 "metadata": {
  "kernelspec": {
   "display_name": "IOD2",
   "language": "python",
   "name": "python3"
  },
  "language_info": {
   "codemirror_mode": {
    "name": "ipython",
    "version": 3
   },
   "file_extension": ".py",
   "mimetype": "text/x-python",
   "name": "python",
   "nbconvert_exporter": "python",
   "pygments_lexer": "ipython3",
   "version": "3.10.14"
  }
 },
 "nbformat": 4,
 "nbformat_minor": 2
}
